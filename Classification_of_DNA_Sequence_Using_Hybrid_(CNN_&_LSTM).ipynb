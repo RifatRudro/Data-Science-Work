{
  "nbformat": 4,
  "nbformat_minor": 0,
  "metadata": {
    "colab": {
      "provenance": [],
      "mount_file_id": "1gND8XoRETKSyYhxHmmWkHpX0w5iorbD7",
      "authorship_tag": "ABX9TyNw+ePPrMesW1QEz+CIcAl6",
      "include_colab_link": true
    },
    "kernelspec": {
      "name": "python3",
      "display_name": "Python 3"
    },
    "language_info": {
      "name": "python"
    }
  },
  "cells": [
    {
      "cell_type": "markdown",
      "metadata": {
        "id": "view-in-github",
        "colab_type": "text"
      },
      "source": [
        "<a href=\"https://colab.research.google.com/github/RifatRudro/Data-Science-Work/blob/main/Classification_of_DNA_Sequence_Using_Hybrid_(CNN_%26_LSTM).ipynb\" target=\"_parent\"><img src=\"https://colab.research.google.com/assets/colab-badge.svg\" alt=\"Open In Colab\"/></a>"
      ]
    },
    {
      "cell_type": "code",
      "source": [
        "import numpy as np\n",
        "import pandas as pd\n",
        "import seaborn as sns\n",
        "import matplotlib.pyplot as plt\n",
        "from sklearn.feature_extraction.text import CountVectorizer, TfidfVectorizer\n",
        "from imblearn.over_sampling import SMOTE\n",
        "from sklearn.preprocessing import LabelEncoder\n",
        "from sklearn.model_selection import RandomizedSearchCV\n",
        "#from xgboost import XGBClassifier\n",
        "from sklearn.metrics import classification_report\n",
        "from sklearn.feature_selection import SelectKBest, f_classif\n",
        "from sklearn.model_selection import train_test_split\n",
        "from sklearn.metrics import confusion_matrix\n",
        "import warnings\n",
        "warnings.filterwarnings('ignore')"
      ],
      "metadata": {
        "id": "sJ93mZS4o249"
      },
      "execution_count": 2,
      "outputs": []
    },
    {
      "cell_type": "code",
      "source": [
        "DNA = pd.read_csv(\"/content/drive/MyDrive/SKRIPSI_Data_DM_DNA_Sequence.csv\")\n",
        "# see the sample from the dataset\n",
        "DNA.head(20)"
      ],
      "metadata": {
        "colab": {
          "base_uri": "https://localhost:8080/",
          "height": 676
        },
        "id": "r_4P8NVKrymV",
        "outputId": "d1f1da85-1912-432f-bd8b-3cf6f63ab3a1"
      },
      "execution_count": 3,
      "outputs": [
        {
          "output_type": "execute_result",
          "data": {
            "text/plain": [
              "                                             sequence  length class\n",
              "0   AATAATTTGTGCACTTCAGAATATTCTACAATAATATATTATTTCC...    1010  DMT2\n",
              "1   AGTCCTTCGCCGTCCCTCGCCGTCCTTCGCCATCGCACGCCACCGC...    1010  DMT2\n",
              "2   AGTCCTTCGCCGTCCCTCGCCGTCCTTCGCCATCGCACGCCACCGC...    1013  DMT2\n",
              "3   AGTTGGAGTCTCCAGGGATCAGGGTTCCAGGAACTCAGGATCTGCA...    1013  DMT2\n",
              "4   AGTCCTTCGCCGTCCCTCGCCGTCCTTCGCCATCGCACGCCACCGC...    1015  DMT2\n",
              "5   TGTGCACGCACCCTCTCCCTCATCCACCGCTGTCACCTCCTGCTGC...    1017  DMT2\n",
              "6   TGTGCACGCACCCTCTCCCTCATCCACCGCTGTCACCTCCTGCTGC...    1017  DMT1\n",
              "7   AGTCCTTCGCCGTCCCTCGCCGTCCTTCGCCATCGCACGCCACCGC...    1020  DMT2\n",
              "8   ATTAATCCCCTGGCCCAACCCGTCATCTACTCTACCATCTTTGCAG...    1042  DMT2\n",
              "9   AGTCCTTCGCCGTCCCTCGCCGTCCTTCGCCATCGCACGCCACCGC...    1048  DMT2\n",
              "10  AGTCCTTCGCCGTCCCTCGCCGTCCTTCGCCATCGCACGCCACCGC...    1055  DMT2\n",
              "11  AGTCCAAGCTCAGTCAGCAGAAGAGATAAAAGCAAACAGGTCTGGG...    1059  DMT1\n",
              "12  AGTCCTTCGCCGTCCCTCGCCGTCCTTCGCCATCGCACGCCACCGC...    1060  DMT2\n",
              "13  AGTCCTTCGCCGTCCCTCGCCGTCCTTCGCCATCGCACGCCACCGC...    1064  DMT2\n",
              "14  AGTCCTTCGCCGTCCCTCGCCGTCCTTCGCCATCGCACGCCACCGC...    1066  DMT2\n",
              "15  ATGGATTTCCTTCACAGGAATGGAGTGCTCATAATTCAGCATTTGC...    1068  DMT1\n",
              "16  GTCTAAGAGGCAGACAGATACATTGTTCTTCACTGGTCAGCTGAAA...    1075  DMT2\n",
              "17  AGTCCTTCGCCGTCCCTCGCCGTCCTTCGCCATCGCACGCCACCGC...    1075  DMT2\n",
              "18  AGTCCTTCGCCGTCCCTCGCCGTCCTTCGCCATCGCACGCCACCGC...    1078  DMT2\n",
              "19  AGTCCTTCGCCGTCCCTCGCCGTCCTTCGCCATCGCACGCCACCGC...    1082  DMT2"
            ],
            "text/html": [
              "\n",
              "  <div id=\"df-ee548802-7e20-4c17-ab7f-acd3c08ff097\" class=\"colab-df-container\">\n",
              "    <div>\n",
              "<style scoped>\n",
              "    .dataframe tbody tr th:only-of-type {\n",
              "        vertical-align: middle;\n",
              "    }\n",
              "\n",
              "    .dataframe tbody tr th {\n",
              "        vertical-align: top;\n",
              "    }\n",
              "\n",
              "    .dataframe thead th {\n",
              "        text-align: right;\n",
              "    }\n",
              "</style>\n",
              "<table border=\"1\" class=\"dataframe\">\n",
              "  <thead>\n",
              "    <tr style=\"text-align: right;\">\n",
              "      <th></th>\n",
              "      <th>sequence</th>\n",
              "      <th>length</th>\n",
              "      <th>class</th>\n",
              "    </tr>\n",
              "  </thead>\n",
              "  <tbody>\n",
              "    <tr>\n",
              "      <th>0</th>\n",
              "      <td>AATAATTTGTGCACTTCAGAATATTCTACAATAATATATTATTTCC...</td>\n",
              "      <td>1010</td>\n",
              "      <td>DMT2</td>\n",
              "    </tr>\n",
              "    <tr>\n",
              "      <th>1</th>\n",
              "      <td>AGTCCTTCGCCGTCCCTCGCCGTCCTTCGCCATCGCACGCCACCGC...</td>\n",
              "      <td>1010</td>\n",
              "      <td>DMT2</td>\n",
              "    </tr>\n",
              "    <tr>\n",
              "      <th>2</th>\n",
              "      <td>AGTCCTTCGCCGTCCCTCGCCGTCCTTCGCCATCGCACGCCACCGC...</td>\n",
              "      <td>1013</td>\n",
              "      <td>DMT2</td>\n",
              "    </tr>\n",
              "    <tr>\n",
              "      <th>3</th>\n",
              "      <td>AGTTGGAGTCTCCAGGGATCAGGGTTCCAGGAACTCAGGATCTGCA...</td>\n",
              "      <td>1013</td>\n",
              "      <td>DMT2</td>\n",
              "    </tr>\n",
              "    <tr>\n",
              "      <th>4</th>\n",
              "      <td>AGTCCTTCGCCGTCCCTCGCCGTCCTTCGCCATCGCACGCCACCGC...</td>\n",
              "      <td>1015</td>\n",
              "      <td>DMT2</td>\n",
              "    </tr>\n",
              "    <tr>\n",
              "      <th>5</th>\n",
              "      <td>TGTGCACGCACCCTCTCCCTCATCCACCGCTGTCACCTCCTGCTGC...</td>\n",
              "      <td>1017</td>\n",
              "      <td>DMT2</td>\n",
              "    </tr>\n",
              "    <tr>\n",
              "      <th>6</th>\n",
              "      <td>TGTGCACGCACCCTCTCCCTCATCCACCGCTGTCACCTCCTGCTGC...</td>\n",
              "      <td>1017</td>\n",
              "      <td>DMT1</td>\n",
              "    </tr>\n",
              "    <tr>\n",
              "      <th>7</th>\n",
              "      <td>AGTCCTTCGCCGTCCCTCGCCGTCCTTCGCCATCGCACGCCACCGC...</td>\n",
              "      <td>1020</td>\n",
              "      <td>DMT2</td>\n",
              "    </tr>\n",
              "    <tr>\n",
              "      <th>8</th>\n",
              "      <td>ATTAATCCCCTGGCCCAACCCGTCATCTACTCTACCATCTTTGCAG...</td>\n",
              "      <td>1042</td>\n",
              "      <td>DMT2</td>\n",
              "    </tr>\n",
              "    <tr>\n",
              "      <th>9</th>\n",
              "      <td>AGTCCTTCGCCGTCCCTCGCCGTCCTTCGCCATCGCACGCCACCGC...</td>\n",
              "      <td>1048</td>\n",
              "      <td>DMT2</td>\n",
              "    </tr>\n",
              "    <tr>\n",
              "      <th>10</th>\n",
              "      <td>AGTCCTTCGCCGTCCCTCGCCGTCCTTCGCCATCGCACGCCACCGC...</td>\n",
              "      <td>1055</td>\n",
              "      <td>DMT2</td>\n",
              "    </tr>\n",
              "    <tr>\n",
              "      <th>11</th>\n",
              "      <td>AGTCCAAGCTCAGTCAGCAGAAGAGATAAAAGCAAACAGGTCTGGG...</td>\n",
              "      <td>1059</td>\n",
              "      <td>DMT1</td>\n",
              "    </tr>\n",
              "    <tr>\n",
              "      <th>12</th>\n",
              "      <td>AGTCCTTCGCCGTCCCTCGCCGTCCTTCGCCATCGCACGCCACCGC...</td>\n",
              "      <td>1060</td>\n",
              "      <td>DMT2</td>\n",
              "    </tr>\n",
              "    <tr>\n",
              "      <th>13</th>\n",
              "      <td>AGTCCTTCGCCGTCCCTCGCCGTCCTTCGCCATCGCACGCCACCGC...</td>\n",
              "      <td>1064</td>\n",
              "      <td>DMT2</td>\n",
              "    </tr>\n",
              "    <tr>\n",
              "      <th>14</th>\n",
              "      <td>AGTCCTTCGCCGTCCCTCGCCGTCCTTCGCCATCGCACGCCACCGC...</td>\n",
              "      <td>1066</td>\n",
              "      <td>DMT2</td>\n",
              "    </tr>\n",
              "    <tr>\n",
              "      <th>15</th>\n",
              "      <td>ATGGATTTCCTTCACAGGAATGGAGTGCTCATAATTCAGCATTTGC...</td>\n",
              "      <td>1068</td>\n",
              "      <td>DMT1</td>\n",
              "    </tr>\n",
              "    <tr>\n",
              "      <th>16</th>\n",
              "      <td>GTCTAAGAGGCAGACAGATACATTGTTCTTCACTGGTCAGCTGAAA...</td>\n",
              "      <td>1075</td>\n",
              "      <td>DMT2</td>\n",
              "    </tr>\n",
              "    <tr>\n",
              "      <th>17</th>\n",
              "      <td>AGTCCTTCGCCGTCCCTCGCCGTCCTTCGCCATCGCACGCCACCGC...</td>\n",
              "      <td>1075</td>\n",
              "      <td>DMT2</td>\n",
              "    </tr>\n",
              "    <tr>\n",
              "      <th>18</th>\n",
              "      <td>AGTCCTTCGCCGTCCCTCGCCGTCCTTCGCCATCGCACGCCACCGC...</td>\n",
              "      <td>1078</td>\n",
              "      <td>DMT2</td>\n",
              "    </tr>\n",
              "    <tr>\n",
              "      <th>19</th>\n",
              "      <td>AGTCCTTCGCCGTCCCTCGCCGTCCTTCGCCATCGCACGCCACCGC...</td>\n",
              "      <td>1082</td>\n",
              "      <td>DMT2</td>\n",
              "    </tr>\n",
              "  </tbody>\n",
              "</table>\n",
              "</div>\n",
              "    <div class=\"colab-df-buttons\">\n",
              "\n",
              "  <div class=\"colab-df-container\">\n",
              "    <button class=\"colab-df-convert\" onclick=\"convertToInteractive('df-ee548802-7e20-4c17-ab7f-acd3c08ff097')\"\n",
              "            title=\"Convert this dataframe to an interactive table.\"\n",
              "            style=\"display:none;\">\n",
              "\n",
              "  <svg xmlns=\"http://www.w3.org/2000/svg\" height=\"24px\" viewBox=\"0 -960 960 960\">\n",
              "    <path d=\"M120-120v-720h720v720H120Zm60-500h600v-160H180v160Zm220 220h160v-160H400v160Zm0 220h160v-160H400v160ZM180-400h160v-160H180v160Zm440 0h160v-160H620v160ZM180-180h160v-160H180v160Zm440 0h160v-160H620v160Z\"/>\n",
              "  </svg>\n",
              "    </button>\n",
              "\n",
              "  <style>\n",
              "    .colab-df-container {\n",
              "      display:flex;\n",
              "      gap: 12px;\n",
              "    }\n",
              "\n",
              "    .colab-df-convert {\n",
              "      background-color: #E8F0FE;\n",
              "      border: none;\n",
              "      border-radius: 50%;\n",
              "      cursor: pointer;\n",
              "      display: none;\n",
              "      fill: #1967D2;\n",
              "      height: 32px;\n",
              "      padding: 0 0 0 0;\n",
              "      width: 32px;\n",
              "    }\n",
              "\n",
              "    .colab-df-convert:hover {\n",
              "      background-color: #E2EBFA;\n",
              "      box-shadow: 0px 1px 2px rgba(60, 64, 67, 0.3), 0px 1px 3px 1px rgba(60, 64, 67, 0.15);\n",
              "      fill: #174EA6;\n",
              "    }\n",
              "\n",
              "    .colab-df-buttons div {\n",
              "      margin-bottom: 4px;\n",
              "    }\n",
              "\n",
              "    [theme=dark] .colab-df-convert {\n",
              "      background-color: #3B4455;\n",
              "      fill: #D2E3FC;\n",
              "    }\n",
              "\n",
              "    [theme=dark] .colab-df-convert:hover {\n",
              "      background-color: #434B5C;\n",
              "      box-shadow: 0px 1px 3px 1px rgba(0, 0, 0, 0.15);\n",
              "      filter: drop-shadow(0px 1px 2px rgba(0, 0, 0, 0.3));\n",
              "      fill: #FFFFFF;\n",
              "    }\n",
              "  </style>\n",
              "\n",
              "    <script>\n",
              "      const buttonEl =\n",
              "        document.querySelector('#df-ee548802-7e20-4c17-ab7f-acd3c08ff097 button.colab-df-convert');\n",
              "      buttonEl.style.display =\n",
              "        google.colab.kernel.accessAllowed ? 'block' : 'none';\n",
              "\n",
              "      async function convertToInteractive(key) {\n",
              "        const element = document.querySelector('#df-ee548802-7e20-4c17-ab7f-acd3c08ff097');\n",
              "        const dataTable =\n",
              "          await google.colab.kernel.invokeFunction('convertToInteractive',\n",
              "                                                    [key], {});\n",
              "        if (!dataTable) return;\n",
              "\n",
              "        const docLinkHtml = 'Like what you see? Visit the ' +\n",
              "          '<a target=\"_blank\" href=https://colab.research.google.com/notebooks/data_table.ipynb>data table notebook</a>'\n",
              "          + ' to learn more about interactive tables.';\n",
              "        element.innerHTML = '';\n",
              "        dataTable['output_type'] = 'display_data';\n",
              "        await google.colab.output.renderOutput(dataTable, element);\n",
              "        const docLink = document.createElement('div');\n",
              "        docLink.innerHTML = docLinkHtml;\n",
              "        element.appendChild(docLink);\n",
              "      }\n",
              "    </script>\n",
              "  </div>\n",
              "\n",
              "\n",
              "<div id=\"df-cb4670d1-c1ca-4f6f-b798-3d4bee1890f8\">\n",
              "  <button class=\"colab-df-quickchart\" onclick=\"quickchart('df-cb4670d1-c1ca-4f6f-b798-3d4bee1890f8')\"\n",
              "            title=\"Suggest charts\"\n",
              "            style=\"display:none;\">\n",
              "\n",
              "<svg xmlns=\"http://www.w3.org/2000/svg\" height=\"24px\"viewBox=\"0 0 24 24\"\n",
              "     width=\"24px\">\n",
              "    <g>\n",
              "        <path d=\"M19 3H5c-1.1 0-2 .9-2 2v14c0 1.1.9 2 2 2h14c1.1 0 2-.9 2-2V5c0-1.1-.9-2-2-2zM9 17H7v-7h2v7zm4 0h-2V7h2v10zm4 0h-2v-4h2v4z\"/>\n",
              "    </g>\n",
              "</svg>\n",
              "  </button>\n",
              "\n",
              "<style>\n",
              "  .colab-df-quickchart {\n",
              "      --bg-color: #E8F0FE;\n",
              "      --fill-color: #1967D2;\n",
              "      --hover-bg-color: #E2EBFA;\n",
              "      --hover-fill-color: #174EA6;\n",
              "      --disabled-fill-color: #AAA;\n",
              "      --disabled-bg-color: #DDD;\n",
              "  }\n",
              "\n",
              "  [theme=dark] .colab-df-quickchart {\n",
              "      --bg-color: #3B4455;\n",
              "      --fill-color: #D2E3FC;\n",
              "      --hover-bg-color: #434B5C;\n",
              "      --hover-fill-color: #FFFFFF;\n",
              "      --disabled-bg-color: #3B4455;\n",
              "      --disabled-fill-color: #666;\n",
              "  }\n",
              "\n",
              "  .colab-df-quickchart {\n",
              "    background-color: var(--bg-color);\n",
              "    border: none;\n",
              "    border-radius: 50%;\n",
              "    cursor: pointer;\n",
              "    display: none;\n",
              "    fill: var(--fill-color);\n",
              "    height: 32px;\n",
              "    padding: 0;\n",
              "    width: 32px;\n",
              "  }\n",
              "\n",
              "  .colab-df-quickchart:hover {\n",
              "    background-color: var(--hover-bg-color);\n",
              "    box-shadow: 0 1px 2px rgba(60, 64, 67, 0.3), 0 1px 3px 1px rgba(60, 64, 67, 0.15);\n",
              "    fill: var(--button-hover-fill-color);\n",
              "  }\n",
              "\n",
              "  .colab-df-quickchart-complete:disabled,\n",
              "  .colab-df-quickchart-complete:disabled:hover {\n",
              "    background-color: var(--disabled-bg-color);\n",
              "    fill: var(--disabled-fill-color);\n",
              "    box-shadow: none;\n",
              "  }\n",
              "\n",
              "  .colab-df-spinner {\n",
              "    border: 2px solid var(--fill-color);\n",
              "    border-color: transparent;\n",
              "    border-bottom-color: var(--fill-color);\n",
              "    animation:\n",
              "      spin 1s steps(1) infinite;\n",
              "  }\n",
              "\n",
              "  @keyframes spin {\n",
              "    0% {\n",
              "      border-color: transparent;\n",
              "      border-bottom-color: var(--fill-color);\n",
              "      border-left-color: var(--fill-color);\n",
              "    }\n",
              "    20% {\n",
              "      border-color: transparent;\n",
              "      border-left-color: var(--fill-color);\n",
              "      border-top-color: var(--fill-color);\n",
              "    }\n",
              "    30% {\n",
              "      border-color: transparent;\n",
              "      border-left-color: var(--fill-color);\n",
              "      border-top-color: var(--fill-color);\n",
              "      border-right-color: var(--fill-color);\n",
              "    }\n",
              "    40% {\n",
              "      border-color: transparent;\n",
              "      border-right-color: var(--fill-color);\n",
              "      border-top-color: var(--fill-color);\n",
              "    }\n",
              "    60% {\n",
              "      border-color: transparent;\n",
              "      border-right-color: var(--fill-color);\n",
              "    }\n",
              "    80% {\n",
              "      border-color: transparent;\n",
              "      border-right-color: var(--fill-color);\n",
              "      border-bottom-color: var(--fill-color);\n",
              "    }\n",
              "    90% {\n",
              "      border-color: transparent;\n",
              "      border-bottom-color: var(--fill-color);\n",
              "    }\n",
              "  }\n",
              "</style>\n",
              "\n",
              "  <script>\n",
              "    async function quickchart(key) {\n",
              "      const quickchartButtonEl =\n",
              "        document.querySelector('#' + key + ' button');\n",
              "      quickchartButtonEl.disabled = true;  // To prevent multiple clicks.\n",
              "      quickchartButtonEl.classList.add('colab-df-spinner');\n",
              "      try {\n",
              "        const charts = await google.colab.kernel.invokeFunction(\n",
              "            'suggestCharts', [key], {});\n",
              "      } catch (error) {\n",
              "        console.error('Error during call to suggestCharts:', error);\n",
              "      }\n",
              "      quickchartButtonEl.classList.remove('colab-df-spinner');\n",
              "      quickchartButtonEl.classList.add('colab-df-quickchart-complete');\n",
              "    }\n",
              "    (() => {\n",
              "      let quickchartButtonEl =\n",
              "        document.querySelector('#df-cb4670d1-c1ca-4f6f-b798-3d4bee1890f8 button');\n",
              "      quickchartButtonEl.style.display =\n",
              "        google.colab.kernel.accessAllowed ? 'block' : 'none';\n",
              "    })();\n",
              "  </script>\n",
              "</div>\n",
              "\n",
              "    </div>\n",
              "  </div>\n"
            ],
            "application/vnd.google.colaboratory.intrinsic+json": {
              "type": "dataframe",
              "variable_name": "DNA",
              "summary": "{\n  \"name\": \"DNA\",\n  \"rows\": 1577,\n  \"fields\": [\n    {\n      \"column\": \"sequence\",\n      \"properties\": {\n        \"dtype\": \"string\",\n        \"num_unique_values\": 1523,\n        \"samples\": [\n          \"GCCGAGCCCGGAAGAGGCGCGGGCTAGGAAAGGAGTTGGTTCGCGCAGGTGCGGCGCCTGGGTCCCCATGGCGCTGTGGCGCGGCTCCGCGTACGCGGGCTTCCTGGCGCTGGCCGTGGGCTGCGTCTTCCTGCTGGAGCCAGAGCTGCCAGGCTCGGCGCTGCGCTCTCTCTGGAGCTCGCTGTGTCTGGGGCCCGCGCCTGCGCCCCCGGGACCCGTCTCCCCCGAGGGCCGGTTGGCGGCAGCCTGGGACGCGCTTATCGTGCGGCCAGTCCGGCGCTGGCGCCGCGTGGCAGTGGGAGTCAATGCATGTGTTGATGTGGTGCTCTCAGGGGTGAAGCTCTTGCAGGCACTTGGCCTTAGTCCTGGGAATGGGAAAGATCACAGCATTCTGCATTCAAGGAATGATCTGGAAGAAGCCTTCATTCACTTCATGGGGAAGGGAGCAGCTGCTGAGCGCTTCTTCAGTGATAAGGAAACTTTTCACGACATTGCCCAGGTTGCATCAGAGTTCCCAGGAGCCCAGCACTATGTAGGAGGAAATGCAGCTTTAATTGGACAGAAATTTGCAGCCAACTCAGATTTAAAGGTTCTTCTTTGCGGTCCAGTTGGTCCAAAGCTACATGAGCTTCTTGATGACAATGTCTTTGTTCCACCAGAGTCATTGCAGGAAGTGGATGAGTTCCACCTCATTTTAGAGTATCAAGCAGGGGAGGAGTGGGGCCAGTTAAAAGCTCCCCATGCCAACCGATTCATCTTCTCTCACGACCTCTCCAACGGGGCCATGAATATGCTGGAGGTGTTTGTGTCTAGCCTGGAGGAGTTTCAGCCAGACCTGGTGGTCCTCTCTGGATTGCACATGATGGAGGGACAAAGCAAGGAGCTCCAGAGGAAGAGACTCTTGGAGGTTGTAACCTCCATTTCTGACATCCCCACTGGTATTCCAGTTCACCTAGAGCTGGCCAGTATGACTAACAGGGAGCTCATGAGCAGCATTGTCCATCAGCAGGTCTTTCCCGCGGTGACTTCCCTTGGGCTGAATGAACAGGAGCTGTTATTTCTCACCCAGTCAGCCTCTGGACCTCACTCTTCTCTCTCTTCCTGGAACGGTGTTCCTGATGTGGGCATGGTCAGTGACATCCTCTTCTGGATCTTGAAAGAACATGGGAGGAGTAAAAGCAGAGCCTCGGATCTCACCAGGATCCATTTCCACACGCTGGTCTACCACATCCTGGCAACTGTGGATGGACACTGGGCCAACCAGCTGGCAGCCGTGGCTGCAGGAGCTCGTGTGGCTGGGACACAGGCCTGCGCCACAGAAACCATAGACACCAGCCGAGTGTCTCTGAGGGCACCCCAAGAGTTCATGACTTCCCATTCGGAGGCAGGCTCCAGGATTGTATTAAACCCAAACAAGCCAGTAGTAGAATGGCACAGAGAGGGAATATCCTTCCACTTCACACCAGTATTGGTGTGTAAAGACCCCATTCGAACTGTAGGCCTTGGAGATGCCATTTCAGCCGAAGGACTCTTCTATTCGGAAGTACACCCTCACTATTAGGAAGATTCTTAGGGGTAATTTTTCTGAGGAAGGAGAACTAGCCAACTTAAGAATTACAGGAAGAAAGTGGTTTGGAAGACAGCCAAAGAAATAAAAGCAGATTAAACTGTATCAGGTACATTCCAGCCTGTTGGCAACTCCATAAAAACATTTCAGATTTTAATCCGAATTTAGCTAATGAGACTGGATTTTTGTTTTTTATGTTGTGTGTCACAGAGCTAAAAACTCAGTTCCCAAATCCCCAGTTTATGCAGCGCCATCAGGTATTTTAAGCTAAACTTCTTCACCCCTGAGAGCATGTCAGCTGGAGAAAAGCAGTTCTTCCTTGCCCACTTGAGAAGTGCACGCCCACTCACCCAACATCCTGGTCTCTAGGAAAGCCTCATGTGAGGTTCCTCTTTCTTTCAGCTCAGTGCCCATGGGCAAGGATCATGATTTCCATTCCGTGTTACAATGACAATATTTAATGAGCATAACCTTCTCAGTCTCCTGCTCTCAAATTTAGGACAGAGCCGCTAAGGACAAAACAATCCCTCCCGTGCTTTATGATGGCAGCAGGGGCTGGGGAGCCTCTGAGGGACTCTTTCATTCTGCAGTTGTCTGGAAGCCTGGGTGGCGTCATGAGCTGAAGGATCATGCTTTCCTGTCCTGGCTCCATAGGTTATAGGCTGGCTGGTGAAAGGTTCACGTGGCCCAGGCTGAACTTCATTGCCTAGCTTTGGATGTGCTTTCTGCCATAAAGACTGATTTTTGTTCGTTCTGAGCCTTCAAGGAATTTGTTTTTTACAACTGGAATATGCTCCTGTGTGTGTTAACAGATCATGGATGTTTTATGTTTTCACTGATCATTTAAAGAGTTTGACCTCAGAGCTCCAGGATCATCAGTAAATTTGTCATGTTATATATTTATTTTTTTATAAATCAAGACTTCTGTGTGCTCTTAAATATATTAAAAACAATTTACATTTCAGGAATTCTGTCTGTAATTGATTTTTGTCTCCATCACCACTCTGGAACCAGATAAGATAAAAATCATTCTGATCTTCA\",\n          \"GGGGCCGGGCGGCTGCAATATGGCGGAGGCGGAAGGGGAAAGCCTGGAGTCCTGGCTCATACCTGGGGGACAGGGTGTCTGAGAAAGTGAAGACCAAGGTTATTGAGCTGCTGTACAGCTGGACCATGGCCCTGCCAGAAGAAGCAAAGATCAAAGACGCCTACCACATGCTGAAGAGACAGGGCATAGTGCAGTCTGACCCACCAATTCCTGTGGATAGGACGCTGATCCCCTCTCCACCACCTCGTCCCAAAAACCCTGTTTTTGATGATGAGGAGAAGTCCAAGCTTTTAGCCAAGCTGCTGAAAAGCAAAAACCCAGATGACCTGCAGGAGGCCAACAAGCTCATCAAGTCCATGGTGAAGGAAGACGAGGCACGGATCCAGAAGGTGACCAAGCGTCTGCACACGTTAGAGGAAGTTAACAACAACGTGAGACTGCTCAGTGAGATGCTGCTTCATTACAGCCAGGAGGACTCTTCGGACGGGGACAGAGAGCTGATGAAGGAGCTGTTTGATCAGTGTGAGAACAAGAGGCGGACTTTATTTAAACTCGCCAGTGAGACTGAGGACAATGATAACAGTTTGGGGGACATCCTGCAAGCCAGTGACAACCTCTCCCGGGTCATCAACTCTTACAAAACAATTATTGAAGGGCAGGTCATCAATGGCGAGGTGGCTACCTTAACCCTGCCTGACTCGGAAGGAAACAGTCAGTGCAGTAACCAAGGCACGCTCATCGACCTTGCGGAGCTGGACACGACCAACAGTTTGTCCTCCGTGTTGGCCCCAGCACCTACTCCACCCTCCTCAGGCATCCCAATCCTCCCTCCACCACCCCAGGCCTCAGGACCTCCACGGAGCCGCTCCTCTAGCCAGGCCGAGGCCACCCTGGGGCCCAGCAGCACAAGCAACGCCCTCTCCTGGCTGGACGAGGAGCTACTCTGCTTGGGCCTCGCCGACCCAGCCCCTAATGTTCCTCCCAAAGAGTCAGCTGGGAACAGCCAGTGGCACCTGCTCCAGAGGGAACAGTCCGACCTGGACTTCTTCAGCCCCAGGCCGGGGACCGCTGCCTGTGGCGCCTCCGATGCTCCTCTGCTCCAGCCCTCAGCCCCCTCCTCAAGCAGCTCCCAAGCTCCACTGCCGCCTCCCTTCCCAGCTCCTGTGGTCCCAGCCAGTGTTCCTGCCCCCAGTGCGGGCTCCTCCTTGTTTTCTACTGGAGTGGCCCCAGCCTTGGCCCCAAAAGTTGAGCCCGCAGTCCCTGGGCACCATGGCTTGGCGTTGGGCAACAGCGCGCTGCACCACCTGGATGCCCTCGATCAGCTTCTAGAAGAGGCCAAAGTGACCTCGGGCTTGGTGAAACCCACTACCTCCCCTCTCATCCCCACCACCACCCCAGCCAGGCCCCTCCTGCCCTTCTCCACGGGGCCCGGCAGCCCGCTCTTCCAGCCACTGAGTTTCCAGTCCCAGGGCAGCCCCCCGAAGGGGCCTGAGCTCTCCCTGGCCAGCATCCACGTGCCCCTGGAATCGATCAAGCCTAGCAGTGCCCTTCCTGTGACAGCCTACGATAAAAACGGCTTCCGCATCCTCTTCCACTTTGCCAAGGAGTGTCCCCCAGGACGACCTGACGTGCTGGTGGTGGTGGTGTCCATGCTGAACACGGCTCCCTTACCTGTCAAGAGCATCGTGCTGCAGGCTGCAGTGCCCAAGTCAATGAAAGTGAAGTTGCAGCCACCTTCTGGGACAGAACTCTCTCCATTTAGCCCCATCCAGCCACCTGCAGCCATCACCCAGGTCATGTTGCTGGCCAATCCACTGAAGGAGAAGGTGCGGCTTCGGTATAAGCTGACCTTCGCCCTGGGGGAGCAGCTGAGCACAGAGGTGGGCGAGGTGGACCAGTTCCCTCCTGTGGAACAGTGGGGGAACCTATGACCCCAGAGGACGCTGTGATCTCCACCTTGAAGCCAGGCAGGCTGCCCTGAGACGAGGAGGGCTCTGGTCCCGTCACTCTCCATGCCCTGACAACAGTGCTTGTAGCTTTGATGTGGAACAGGGGCCCTGGGCATTTCTGCTGAGAACCAAACTGCTGCTGTGATAACCTCTCCTTTGGCCCCTAAAAGGACCTGTTTTTATCTACCTGTGTGACTTGAAGTGGCCATATGCTGTCAGGGGTGCGGAGTGGCCCCTGACTTCACTGCTGTCCCGGGAACATGGACCCCCAGGCTTGGCGTAGGTGTTTGCTTCCTTCTACTGGCATTCACTGAAGCCACTGGGGTGGGGGGTGGGGGGTGGGAGTCTCTAAAGAGAGACTGTCATGGGTCATTCCCCACAAGAGCCACATCCTCACACCTGACAGATGCACGGCCCAAGGGGCTGCAGCCCTGTTGCAATTCCATGCTTCCCCCGCCAACCAGCTCCTGCTGCCATCCCCAGGGAGGTGGCCCAGGAAGGTGCCTGGCCCAGAATAAGGAACTGGCATACTGCAAAGTCCCCAGCCCTGCCTCTGGTGGACAGCATCGTCCTGGAATGGCCACGGAGTGATGAGTTGTGTGCTTGTCCCTGGCAGTGGCAGGCTGTGTCCTATGGACATCTTGGCAGGACATGGAATTTGGCCTCATGACAGGCCCAACTAGGGATAGGAAGGAAAATGAAGAGAGCCAGTATTTCCCCTTCTCCAGAAGCAGGTACTCAGCTTTCTGGGAAAAGCGTGCCTCCAGCCGTGGGGACAGGCCATCCTACTGACTACCTCTTGCTTGGCATGAAATAAACTGCTATCCTCCCCTTGGAATCTACCGCCACTCTACATCCTACTGCTTTGGCCTCCCTCTCCTCTCACCAGATGGCATGTGGTGTGGCACCTGTGGCTGGACACAGGAGGCCTCAGGATCACAAATGTTACACTAGACATATGTCCTAATGTGCTGCCCAGAAACCTCAACTGTTCCCCAGCTACTGAGGGGCACTGTCAGCGAGATGTTGGGTCTGGAGGTGATGAGATCGGGCCACACTTGAGCTGAGTCACCAGACCCTATTGCTTCAACAGTGCTTGGCCCCCGCCAGCTTGTCCCAGCCACTCTAGCTGCTGGATGTGATCCTGGGACATGTACTCCAAGCCTCCGTCACAAAAAAAAAATCACCAGCTGCCATAGACACGGGGGAAGCTTGCGGAGCCCAGGTGAACAAGCTCAGCAATCGGACATCTCTGGGGAAAGGAAGGTGGCACAGACCATGTTCCCTGGTTCCTCCCTGCCCCTTGCCAGGCTTCCTTATTCCTTACTATGGGAAGAGGTCATATCCCTTCCCTGCCCCTCGCTGTCTTTAGCAAGCAGGTTTCACTGCTTCATTAGAAGAGGACAAGTCAAAAGTGAATCATTTTTCACTACTTAAGGAATAAATCCAAGAGCTTTCCAGAGACTGGCTGCTGCAGCCCTGGGAATGTCTGTGGAATTACTATGTGGAAATGGAACTTTGTGTTATGCTCTAGACATTACAGTTATTTGAGTGTTACTCGTTACTGTTGAGGTCAGTGCTTCGTGGCAAATGGCTGTACTGGATATCCCAGCTCTGCTGCCCTTGTTTTGCTGCATGTTAAATAAAACCATTTTCACTGTA\",\n          \"GTGACGGGAAGCGGCGGCTGCGGGGTCGGGCCAGCCCAGGAGCCGCGGGCCGGAGCGGGGCGGCGGGGCCCCAGGCCGCGGGGCGGCGCGGGACGGCGGGCGCCGGCGCCGCAGATCAGCCAGTAGACATGATGAGCATCAAAGCCTTTACGCTTGTCTCTGCTGTGGAGCGGGAGCTGCTGATGGGCGACAAGGAGCGCGTCAACATAGAGTGCGTGGAGTGCTGCGGCAGGGACCTCTACGTGGGCACCAACGACTGCTTCGTCTACCACTTCCTGTTGGAGGAGAGGCCAGTGCCTGCTGGGCCAGCCACGTTCACTGCCACCAAACAGCTGCAGAGACACTTGGGCTTCAAGAAGCCCGTGAACGAGCTGCGTGCGGCCTCAGCACTCAACAGGCTGCTGGTGCTGTGTGACAACTCCATCAGCCTGGTCAACATGCTGAACCTCGAGCCAGTGCCTTCGGGGGCCCGCATCAAGGGGGCAGCCACGTTTGCACTGAACGAGAACCCTGTGAGTGGGGACCCCTTCTGTGTAGAAGTTTGCATCATCTCTGTCAAACGCAGAACCATCCAGATGTTTCTGGTGTACGAGGACCGGGTGCAGATCGTCAAGGAGGTGTCGACTGCCGAGCAGCCCCTCGCTGTGGCTGTGGACGGCCACTTCCTGTGTCTGGCTCTGACCACTCAGTACATCATCCACAATTACAGCACAGGCGTCTCCCAGGACCTGTTTCCCTACTGCAGTGAGGAGAGGCCGCCGATCGTCAAGAGGATAGGGAGACAGGAGTTCCTGCTGGCGGGCCCCGGAGGGCTGGGCATGTTTGCCACAGTCGCAGGGATATCCCAGCGCGCCCCCGTGCACTGGTCGGAGAATGTGATTGGGGCGGCTGTGTCCTTTCCATACGTCATAGCGCTCGATGACGAATTCATCACAGTCCACAGCATGTTGGATCAGCAACAGAAGCAGACGCTGCCCTTTAAGGAGGGCCATATCCTACAGGACTTTGAAGGAAGAGTGATCGTTGCCACAAGTAAAGGAGTTTACATCTTGGTTCCATTACCTTTGGAAAAACAAATACAGGATCTTCTAGCAAGCCGCAGAGTAGAAGAGGCTTTGGTTTTAGCAAAAGGAGCCCGGAGGAACATTCCAAAGGAAAAATTTCAGGTAATGTACAGAAGGATTCTGCAGCAGGCGGGATTTATACAGTTTGCACAACTTCAGTTCCTGGAAGCTAAAGAGCTCTTCAGAAGCGGCCAGCTTGATGTCCGGGAGCTGATCTCTCTCTACCCCTTCCTGTTGCCCACCTCCTCCTCCTTCACCCGGTCCCACCCTCCTCTTCATGAGTACGCAGACCTGAACCAGCTGACCCAGGGGGACCAGGAGAAGATGGCCAAGTGCAAACGCTTCCTCATGAGCTACCTGAACGAGGTCCGCAGCACAGAGGTAGCAAATGGCTACAAGGAGGACATCGACACAGCCTTGCTCAAACTGTATGCAGAGGCTGACCACGACAGCCTGCTGGACCTCCTGGTCACTGAGAACTTCTGTCTTCTGACGGACAGTGCTGCCTGGCTAGAGAAGCACAAAAAGTATTTTGCACTTGGACTGCTCTATCATTATAATAACCAAGATGCTGCTGCAGTTCAGTTGTGGGTGAACATTGTGAATGGCGATGTCCAGGACTCCACACGCTCAGACCTGTATGAATACATCGTGGATTTTCTTACCTACTGCTTAGACGAGGAACTAGTGTGGGCCTATGCTGATTGGGTCCTGCAGAAAAGTGAAGAGGTCGGAGTTCAGGTTTTCACCAAGAGACCTTTGGATGAACAGCAGAAGAACAGTTTTAATCCAGACGACATTATCAATTGCCTTAAAAAATACCCTAAAGCCCTTGTGAAGTATCTGGAACATCTTGTGATAGACAAGAGACTGCAGAAAGAAGAGTATCACACCCACTTAGCTGTGCTGTACCTGGAAGAGGTGCTGCTGCAGAGGGCCTCCGCCAGTGGCAAGGGTGCAGAGGCCACCGAGACGCAGGCCAAGCTGCGGCGGCTGCTCCAGAAATCTGATTTATACCGAGTCCACTTTCTTCTCGAGAGGCTGCAGGGAGCTGGCCTGCCCATGGAGAGCGCCATCCTGCACGGGAAGCTGGGCGAGCATGAGAAGGCGCTGCATATCCTGGTGCACGAGCTGCAGGACTTTGCAGCGGCCGAGGACTACTGCCTGTGGTGCTCCGAGGGCCGAGACCCACCCCACCGCCAGCAACTCTTTCACACGCTGCTGGCCATCTACCTGCATGCTGGCCCCACTGCCCACGAGCTGGCCGTGGCTGCCGTGGACCTGCTGAACCGCCACGCCACCGAATTTGATGCAGCCCAGGTGCTGCAGATGCTGCCTGACACCTGGTCAGTGCAGCTCCTCTGCCCATTCCTGATGGGGGCCATGAGGGACAGCATCCATGCCAGGAGGACCATGCAGGTGGCTCTCGGCCTGGCCAGGTCCGAAAACTTAATCTACACCTACGATAAGATGAAGTTGAAAGGAAGCTCAATCCAACTCTCAGACAAAAAGCTTTGTCAGATATGCCAAAATCCCTTTTGTGAGCCTGTGTTTGTTAGATACCCAAATGGTGGTCTTGTGCACACCCACTGTGCCGCCAGCAGACACACAAACCCCAGCTCATCCAGTCCTGGCACTCGGACTTGAAAAGCTTGGCCCAAGGGTGCGAGGGGAACTCCGAGTTCTTTCTGAGCCTGCTGGACATGAAGAGCAGATGACCACCATGCTCTGTGTCAGCCAGGACGAAGGGAGACATCTGGGTGCCAGGGAGCCTTCCGTCCATACGCAACAAGGACTCCTCGCTGCTGACCAGGCTCTATGAATGTACATGGAATGACCAGGCTCTATGAATGTACATGGAAAACCCCTAAAAATCCCCAAAACAGAAACATACAAGAGTTCACCTGTCCAGGTACATAGTAATCCAAGACAGAGGTCTACTTTGAAAAAAAAAAAAAGGGAGTCTTCCTCATGCAGTCCAGACCCAGGTGGGGGATCCCCCACCACCCCCACACTCCAACCTTTAGACTCATGTTTGCACTGGAAACGTGGCTTCACCATGGCTGGCGACAAAGTCCTCTCTTGCCTGGGTGAGTGGCGAGGGCACAGAGCCTCATGGGGGTCAGCCTTGCCCTCCTGCAGAAACACGTTCTCCATCCACGCCGCTCACTCATGGGCCCATTTCCCAGGGTTACCTCGTGGGCTCTGCCTTTGCCCTCAGAAACGGCTGACCCTGGAGAAGTACCTTTGTTCCTTCTTTCTTCCTCTCCGGCTCTCAGCTCCCAAAAGATTCTGCCTTGTGTACCCAAGCACTCACTCTTGGGTGAACTAATGCTTCTGGCTGCCTAGCAAGTGAAGATCTGTTGAGAAACTGAGAACGCTCCAAGAGAGAAGCTGCTCTCCCCTCCTTGAAGAAGCCGCGGACACGGGAAACCCACGGCGGGCAAGGGCCCAGCTGTGTGCTCCTTTCCTGTCATGGCATCTGCTGATTTGAAACTCCATGACGAACACGTTGAACTAAACATTTTTATTTAAATTTGTATCATGTTCGTAGTTGCTCTCTTGTTGAGAGAGTCATCTGTCCTGTTTGTTAGGGGTATTTTTTCTTGTTAAAATGTATCTCCTGTTGAATACTCGGGAAATTCAAAGGGAAGTGTGGTCAGCACACACTGAGCGTTCTTTTCTGGAGAGGCCGGTTTTAGCCTCGTACCTTTAGCAGGACCGACAGCGGGTGGAAGGGCCCGTGTGCTGGATGGGGGTGTCGCCTCCTGGATGGCACACCCTCCCGAGGACATCCAGACAGGCTGTGTCACCCTCCAGCACTTTATGTGCCTGCTCTGAGGTGTCCTGAACACACAGCAACGGCCTCTCCTTCATCACAGGCCGGGGATTCCTTTTGTGTTTCTGTATAACATCGATGACGAGCTGAAGCTGTTGTCACTTCACTGCCCTCTTTGGAATTTCTTCATTGTGCTGACTGATTCTATTAGGGGCTAACAATAAAGGCAGTCTACCCACTACTATCATGCTTGGGAAACAAGCGTCAGCTTGTACATATGACAAGAGAGGACCCTGAATACACCCTCTCTTCATCAGCCCAAGCCTTACTGAGGTGGGATGAAGACCTCATTCTCTGTTCTTTAAAACATGTTTCGTGAACTAATATTGGTCCATGTATTTTTTGTCCTTTTGGGACTCTAAGTGGGTCAAGAAGCAAAAACATCCATGTGTTGTTTGGGGGGAATTGGCACCATTTTTTCCTGACTATGTTTCAATTAACTAAAGAATAAATGATGAAGAAATTCTCCTTGTAGCACAACTGTATGCTGTGTAAATTGGTGTGAGCTCAAAGCCCAGTCATGTGTTTTACCTGTGGGTGACTCTGTTGTAGAATGGTCATATTACTGCATATGTTATCATGACAACTTGTGAGTTTGAGTTTATATTTCTCAAAGAACAAGTTACCCGTATATGCAACATTGCGCCATTAAAAGCTTATTTCTCTGTACACAAAATGGGTAAAATCTTGAAAAAACTTAGTAATTTCTCATTCCTAACACACAGACAGAGTCTCACTCTGTCACCCAGGCTGGAGTGCAGTGGCGCAATCTCGGCTCACTGCAACCTCCACCTCCTGGGTTCAAGCGATTCTGCTGCCTCAGCCTCCCGAGTAGCTGGGACTACAGGTGCATGCCACCACGCCCAGCTAATTTTTGTATTTTTAGTAGAGACGGGGTTTCACCATGTTGGCCAGGATGGTCTCGGTCTCCTGACCTCGTGATCTGCCTGCCTCGGCCTCCCAAAGTGCTGGGATTACAGGCGTGAGCCACTGCGCCCAGCCAACACTAGTCATTTTTATTTTTTCACTGAACATTGATCAATACTCTAAAATGTTTGTCATCCTTTAGAATAATGGGAATTAAAGTTGAGCAGTTTTCCATCTCTACCAAATCCTTCACCACAAGCAGCATTCTATTACAGTATGAAGAATTGTCTCATATGTTAAAACTGTACTTTTCTCTAACCTTTCTCTCACTCCTACAAGGCCCTTTTCTCAAATCATATTTCTGAGAGAAATGTATGGTTCTTTCTCACAGGCCTGCTGATTTGTAACTGTGCCATCGAATAGAGCAATTAGATCCATCAGACCTTTTTCCCCTCATTAGGTTCAGTGGAACCATTCTGGTTAAAACAGCATGAACTGAACTCAGTTTACATTCATATTCTATGGGCAATACCATTTGGTTTTTGGAACTGTTTATCTGCTGTTCCCTATCAAGTATTAATGTAGGGATGTCACTCAGGCTGCGTTGCACTGGGCTGAGTTCAACTGCGACGCTCTCACTGACGCGTGCTTACATGTGCTTCTCACTTCCGGAGCACAGGCAGGTGGCTGCGGGGTCCCAGCTCTGAATGGATGCCCATGATGCAACTGGGGCAGCCCTTGCTTTTTGCTTGCTCTCCCACAGAAACCTTTGTCCTTGCAACTTTATCCTTTGTCCCGATTGGGTCCCAGATACACAAAATGTACAAATGTAAACTTGCTCATTTTATTAAAATTCTTTTAGTTCTTTGTTCTTTCTGTAATTTTTTAAAATAAAAATTGCCTTGATGGA\"\n        ],\n        \"semantic_type\": \"\",\n        \"description\": \"\"\n      }\n    },\n    {\n      \"column\": \"length\",\n      \"properties\": {\n        \"dtype\": \"number\",\n        \"std\": 1165,\n        \"min\": 1010,\n        \"max\": 9205,\n        \"num_unique_values\": 1231,\n        \"samples\": [\n          2844,\n          4375,\n          2242\n        ],\n        \"semantic_type\": \"\",\n        \"description\": \"\"\n      }\n    },\n    {\n      \"column\": \"class\",\n      \"properties\": {\n        \"dtype\": \"category\",\n        \"num_unique_values\": 3,\n        \"samples\": [\n          \"DMT2\",\n          \"DMT1\",\n          \"NONDM\"\n        ],\n        \"semantic_type\": \"\",\n        \"description\": \"\"\n      }\n    }\n  ]\n}"
            }
          },
          "metadata": {},
          "execution_count": 3
        }
      ]
    },
    {
      "cell_type": "code",
      "source": [
        "from Bio.Seq import Seq\n",
        "from Bio.SeqUtils import GC\n",
        "from Bio import SeqIO\n",
        "import matplotlib.pyplot as plt\n",
        "\n",
        "# Function to create a basic image of the DNA sequence\n",
        "def visualize_dna_sequence(sequence):\n",
        "    # Create a Seq object for working with the DNA\n",
        "    my_seq = Seq(sequence)\n",
        "\n",
        "    # Calculate GC content\n",
        "    gc_content = GC(my_seq)\n",
        "\n",
        "    # Create a basic plot (you can use more advanced libraries like seaborn or plotly for more complex plots)\n",
        "    plt.figure(figsize=(10, 4))\n",
        "    plt.plot(list(range(len(my_seq))), [1] * len(my_seq), color='black')\n",
        "    plt.xlabel(\"Nucleotide Position\")\n",
        "    plt.ylabel(\"DNA\")\n",
        "    plt.title(f\"DNA Sequence (GC Content: {gc_content:.2f}%)\")\n",
        "    plt.show()\n",
        "\n",
        "# Example: visualize the first sequence in your dataset\n",
        "first_sequence = DNA['sequence'][0]\n",
        "visualize_dna_sequence(first_sequence)"
      ],
      "metadata": {
        "colab": {
          "base_uri": "https://localhost:8080/",
          "height": 410
        },
        "id": "3rg94MGT1Grk",
        "outputId": "e91846cc-536e-4bdc-a1d6-2718e5475a22"
      },
      "execution_count": 4,
      "outputs": [
        {
          "output_type": "display_data",
          "data": {
            "text/plain": [
              "<Figure size 1000x400 with 1 Axes>"
            ],
            "image/png": "[encoded data removed]"
          },
          "metadata": {}
        }
      ]
    },
    {
      "cell_type": "code",
      "source": [
        "class_distribution = DNA['class'].value_counts()\n",
        "print(\"Class Distribution:\")\n",
        "print(class_distribution)"
      ],
      "metadata": {
        "colab": {
          "base_uri": "https://localhost:8080/"
        },
        "id": "jyrCp2R5sHY-",
        "outputId": "74ad6036-a5bb-4566-8cd8-5ae5cb26d25e"
      },
      "execution_count": 6,
      "outputs": [
        {
          "output_type": "stream",
          "name": "stdout",
          "text": [
            "Class Distribution:\n",
            "class\n",
            "NONDM    989\n",
            "DMT2     443\n",
            "DMT1     145\n",
            "Name: count, dtype: int64\n"
          ]
        }
      ]
    },
    {
      "cell_type": "code",
      "source": [
        "colors = sns.color_palette(\"Dark2\", len(DNA['class'].unique()))\n",
        "colors"
      ],
      "metadata": {
        "colab": {
          "base_uri": "https://localhost:8080/",
          "height": 76
        },
        "id": "nwQ2yfpNsNI-",
        "outputId": "bd87627d-a538-4c3b-bf33-20a5e7a60314"
      },
      "execution_count": 7,
      "outputs": [
        {
          "output_type": "execute_result",
          "data": {
            "text/plain": [
              "[(0.10588235294117647, 0.6196078431372549, 0.4666666666666667),\n",
              " (0.8509803921568627, 0.37254901960784315, 0.00784313725490196),\n",
              " (0.4588235294117647, 0.4392156862745098, 0.7019607843137254)]"
            ],
            "text/html": [
              "<svg  width=\"165\" height=\"55\"><rect x=\"0\" y=\"0\" width=\"55\" height=\"55\" style=\"fill:#1b9e77;stroke-width:2;stroke:rgb(255,255,255)\"/><rect x=\"55\" y=\"0\" width=\"55\" height=\"55\" style=\"fill:#d95f02;stroke-width:2;stroke:rgb(255,255,255)\"/><rect x=\"110\" y=\"0\" width=\"55\" height=\"55\" style=\"fill:#7570b3;stroke-width:2;stroke:rgb(255,255,255)\"/></svg>"
            ]
          },
          "metadata": {},
          "execution_count": 7
        }
      ]
    },
    {
      "cell_type": "code",
      "source": [
        "# shape of the dataset\n",
        "DNA.shape\n",
        "sns.countplot(DNA, x='class',palette=colors)\n",
        "plt.show()"
      ],
      "metadata": {
        "colab": {
          "base_uri": "https://localhost:8080/",
          "height": 449
        },
        "id": "9lNMOf78sObu",
        "outputId": "9c975192-c79d-47cb-d15e-06d4aaa4d479"
      },
      "execution_count": 8,
      "outputs": [
        {
          "output_type": "display_data",
          "data": {
            "text/plain": [
              "<Figure size 640x480 with 1 Axes>"
            ],
            "image/png": "[encoded data removed]"
          },
          "metadata": {}
        }
      ]
    },
    {
      "cell_type": "code",
      "source": [
        "lengths = [len(seq) for seq in DNA['sequence']]\n",
        "plt.hist(lengths,bins=20)\n",
        "plt.title(\"Distribution of Sequence Lengths\")\n",
        "plt.xlabel(\"Length\")\n",
        "plt.ylabel(\"Frequency\")\n",
        "plt.show()"
      ],
      "metadata": {
        "colab": {
          "base_uri": "https://localhost:8080/",
          "height": 472
        },
        "id": "5-MC0yqtsST9",
        "outputId": "537a8a22-187f-4501-bc38-a90f2adc97c5"
      },
      "execution_count": 9,
      "outputs": [
        {
          "output_type": "display_data",
          "data": {
            "text/plain": [
              "<Figure size 640x480 with 1 Axes>"
            ],
            "image/png": "[encoded data removed]"
          },
          "metadata": {}
        }
      ]
    },
    {
      "cell_type": "code",
      "source": [
        "import pandas as pd\n",
        "import matplotlib.pyplot as plt\n",
        "\n",
        "# Calculate sequence lengths and add as a new column\n",
        "DNA['sequence_length'] = DNA['sequence'].apply(len)\n",
        "\n",
        "# Plot the distribution of sequence lengths for each class\n",
        "plt.figure(figsize=(10, 6))\n",
        "\n",
        "# Loop over each class to plot its length distribution\n",
        "for i,class_label in enumerate(DNA['class'].unique()):\n",
        "    # Filter rows by class and plot the length distribution\n",
        "    class_lengths = DNA[DNA['class'] == class_label]['sequence_length']\n",
        "    plt.hist(class_lengths, bins=30, alpha=0.5, label=class_label, edgecolor='black',color=colors[i])\n",
        "\n",
        "# Add titles and labels\n",
        "plt.title('DNA Sequence Length Distribution by Class')\n",
        "plt.xlabel('Sequence Length')\n",
        "plt.ylabel('Frequency')\n",
        "plt.legend(title='Class')\n",
        "plt.show()"
      ],
      "metadata": {
        "colab": {
          "base_uri": "https://localhost:8080/",
          "height": 564
        },
        "id": "FgsdHXVysZFe",
        "outputId": "4ab3a3e0-fa18-41fc-f8c5-f96cad8c11ba"
      },
      "execution_count": 10,
      "outputs": [
        {
          "output_type": "display_data",
          "data": {
            "text/plain": [
              "<Figure size 1000x600 with 1 Axes>"
            ],
            "image/png": "[encoded data removed]"
          },
          "metadata": {}
        }
      ]
    },
    {
      "cell_type": "code",
      "source": [
        "# define k-mers function to split the sequence into group of k-mers words\n",
        "def getKmers(sequence, size=3):\n",
        "    return [sequence[x:x+size].lower() for x in range(len(sequence) - size + 1)]\n",
        "\n",
        "# apply the k-mers function\n",
        "DNA['k-mers'] = DNA.apply(lambda x: getKmers(x['sequence']), axis=1)\n",
        "DNA[['sequence','k-mers']].head()"
      ],
      "metadata": {
        "colab": {
          "base_uri": "https://localhost:8080/",
          "height": 206
        },
        "id": "1GmlDrE4sauN",
        "outputId": "20599bec-179c-4101-c44e-0404c4d1c507"
      },
      "execution_count": 11,
      "outputs": [
        {
          "output_type": "execute_result",
          "data": {
            "text/plain": [
              "                                            sequence  \\\n",
              "0  AATAATTTGTGCACTTCAGAATATTCTACAATAATATATTATTTCC...   \n",
              "1  AGTCCTTCGCCGTCCCTCGCCGTCCTTCGCCATCGCACGCCACCGC...   \n",
              "2  AGTCCTTCGCCGTCCCTCGCCGTCCTTCGCCATCGCACGCCACCGC...   \n",
              "3  AGTTGGAGTCTCCAGGGATCAGGGTTCCAGGAACTCAGGATCTGCA...   \n",
              "4  AGTCCTTCGCCGTCCCTCGCCGTCCTTCGCCATCGCACGCCACCGC...   \n",
              "\n",
              "                                              k-mers  \n",
              "0  [aat, ata, taa, aat, att, ttt, ttg, tgt, gtg, ...  \n",
              "1  [agt, gtc, tcc, cct, ctt, ttc, tcg, cgc, gcc, ...  \n",
              "2  [agt, gtc, tcc, cct, ctt, ttc, tcg, cgc, gcc, ...  \n",
              "3  [agt, gtt, ttg, tgg, gga, gag, agt, gtc, tct, ...  \n",
              "4  [agt, gtc, tcc, cct, ctt, ttc, tcg, cgc, gcc, ...  "
            ],
            "text/html": [
              "\n",
              "  <div id=\"df-c1cdaf05-e639-4237-9433-b5a25985faf2\" class=\"colab-df-container\">\n",
              "    <div>\n",
              "<style scoped>\n",
              "    .dataframe tbody tr th:only-of-type {\n",
              "        vertical-align: middle;\n",
              "    }\n",
              "\n",
              "    .dataframe tbody tr th {\n",
              "        vertical-align: top;\n",
              "    }\n",
              "\n",
              "    .dataframe thead th {\n",
              "        text-align: right;\n",
              "    }\n",
              "</style>\n",
              "<table border=\"1\" class=\"dataframe\">\n",
              "  <thead>\n",
              "    <tr style=\"text-align: right;\">\n",
              "      <th></th>\n",
              "      <th>sequence</th>\n",
              "      <th>k-mers</th>\n",
              "    </tr>\n",
              "  </thead>\n",
              "  <tbody>\n",
              "    <tr>\n",
              "      <th>0</th>\n",
              "      <td>AATAATTTGTGCACTTCAGAATATTCTACAATAATATATTATTTCC...</td>\n",
              "      <td>[aat, ata, taa, aat, att, ttt, ttg, tgt, gtg, ...</td>\n",
              "    </tr>\n",
              "    <tr>\n",
              "      <th>1</th>\n",
              "      <td>AGTCCTTCGCCGTCCCTCGCCGTCCTTCGCCATCGCACGCCACCGC...</td>\n",
              "      <td>[agt, gtc, tcc, cct, ctt, ttc, tcg, cgc, gcc, ...</td>\n",
              "    </tr>\n",
              "    <tr>\n",
              "      <th>2</th>\n",
              "      <td>AGTCCTTCGCCGTCCCTCGCCGTCCTTCGCCATCGCACGCCACCGC...</td>\n",
              "      <td>[agt, gtc, tcc, cct, ctt, ttc, tcg, cgc, gcc, ...</td>\n",
              "    </tr>\n",
              "    <tr>\n",
              "      <th>3</th>\n",
              "      <td>AGTTGGAGTCTCCAGGGATCAGGGTTCCAGGAACTCAGGATCTGCA...</td>\n",
              "      <td>[agt, gtt, ttg, tgg, gga, gag, agt, gtc, tct, ...</td>\n",
              "    </tr>\n",
              "    <tr>\n",
              "      <th>4</th>\n",
              "      <td>AGTCCTTCGCCGTCCCTCGCCGTCCTTCGCCATCGCACGCCACCGC...</td>\n",
              "      <td>[agt, gtc, tcc, cct, ctt, ttc, tcg, cgc, gcc, ...</td>\n",
              "    </tr>\n",
              "  </tbody>\n",
              "</table>\n",
              "</div>\n",
              "    <div class=\"colab-df-buttons\">\n",
              "\n",
              "  <div class=\"colab-df-container\">\n",
              "    <button class=\"colab-df-convert\" onclick=\"convertToInteractive('df-c1cdaf05-e639-4237-9433-b5a25985faf2')\"\n",
              "            title=\"Convert this dataframe to an interactive table.\"\n",
              "            style=\"display:none;\">\n",
              "\n",
              "  <svg xmlns=\"http://www.w3.org/2000/svg\" height=\"24px\" viewBox=\"0 -960 960 960\">\n",
              "    <path d=\"M120-120v-720h720v720H120Zm60-500h600v-160H180v160Zm220 220h160v-160H400v160Zm0 220h160v-160H400v160ZM180-400h160v-160H180v160Zm440 0h160v-160H620v160ZM180-180h160v-160H180v160Zm440 0h160v-160H620v160Z\"/>\n",
              "  </svg>\n",
              "    </button>\n",
              "\n",
              "  <style>\n",
              "    .colab-df-container {\n",
              "      display:flex;\n",
              "      gap: 12px;\n",
              "    }\n",
              "\n",
              "    .colab-df-convert {\n",
              "      background-color: #E8F0FE;\n",
              "      border: none;\n",
              "      border-radius: 50%;\n",
              "      cursor: pointer;\n",
              "      display: none;\n",
              "      fill: #1967D2;\n",
              "      height: 32px;\n",
              "      padding: 0 0 0 0;\n",
              "      width: 32px;\n",
              "    }\n",
              "\n",
              "    .colab-df-convert:hover {\n",
              "      background-color: #E2EBFA;\n",
              "      box-shadow: 0px 1px 2px rgba(60, 64, 67, 0.3), 0px 1px 3px 1px rgba(60, 64, 67, 0.15);\n",
              "      fill: #174EA6;\n",
              "    }\n",
              "\n",
              "    .colab-df-buttons div {\n",
              "      margin-bottom: 4px;\n",
              "    }\n",
              "\n",
              "    [theme=dark] .colab-df-convert {\n",
              "      background-color: #3B4455;\n",
              "      fill: #D2E3FC;\n",
              "    }\n",
              "\n",
              "    [theme=dark] .colab-df-convert:hover {\n",
              "      background-color: #434B5C;\n",
              "      box-shadow: 0px 1px 3px 1px rgba(0, 0, 0, 0.15);\n",
              "      filter: drop-shadow(0px 1px 2px rgba(0, 0, 0, 0.3));\n",
              "      fill: #FFFFFF;\n",
              "    }\n",
              "  </style>\n",
              "\n",
              "    <script>\n",
              "      const buttonEl =\n",
              "        document.querySelector('#df-c1cdaf05-e639-4237-9433-b5a25985faf2 button.colab-df-convert');\n",
              "      buttonEl.style.display =\n",
              "        google.colab.kernel.accessAllowed ? 'block' : 'none';\n",
              "\n",
              "      async function convertToInteractive(key) {\n",
              "        const element = document.querySelector('#df-c1cdaf05-e639-4237-9433-b5a25985faf2');\n",
              "        const dataTable =\n",
              "          await google.colab.kernel.invokeFunction('convertToInteractive',\n",
              "                                                    [key], {});\n",
              "        if (!dataTable) return;\n",
              "\n",
              "        const docLinkHtml = 'Like what you see? Visit the ' +\n",
              "          '<a target=\"_blank\" href=https://colab.research.google.com/notebooks/data_table.ipynb>data table notebook</a>'\n",
              "          + ' to learn more about interactive tables.';\n",
              "        element.innerHTML = '';\n",
              "        dataTable['output_type'] = 'display_data';\n",
              "        await google.colab.output.renderOutput(dataTable, element);\n",
              "        const docLink = document.createElement('div');\n",
              "        docLink.innerHTML = docLinkHtml;\n",
              "        element.appendChild(docLink);\n",
              "      }\n",
              "    </script>\n",
              "  </div>\n",
              "\n",
              "\n",
              "<div id=\"df-f6db42d8-7133-454a-85fc-f99b95692158\">\n",
              "  <button class=\"colab-df-quickchart\" onclick=\"quickchart('df-f6db42d8-7133-454a-85fc-f99b95692158')\"\n",
              "            title=\"Suggest charts\"\n",
              "            style=\"display:none;\">\n",
              "\n",
              "<svg xmlns=\"http://www.w3.org/2000/svg\" height=\"24px\"viewBox=\"0 0 24 24\"\n",
              "     width=\"24px\">\n",
              "    <g>\n",
              "        <path d=\"M19 3H5c-1.1 0-2 .9-2 2v14c0 1.1.9 2 2 2h14c1.1 0 2-.9 2-2V5c0-1.1-.9-2-2-2zM9 17H7v-7h2v7zm4 0h-2V7h2v10zm4 0h-2v-4h2v4z\"/>\n",
              "    </g>\n",
              "</svg>\n",
              "  </button>\n",
              "\n",
              "<style>\n",
              "  .colab-df-quickchart {\n",
              "      --bg-color: #E8F0FE;\n",
              "      --fill-color: #1967D2;\n",
              "      --hover-bg-color: #E2EBFA;\n",
              "      --hover-fill-color: #174EA6;\n",
              "      --disabled-fill-color: #AAA;\n",
              "      --disabled-bg-color: #DDD;\n",
              "  }\n",
              "\n",
              "  [theme=dark] .colab-df-quickchart {\n",
              "      --bg-color: #3B4455;\n",
              "      --fill-color: #D2E3FC;\n",
              "      --hover-bg-color: #434B5C;\n",
              "      --hover-fill-color: #FFFFFF;\n",
              "      --disabled-bg-color: #3B4455;\n",
              "      --disabled-fill-color: #666;\n",
              "  }\n",
              "\n",
              "  .colab-df-quickchart {\n",
              "    background-color: var(--bg-color);\n",
              "    border: none;\n",
              "    border-radius: 50%;\n",
              "    cursor: pointer;\n",
              "    display: none;\n",
              "    fill: var(--fill-color);\n",
              "    height: 32px;\n",
              "    padding: 0;\n",
              "    width: 32px;\n",
              "  }\n",
              "\n",
              "  .colab-df-quickchart:hover {\n",
              "    background-color: var(--hover-bg-color);\n",
              "    box-shadow: 0 1px 2px rgba(60, 64, 67, 0.3), 0 1px 3px 1px rgba(60, 64, 67, 0.15);\n",
              "    fill: var(--button-hover-fill-color);\n",
              "  }\n",
              "\n",
              "  .colab-df-quickchart-complete:disabled,\n",
              "  .colab-df-quickchart-complete:disabled:hover {\n",
              "    background-color: var(--disabled-bg-color);\n",
              "    fill: var(--disabled-fill-color);\n",
              "    box-shadow: none;\n",
              "  }\n",
              "\n",
              "  .colab-df-spinner {\n",
              "    border: 2px solid var(--fill-color);\n",
              "    border-color: transparent;\n",
              "    border-bottom-color: var(--fill-color);\n",
              "    animation:\n",
              "      spin 1s steps(1) infinite;\n",
              "  }\n",
              "\n",
              "  @keyframes spin {\n",
              "    0% {\n",
              "      border-color: transparent;\n",
              "      border-bottom-color: var(--fill-color);\n",
              "      border-left-color: var(--fill-color);\n",
              "    }\n",
              "    20% {\n",
              "      border-color: transparent;\n",
              "      border-left-color: var(--fill-color);\n",
              "      border-top-color: var(--fill-color);\n",
              "    }\n",
              "    30% {\n",
              "      border-color: transparent;\n",
              "      border-left-color: var(--fill-color);\n",
              "      border-top-color: var(--fill-color);\n",
              "      border-right-color: var(--fill-color);\n",
              "    }\n",
              "    40% {\n",
              "      border-color: transparent;\n",
              "      border-right-color: var(--fill-color);\n",
              "      border-top-color: var(--fill-color);\n",
              "    }\n",
              "    60% {\n",
              "      border-color: transparent;\n",
              "      border-right-color: var(--fill-color);\n",
              "    }\n",
              "    80% {\n",
              "      border-color: transparent;\n",
              "      border-right-color: var(--fill-color);\n",
              "      border-bottom-color: var(--fill-color);\n",
              "    }\n",
              "    90% {\n",
              "      border-color: transparent;\n",
              "      border-bottom-color: var(--fill-color);\n",
              "    }\n",
              "  }\n",
              "</style>\n",
              "\n",
              "  <script>\n",
              "    async function quickchart(key) {\n",
              "      const quickchartButtonEl =\n",
              "        document.querySelector('#' + key + ' button');\n",
              "      quickchartButtonEl.disabled = true;  // To prevent multiple clicks.\n",
              "      quickchartButtonEl.classList.add('colab-df-spinner');\n",
              "      try {\n",
              "        const charts = await google.colab.kernel.invokeFunction(\n",
              "            'suggestCharts', [key], {});\n",
              "      } catch (error) {\n",
              "        console.error('Error during call to suggestCharts:', error);\n",
              "      }\n",
              "      quickchartButtonEl.classList.remove('colab-df-spinner');\n",
              "      quickchartButtonEl.classList.add('colab-df-quickchart-complete');\n",
              "    }\n",
              "    (() => {\n",
              "      let quickchartButtonEl =\n",
              "        document.querySelector('#df-f6db42d8-7133-454a-85fc-f99b95692158 button');\n",
              "      quickchartButtonEl.style.display =\n",
              "        google.colab.kernel.accessAllowed ? 'block' : 'none';\n",
              "    })();\n",
              "  </script>\n",
              "</div>\n",
              "\n",
              "    </div>\n",
              "  </div>\n"
            ],
            "application/vnd.google.colaboratory.intrinsic+json": {
              "type": "dataframe",
              "summary": "{\n  \"name\": \"DNA[['sequence','k-mers']]\",\n  \"rows\": 5,\n  \"fields\": [\n    {\n      \"column\": \"sequence\",\n      \"properties\": {\n        \"dtype\": \"string\",\n        \"num_unique_values\": 5,\n        \"samples\": [\n          \"AGTCCTTCGCCGTCCCTCGCCGTCCTTCGCCATCGCACGCCACCGCACCCCATCTCTCGAAATCTGCAGACATCTTGATTTTTCCCACGCTGTCTGTCAGGTCTCCGCCGCCACTCGACGCCAGGGCGCCGGGCCTTGTGGGCTGTGCTGCACCTCGGACGGCTTCGCACCAGCCAGCGCCCTCTCTCTCCTGCAGCACTCTGATCTGCACCCCCTGAGGGGCTTCCACTGTCCGCGGGGTGAGAATGCCCCTGGGAGTGTCACATGACTGCCGCCCCATGTGTGTGAGAGGCGTCCTCTGGGAGAGCATGGATCCTGAGGTCCCAGGATTGTCAGCTGACCTCTGTCCTGTGTGCCCAGTGGCCCCAGGTGACGTGTCTTCAAGAAGAGGCTGAGCTGCGGTGCTTGTAAGGGTCTCATTCTGTCACCCAGGCTGGAGTGCAGTGGTGCAATGATGGCTCACTGCAGCCTCGACCTGGGCTCAAGTGATCCTCCACCTCAGCTTCCTGAGTAGCTGGGACCACAGATGGGTCTGCTGTGTGCAGAGGCTCCATGGGATGTGTTGTCTTCATAGTAGCAGGGCGCTGGACCATGGGTCCGCAAGGTCTCAGCCTTAGATCCAAGGACAGTCCAAGGAAGTCCTAAGACCATGGAGTTGGTGATCTGGGATCTGGGTTTGCTGATATTTCTCACCGTGAATCTCTTGGTGGTGTTTGTGGGCACGAGAGGGGCAGAGAATGGAGAGTGAGGCTACCACATGAAGCGTCACCAGAGCTGCTCCCTGCTGCCTGCTCAGAGCACCCCGGATCCACTGTTCAATCTGCACAAGATTCGGGGTCCAGACATGGGAGACTTCAGCTGCCTCAGAGGACCGTGGACAGGGAAGGCCAGCCTCGCATCCCTCTGTCCATGCCTGGAATGACTTTAATAACCAAGAGTTTTATTTTTGAATTTGTAGCTGTCGTTCACTTTTTACCCACCCATTCAATAAACCTTACAGAATTGCTCCA\",\n          \"AGTCCTTCGCCGTCCCTCGCCGTCCTTCGCCATCGCACGCCACCGCACCCCATCTCTCGAAATCTGCAGACATCTTGATTTTTCCCACGCTGTCTGTCAGGTCTCCGCCGCCACTCGACGCCAGGGCGCCGGGTGAGTCCACAGCAGGGCGCATGGTCGGCTCCACTCTCACCATCGGGGGAAACTGAGGCCCCGGGGAAGGCGGCCAGAGAGGTCAGGCCCTGTCCTTGGTGCAGTGTCTCGTCCTCTTTGCCGGAGTGAGCCCCCCAGGATTCGCGTGTCCTCGGGAAAGACACTGGCAGGAGTGTCACATGACTGCCGCCCCATGTGTGTGAGAGGCGTCCTCTGGGAGAGCATGGATCCTGAGGTCCCAGGATTGTCAGCTGACCTCTGTCCTGTGTGCCCAGTGGCCCCAGGTGACGTGTCTTCAAGAAGAGGCTGAGCTGCGGTGCTTGTAAGAGTCATGTGCTGTTCCTGGGGCTTGGATGATGTAGGGGAAGCAAGGTGAAAGTGGTATCCCGTGGTTCCACGTTCTGTCCTGCTGTGGGGCTGTCCCTCACATGCTTTCAGTGGCTGTTGCAGAGGAAGAGCCTCCGGAAATCTGCGTGGGTCTCAGCCTTAGATCCAAGGACAGTCCAAGGAAGTCCTAAGACCATGGAGTTGGTGATCTGGGATCTGGGTTTGCTGATATTTCTCACCGTGAATCTCTTGGTGGTGTTTGTGGGCACGAGAGGGGCAGAGAATGGAGAGTGAGGCTACCACATGAAGCGTCACCAGAGCTGCTCCCTGCTGCCTGCTCAGAGCACCCCGGATCCACTGTTCAATCTGCACAAGATTCGGGGTCCAGACATGGGAGACTTCAGCTGCCTCAGAGGACCGTGGACAGGGAAGGCCAGCCTCGCATCCCTCTGTCCATGCCTGGAATGACTTTAATAACCAAGAGTTTTATTTTTGAATTTGTAGCTGTCGTTCACTTTTTACCCACCCATTCAATAAACCTTACAGAATTGCTCCA\",\n          \"AGTCCTTCGCCGTCCCTCGCCGTCCTTCGCCATCGCACGCCACCGCACCCCATCTCTCGAAATCTGCAGACATCTTGATTTTTCCCACGCTGTCTGTCAGGTCTCCGCCGCCACTCGACGCCAGGGCGCCGGGTGAGTCCACAGCAGGGCGCATGGTCGGCTCCACTCTCACCATCGGGGGAAACTGAGGCCCCGGGGAAGGCGGCCAGAGAGGTCAGGCCCTGTCCTTGGTGCAGTGTCTCGTCCTCTTTGCCGGAGTGAGCCCCCCAGGATTCGCGTGTCCTCGGGAAAGACACTGGCAGGAGTGTCACATGACTGCCGCCCCATGTGTGTGAGAGGCGTCCTCTGGGAGAGCATGGATCCTGAGGTCCCAGGATTGTCAGCTGACCTCTGTCCTGTGTGCCCAGTGGCCCCAGGTGACGTGTCTTCAAGAAGAGGCTGAGCTGCGGTGCTTGTAAGTCATGTGCTGTTCCTGGGGCTTGGATGATGTAGGGGAAGCAAGGTGAAAGTGGTATCCCGTGGTTCCACGTTCTGTCCTGCTGTGGGGCTGTCCCTCACATGCTTTCAGTGGCTGTTGCAGAGGAAGAGCCTCCGGAAATCTGCGTGGGTCTCAGCCTTAGATCCAAGGACAGTCCAAGGAAGTCCTAAGACCATGGAGTTGGTGATCTGGGATCTGGGTTTGCTGATATTTCTCACCGTGAATCTCTTGGTGGTGTTTGTGGGCACGAGAGGGGCAGAGAATGGAGAGTGAGGCTACCACATGAAGCGTCACCAGAGCTGCTCCCTGCTGCCTGCTCAGAGCACCCCGGATCCACTGTTCAATCTGCACAAGATTCGGGGTCCAGACATGGGAGACTTCAGCTGCCTCAGAGGACCGTGGACAGGGAAGGCCAGCCTCGCATCCCTCTGTCCATGCCTGGAATGACTTTAATAACCAAGAGTTTTATTTTTGAATTTGTAGCTGTCGTTCACTTTTTACCCACCCATTCAATAAACCTTACAGAATTGCTCCA\"\n        ],\n        \"semantic_type\": \"\",\n        \"description\": \"\"\n      }\n    },\n    {\n      \"column\": \"k-mers\",\n      \"properties\": {\n        \"dtype\": \"object\",\n        \"semantic_type\": \"\",\n        \"description\": \"\"\n      }\n    }\n  ]\n}"
            }
          },
          "metadata": {},
          "execution_count": 11
        }
      ]
    },
    {
      "cell_type": "code",
      "source": [
        "num_samples = DNA.shape[0]\n",
        "k_mer_lengths = DNA['k-mers'].apply(len)\n",
        "\n",
        "unique_k_mer_counts = k_mer_lengths.unique()\n",
        "\n",
        "print(f\"Number of samples: {num_samples}\")\n",
        "print(f\"Unique k-mer lengths per sample: {unique_k_mer_counts}\")\n",
        "len(unique_k_mer_counts)"
      ],
      "metadata": {
        "colab": {
          "base_uri": "https://localhost:8080/"
        },
        "id": "i1HPdiI8spNH",
        "outputId": "c38833a1-2624-4b4f-eeed-5017568c9575"
      },
      "execution_count": 12,
      "outputs": [
        {
          "output_type": "stream",
          "name": "stdout",
          "text": [
            "Number of samples: 1577\n",
            "Unique k-mer lengths per sample: [1008 1011 1013 ... 8414 9030 9203]\n"
          ]
        },
        {
          "output_type": "execute_result",
          "data": {
            "text/plain": [
              "1231"
            ]
          },
          "metadata": {},
          "execution_count": 12
        }
      ]
    },
    {
      "cell_type": "code",
      "source": [
        "# DNA features\n",
        "DNA_features = list(DNA['k-mers'])\n",
        "for item in range(len(DNA_features)):\n",
        "    DNA_features[item] = ' '.join(DNA_features[item]) # to remove \",\" between k mers and then save it all in same sequence\n",
        "\n",
        "\n",
        "# DNA targets\n",
        "DNA_targets = DNA['class'].copy()"
      ],
      "metadata": {
        "id": "eM9i4OUvswOV"
      },
      "execution_count": 13,
      "outputs": []
    },
    {
      "cell_type": "code",
      "source": [
        "lengths = [len(item) for item in DNA_features]\n",
        "print(f\"Lengths of each k-mer list: {lengths}\")\n",
        "print(\"________________________________________________\")\n",
        "\n",
        "# If you want to get unique lengths\n",
        "unique_lengths = set(lengths)\n",
        "print(f\"Unique lengths of k-mer lists: {unique_lengths}\")"
      ],
      "metadata": {
        "colab": {
          "base_uri": "https://localhost:8080/"
        },
        "id": "ye-4_1G4s0HN",
        "outputId": "849addd9-a047-49ec-d1d0-10a26b0678fe"
      },
      "execution_count": 14,
      "outputs": [
        {
          "output_type": "stream",
          "name": "stdout",
          "text": [
            "Lengths of each k-mer list: [4031, 4031, 4043, 4043, 4051, 4059, 4059, 4071, 4159, 4183, 4211, 4227, 4231, 4247, 4255, 4263, 4291, 4291, 4303, 4319, 4351, 4351, 4355, 4379, 4399, 4415, 4415, 4431, 4479, 4543, 4543, 4603, 4619, 4655, 4667, 4667, 4687, 4703, 4711, 4727, 4747, 4763, 4763, 4839, 4843, 4863, 4875, 4891, 4911, 4915, 4927, 4927, 4955, 4963, 4999, 5015, 5019, 5059, 5083, 5099, 5123, 5227, 5275, 5319, 5367, 5427, 5479, 5511, 5639, 5643, 5643, 5655, 5655, 5667, 5671, 5715, 5715, 5759, 5779, 5787, 5935, 5991, 5991, 5995, 6027, 6031, 6123, 6123, 6135, 6147, 6159, 6191, 6215, 6235, 6299, 6299, 6327, 6395, 6419, 6467, 6503, 6515, 6515, 6519, 6527, 6543, 6567, 6595, 6607, 6643, 6643, 6679, 6679, 6679, 6719, 6739, 6751, 6751, 6891, 6899, 6923, 6939, 6963, 6967, 7015, 7023, 7035, 7203, 7207, 7251, 7251, 7311, 7311, 7323, 7411, 7415, 7439, 7479, 7539, 7555, 7559, 7563, 7599, 7611, 7635, 7655, 7663, 7775, 7775, 7787, 7811, 7835, 7839, 7843, 7847, 7883, 7899, 7915, 7979, 7995, 7999, 8007, 8027, 8035, 8039, 8043, 8047, 8051, 8063, 8063, 8063, 8067, 8067, 8079, 8083, 8091, 8099, 8111, 8111, 8127, 8131, 8139, 8163, 8163, 8171, 8207, 8211, 8255, 8259, 8271, 8271, 8279, 8283, 8311, 8327, 8331, 8331, 8335, 8335, 8343, 8343, 8343, 8347, 8351, 8351, 8359, 8363, 8363, 8367, 8387, 8387, 8399, 8403, 8411, 8411, 8411, 8411, 8415, 8419, 8419, 8431, 8435, 8439, 8455, 8459, 8459, 8467, 8467, 8479, 8483, 8483, 8487, 8491, 8495, 8495, 8499, 8503, 8523, 8535, 8547, 8551, 8555, 8567, 8567, 8567, 8583, 8611, 8615, 8615, 8619, 8627, 8627, 8627, 8635, 8639, 8643, 8643, 8647, 8655, 8655, 8655, 8663, 8683, 8683, 8699, 8699, 8703, 8703, 8719, 8735, 8743, 8743, 8743, 8751, 8755, 8759, 8759, 8763, 8763, 8775, 8787, 8799, 8803, 8819, 8823, 8831, 8839, 8839, 8843, 8851, 8855, 8855, 8855, 8859, 8859, 8863, 8887, 8887, 8887, 8887, 8895, 8899, 8911, 8919, 8919, 8923, 8927, 8927, 8935, 8939, 8947, 8947, 8951, 8955, 8955, 8959, 8975, 8979, 8979, 8979, 8979, 8979, 8987, 9007, 9015, 9019, 9019, 9023, 9023, 9035, 9039, 9039, 9043, 9043, 9047, 9055, 9055, 9063, 9071, 9079, 9079, 9083, 9087, 9091, 9095, 9095, 9095, 9099, 9103, 9103, 9107, 9107, 9107, 9107, 9115, 9115, 9135, 9135, 9135, 9139, 9163, 9167, 9171, 9183, 9187, 9191, 9191, 9207, 9219, 9223, 9227, 9235, 9243, 9247, 9247, 9251, 9251, 9259, 9267, 9271, 9279, 9279, 9279, 9283, 9283, 9283, 9283, 9283, 9287, 9295, 9295, 9307, 9307, 9307, 9311, 9319, 9319, 9327, 9331, 9335, 9335, 9335, 9335, 9339, 9355, 9355, 9359, 9367, 9367, 9367, 9367, 9367, 9375, 9379, 9399, 9407, 9415, 9419, 9423, 9427, 9439, 9439, 9451, 9451, 9463, 9467, 9471, 9471, 9475, 9483, 9483, 9483, 9491, 9495, 9503, 9519, 9519, 9519, 9523, 9523, 9523, 9523, 9527, 9535, 9535, 9535, 9535, 9539, 9551, 9555, 9563, 9571, 9575, 9579, 9579, 9579, 9583, 9591, 9591, 9599, 9603, 9603, 9619, 9619, 9627, 9631, 9651, 9655, 9667, 9671, 9683, 9687, 9695, 9699, 9703, 9703, 9715, 9715, 9727, 9727, 9731, 9731, 9743, 9743, 9751, 9763, 9763, 9763, 9767, 9775, 9775, 9783, 9787, 9791, 9799, 9811, 9823, 9823, 9823, 9827, 9827, 9835, 9839, 9851, 9863, 9871, 9875, 9879, 9883, 9883, 9891, 9895, 9903, 9907, 9915, 9919, 9919, 9919, 9927, 9927, 9927, 9931, 9935, 9939, 9947, 9947, 9951, 9959, 9967, 9967, 9979, 9991, 9999, 10003, 10011, 10019, 10035, 10043, 10047, 10063, 10063, 10063, 10079, 10079, 10079, 10087, 10091, 10095, 10103, 10107, 10111, 10115, 10135, 10147, 10151, 10159, 10159, 10167, 10187, 10187, 10203, 10207, 10207, 10211, 10211, 10215, 10219, 10223, 10223, 10239, 10243, 10251, 10267, 10267, 10295, 10295, 10303, 10315, 10319, 10323, 10335, 10343, 10343, 10351, 10351, 10351, 10355, 10355, 10363, 10367, 10371, 10375, 10375, 10383, 10387, 10391, 10391, 10399, 10403, 10403, 10403, 10407, 10411, 10411, 10423, 10439, 10455, 10475, 10479, 10487, 10499, 10499, 10499, 10503, 10507, 10515, 10523, 10523, 10527, 10543, 10547, 10555, 10555, 10555, 10559, 10559, 10567, 10567, 10571, 10575, 10575, 10587, 10603, 10607, 10607, 10611, 10615, 10627, 10631, 10639, 10639, 10655, 10659, 10671, 10687, 10691, 10699, 10699, 10699, 10703, 10703, 10707, 10731, 10731, 10735, 10739, 10743, 10751, 10759, 10763, 10763, 10787, 10795, 10795, 10795, 10815, 10847, 10851, 10855, 10855, 10855, 10859, 10871, 10875, 10879, 10887, 10891, 10895, 10899, 10899, 10903, 10907, 10927, 10927, 10935, 10935, 10947, 10951, 10963, 10967, 10971, 10983, 10995, 11003, 11011, 11011, 11019, 11027, 11027, 11031, 11043, 11055, 11059, 11059, 11067, 11071, 11075, 11079, 11083, 11091, 11103, 11107, 11107, 11147, 11151, 11159, 11163, 11171, 11191, 11203, 11223, 11227, 11227, 11235, 11235, 11239, 11243, 11251, 11255, 11263, 11263, 11263, 11267, 11271, 11271, 11275, 11279, 11279, 11287, 11291, 11295, 11315, 11323, 11327, 11335, 11339, 11343, 11343, 11343, 11363, 11367, 11371, 11371, 11371, 11371, 11375, 11387, 11387, 11411, 11423, 11423, 11435, 11439, 11443, 11443, 11451, 11455, 11455, 11471, 11483, 11503, 11519, 11527, 11535, 11539, 11547, 11547, 11547, 11559, 11579, 11591, 11591, 11603, 11603, 11611, 11615, 11619, 11623, 11623, 11635, 11655, 11655, 11663, 11663, 11671, 11671, 11679, 11683, 11683, 11683, 11691, 11715, 11715, 11731, 11731, 11735, 11743, 11747, 11751, 11763, 11799, 11803, 11831, 11843, 11843, 11847, 11859, 11859, 11867, 11867, 11875, 11875, 11879, 11887, 11891, 11891, 11903, 11907, 11911, 11911, 11915, 11927, 11927, 11927, 11935, 11991, 11991, 12003, 12003, 12007, 12011, 12011, 12015, 12015, 12019, 12023, 12043, 12047, 12071, 12075, 12079, 12083, 12083, 12087, 12103, 12111, 12115, 12119, 12143, 12155, 12163, 12167, 12199, 12211, 12215, 12227, 12243, 12247, 12251, 12267, 12271, 12275, 12279, 12291, 12295, 12299, 12299, 12303, 12323, 12331, 12331, 12343, 12351, 12355, 12355, 12359, 12359, 12375, 12383, 12387, 12391, 12399, 12399, 12415, 12419, 12447, 12455, 12459, 12463, 12503, 12503, 12527, 12539, 12543, 12559, 12579, 12583, 12587, 12591, 12599, 12607, 12615, 12615, 12619, 12631, 12635, 12651, 12651, 12675, 12699, 12711, 12715, 12723, 12723, 12727, 12743, 12775, 12795, 12799, 12799, 12803, 12807, 12823, 12823, 12839, 12851, 12855, 12867, 12867, 12867, 12875, 12931, 12947, 12947, 12963, 12975, 12975, 12979, 12987, 12991, 12991, 12999, 13007, 13019, 13027, 13027, 13055, 13059, 13063, 13067, 13075, 13075, 13079, 13079, 13079, 13091, 13095, 13107, 13135, 13139, 13143, 13143, 13147, 13163, 13171, 13175, 13207, 13215, 13215, 13219, 13219, 13223, 13231, 13239, 13251, 13267, 13271, 13275, 13291, 13295, 13315, 13319, 13335, 13335, 13339, 13339, 13347, 13359, 13359, 13359, 13367, 13375, 13379, 13383, 13399, 13415, 13435, 13447, 13451, 13463, 13471, 13491, 13491, 13503, 13503, 13515, 13523, 13527, 13535, 13543, 13547, 13547, 13571, 13575, 13587, 13591, 13595, 13599, 13611, 13611, 13615, 13623, 13623, 13635, 13639, 13651, 13655, 13663, 13683, 13687, 13699, 13739, 13751, 13759, 13779, 13803, 13807, 13827, 13855, 13867, 13875, 13875, 13879, 13899, 13915, 13959, 13963, 13963, 13979, 13979, 13995, 13999, 14003, 14007, 14015, 14019, 14023, 14027, 14031, 14031, 14039, 14043, 14059, 14063, 14063, 14067, 14071, 14071, 14075, 14079, 14079, 14079, 14087, 14091, 14091, 14095, 14099, 14111, 14111, 14135, 14139, 14139, 14143, 14151, 14155, 14163, 14171, 14175, 14187, 14187, 14199, 14207, 14223, 14235, 14235, 14239, 14243, 14247, 14259, 14271, 14271, 14275, 14279, 14283, 14319, 14319, 14323, 14323, 14327, 14331, 14335, 14335, 14343, 14343, 14343, 14367, 14367, 14367, 14387, 14387, 14391, 14395, 14399, 14399, 14415, 14415, 14419, 14423, 14427, 14431, 14431, 14435, 14435, 14439, 14439, 14439, 14443, 14451, 14463, 14467, 14467, 14471, 14475, 14483, 14555, 14567, 14607, 14619, 14627, 14631, 14631, 14643, 14655, 14655, 14659, 14659, 14663, 14667, 14667, 14675, 14699, 14711, 14715, 14723, 14751, 14763, 14767, 14771, 14775, 14835, 14835, 14839, 14847, 14851, 14859, 14875, 14895, 14895, 14907, 14907, 14931, 14951, 14955, 14967, 14979, 14987, 14991, 14995, 14995, 15007, 15015, 15031, 15031, 15051, 15051, 15075, 15079, 15083, 15087, 15107, 15111, 15115, 15115, 15163, 15183, 15195, 15211, 15211, 15211, 15219, 15243, 15247, 15259, 15259, 15267, 15279, 15295, 15319, 15351, 15359, 15363, 15371, 15379, 15387, 15395, 15395, 15399, 15403, 15423, 15427, 15431, 15447, 15451, 15455, 15491, 15495, 15507, 15523, 15523, 15531, 15567, 15575, 15583, 15591, 15599, 15607, 15611, 15631, 15663, 15671, 15679, 15691, 15707, 15727, 15731, 15743, 15775, 15779, 15783, 15787, 15791, 15799, 15811, 15815, 15815, 15823, 15863, 15875, 15899, 15899, 15903, 15911, 15939, 15959, 15967, 15971, 15975, 16003, 16019, 16023, 16023, 16023, 16027, 16031, 16043, 16051, 16055, 16055, 16067, 16071, 16087, 16091, 16115, 16119, 16123, 16135, 16151, 16179, 16191, 16199, 16203, 16203, 16219, 16247, 16295, 16359, 16371, 16371, 16431, 16447, 16447, 16503, 16511, 16539, 16543, 16559, 16659, 16667, 16691, 16715, 16735, 16739, 16755, 16791, 16803, 16815, 16879, 16891, 16899, 16899, 16915, 16923, 16935, 16935, 16943, 16955, 17007, 17039, 17099, 17123, 17123, 17127, 17131, 17135, 17143, 17175, 17195, 17223, 17227, 17279, 17303, 17315, 17319, 17359, 17363, 17395, 17399, 17407, 17419, 17475, 17487, 17491, 17499, 17587, 17603, 17619, 17635, 17735, 17759, 17763, 17791, 17867, 17915, 17923, 17923, 17923, 17939, 17967, 17979, 17991, 18011, 18019, 18051, 18055, 18071, 18111, 18111, 18131, 18143, 18147, 18147, 18151, 18155, 18203, 18215, 18215, 18215, 18231, 18247, 18291, 18351, 18443, 18499, 18503, 18519, 18551, 18551, 18571, 18571, 18627, 18663, 18671, 18683, 18707, 18727, 18739, 18843, 18847, 18859, 18899, 18899, 18903, 18947, 18967, 18975, 18975, 19035, 19039, 19043, 19051, 19051, 19059, 19063, 19079, 19083, 19083, 19099, 19139, 19147, 19171, 19191, 19191, 19227, 19227, 19243, 19299, 19347, 19355, 19359, 19363, 19363, 19379, 19411, 19431, 19431, 19455, 19459, 19475, 19487, 19503, 19507, 19523, 19523, 19543, 19559, 19571, 19571, 19579, 19579, 19591, 19595, 19675, 19687, 19711, 19751, 19767, 19771, 19771, 19871, 19943, 19995, 20051, 20055, 20171, 20199, 20235, 20491, 20587, 20587, 20599, 20615, 20643, 20687, 20699, 21147, 21211, 21223, 21295, 21323, 21339, 21431, 21479, 21487, 21555, 21615, 21699, 21715, 21895, 22015, 22127, 22139, 22375, 22375, 22563, 22599, 22679, 22679, 22699, 22707, 22711, 22847, 23099, 23443, 23567, 23567, 24035, 24063, 24231, 24295, 24295, 24739, 24907, 25079, 25091, 25391, 25403, 25547, 25631, 25747, 25787, 26651, 26659, 26663, 26719, 26783, 26987, 27023, 27155, 27191, 27215, 27431, 27455, 27563, 27599, 27603, 27731, 29743, 30727, 31439, 31667, 31807, 31819, 32075, 32343, 33655, 36119, 36811]\n",
            "________________________________________________\n",
            "Unique lengths of k-mer lists: {8207, 8211, 16431, 8255, 16447, 8259, 8271, 8279, 8283, 8311, 16503, 16511, 8327, 8331, 8335, 8343, 8347, 16539, 8351, 16543, 24739, 8359, 8363, 8367, 16559, 8387, 8399, 8403, 8411, 8415, 8419, 8431, 8435, 8439, 8455, 8459, 8467, 16659, 16667, 8479, 8483, 8487, 8491, 8495, 8499, 16691, 8503, 8523, 16715, 24907, 8535, 16735, 8547, 16739, 8551, 8555, 16755, 8567, 8583, 16791, 8611, 16803, 8615, 8619, 16815, 8627, 8635, 8639, 8643, 8647, 8655, 8663, 8683, 16879, 25079, 8699, 16891, 8703, 16899, 25091, 8719, 16915, 16923, 8735, 8743, 16935, 8751, 16943, 8755, 8759, 8763, 16955, 8775, 8787, 8799, 8803, 17007, 8819, 8823, 8831, 8839, 8843, 17039, 8851, 8855, 8859, 8863, 8887, 8895, 8899, 17099, 8911, 8919, 8923, 8927, 17123, 8935, 17127, 8939, 17131, 17135, 8947, 8951, 17143, 8955, 8959, 8975, 8979, 17175, 8987, 17195, 25391, 9007, 9015, 9019, 25403, 9023, 17223, 9035, 17227, 9039, 9043, 9047, 9055, 9063, 9071, 9079, 33655, 9083, 9087, 17279, 9091, 9095, 9099, 9103, 9107, 17303, 9115, 17315, 17319, 9135, 9139, 9163, 25547, 9167, 17359, 9171, 17363, 9183, 9187, 9191, 17395, 9207, 17399, 17407, 9219, 9223, 9227, 17419, 9235, 9243, 9247, 25631, 9251, 9259, 9267, 9271, 9279, 9283, 17475, 9287, 9295, 17487, 17491, 9307, 17499, 9311, 9319, 9327, 9331, 9335, 9339, 9355, 9359, 25747, 9367, 9375, 9379, 17587, 9399, 25787, 9407, 17603, 9415, 9419, 9423, 9427, 17619, 9439, 17635, 9451, 9463, 9467, 9471, 9475, 9483, 9491, 9495, 9503, 9519, 9523, 9527, 9535, 9539, 17735, 9551, 9555, 9563, 17759, 9571, 17763, 9575, 9579, 9583, 9591, 9599, 17791, 9603, 9619, 9627, 9631, 9651, 9655, 9667, 9671, 17867, 9683, 9687, 9695, 9699, 9703, 9715, 17915, 9727, 9731, 17923, 9743, 17939, 9751, 9763, 9767, 9775, 17967, 9783, 9787, 17979, 9791, 9799, 17991, 9811, 18011, 9823, 9827, 18019, 9835, 9839, 9851, 18051, 9863, 18055, 9871, 9875, 9879, 18071, 9883, 9891, 9895, 9903, 9907, 9915, 9919, 18111, 9927, 9931, 9935, 9939, 18131, 9947, 9951, 18143, 18147, 9959, 18151, 18155, 9967, 9979, 9991, 9999, 10003, 10011, 18203, 10019, 18215, 10035, 18231, 10043, 10047, 18247, 10063, 10079, 10087, 10091, 10095, 18291, 10103, 10107, 10111, 10115, 10135, 10147, 10151, 10159, 18351, 10167, 10187, 10203, 10207, 10211, 10215, 10219, 10223, 10239, 10243, 10251, 18443, 10267, 26651, 26659, 26663, 10295, 10303, 18499, 18503, 10315, 10319, 10323, 18519, 10335, 26719, 10343, 10351, 10355, 18551, 10363, 10367, 10371, 10375, 18571, 10383, 10387, 10391, 10399, 26783, 10403, 10407, 10411, 10423, 18627, 10439, 10455, 18663, 10475, 10479, 18671, 10487, 18683, 10499, 10503, 10507, 10515, 18707, 10523, 10527, 18727, 10543, 10547, 18739, 10555, 10559, 10567, 10571, 10575, 10587, 10603, 26987, 10607, 10611, 10615, 10627, 10631, 10639, 27023, 18843, 10655, 18847, 10659, 18859, 10671, 10687, 10691, 10699, 10703, 10707, 18899, 18903, 10731, 10735, 10739, 10743, 10751, 18947, 10759, 10763, 27155, 18967, 18975, 10787, 10795, 27191, 10815, 27215, 19035, 10847, 19039, 10851, 19043, 10855, 10859, 19051, 19059, 10871, 19063, 10875, 10879, 10887, 19079, 10891, 19083, 10895, 10899, 10903, 10907, 19099, 10927, 10935, 10947, 19139, 10951, 19147, 10963, 10967, 10971, 19171, 10983, 10995, 19191, 11003, 11011, 11019, 11027, 11031, 19227, 11043, 27431, 19243, 11055, 11059, 11067, 11071, 27455, 11075, 11079, 11083, 11091, 11103, 11107, 19299, 11147, 11151, 19347, 11159, 11163, 19355, 19359, 11171, 19363, 27563, 19379, 11191, 11203, 27599, 19411, 27603, 11223, 11227, 11235, 11239, 19431, 11243, 11251, 11255, 11263, 19455, 11267, 19459, 11271, 11275, 11279, 19475, 11287, 11291, 11295, 19487, 19503, 11315, 19507, 11323, 11327, 19523, 11335, 11339, 11343, 27731, 19543, 11363, 11367, 19559, 11371, 11375, 19571, 11387, 19579, 19591, 19595, 11411, 11423, 11435, 11439, 11443, 11451, 11455, 11471, 11483, 19675, 19687, 11503, 11519, 19711, 11527, 11535, 11539, 36119, 11547, 11559, 19751, 19767, 11579, 19771, 11591, 11603, 11611, 11615, 11619, 11623, 11635, 11655, 11663, 11671, 11679, 19871, 11683, 11691, 11715, 11731, 11735, 11743, 11747, 11751, 19943, 11763, 11799, 11803, 19995, 11831, 11843, 11847, 11859, 20051, 20055, 11867, 11875, 11879, 11887, 11891, 11903, 11907, 11911, 11915, 11927, 11935, 20171, 11991, 12003, 12007, 20199, 12011, 12015, 12019, 12023, 12043, 20235, 12047, 12071, 12075, 12079, 12083, 12087, 12103, 12111, 12115, 12119, 12143, 12155, 12163, 12167, 12199, 12211, 12215, 4031, 12227, 4043, 36811, 4051, 12243, 12247, 4059, 12251, 4071, 12267, 12271, 12275, 12279, 12291, 12295, 12299, 20491, 12303, 12323, 12331, 12343, 4159, 12351, 12355, 12359, 4183, 12375, 12383, 12387, 12391, 20587, 12399, 4211, 20599, 12415, 4227, 12419, 4231, 20615, 4247, 4255, 12447, 20643, 4263, 12455, 12459, 12463, 4291, 4303, 20687, 12503, 20699, 4319, 12527, 12539, 4351, 12543, 4355, 12559, 4379, 12579, 12583, 12587, 4399, 12591, 12599, 4415, 12607, 12615, 12619, 4431, 12631, 12635, 12651, 4479, 12675, 12699, 12711, 12715, 12723, 12727, 4543, 12743, 12775, 4603, 12795, 12799, 12803, 12807, 4619, 12823, 12839, 4655, 12851, 12855, 4667, 12867, 12875, 4687, 4703, 4711, 4727, 12931, 4747, 12947, 4763, 21147, 12963, 12975, 12979, 12987, 12991, 12999, 13007, 13019, 21211, 13027, 21223, 4839, 4843, 4863, 13055, 13059, 13063, 4875, 13067, 13075, 13079, 4891, 13091, 13095, 4911, 21295, 4915, 13107, 4927, 21323, 13135, 13139, 13143, 4955, 13147, 21339, 4963, 13163, 13171, 13175, 4999, 5015, 13207, 5019, 13215, 13219, 13223, 13231, 13239, 21431, 5059, 13251, 13267, 13271, 5083, 13275, 21479, 5099, 13291, 13295, 21487, 5123, 13315, 13319, 13335, 13339, 13347, 13359, 29743, 21555, 13367, 13375, 13379, 13383, 13399, 13415, 5227, 21615, 13435, 13447, 13451, 13463, 5275, 13471, 13491, 13503, 21699, 5319, 13515, 13523, 21715, 13527, 13535, 13543, 13547, 5367, 13571, 13575, 13587, 13591, 13595, 13599, 13611, 13615, 5427, 13623, 13635, 13639, 13651, 13655, 13663, 5479, 13683, 13687, 13699, 5511, 21895, 13739, 13751, 13759, 13779, 13803, 13807, 22015, 13827, 5639, 5643, 5655, 13855, 5667, 5671, 13867, 13875, 13879, 13899, 5715, 13915, 22127, 22139, 5759, 13959, 13963, 5779, 5787, 13979, 13995, 13999, 14003, 14007, 14015, 14019, 14023, 14027, 14031, 14039, 14043, 14059, 14063, 14067, 14071, 14075, 14079, 14087, 14091, 14095, 14099, 14111, 5935, 14135, 14139, 14143, 14151, 14155, 14163, 14171, 14175, 5991, 22375, 5995, 14187, 14199, 14207, 6027, 6031, 14223, 14235, 14239, 14243, 14247, 14259, 14271, 14275, 14279, 14283, 6123, 14319, 14323, 14327, 6135, 14331, 14335, 6147, 14343, 30727, 6159, 14367, 22563, 6191, 14387, 14391, 14395, 14399, 6215, 22599, 14415, 14419, 14423, 6235, 14427, 14431, 14435, 14439, 14443, 14451, 14463, 14467, 14471, 14475, 14483, 22679, 6299, 22699, 22707, 6327, 22711, 14555, 14567, 6395, 14607, 6419, 14619, 14627, 14631, 14643, 14655, 22847, 6467, 14659, 14663, 14667, 14675, 6503, 14699, 6515, 6519, 14711, 14715, 6527, 14723, 6543, 14751, 6567, 14763, 14767, 14771, 14775, 6595, 6607, 6643, 14835, 14839, 14847, 14851, 14859, 6679, 14875, 14895, 14907, 23099, 6719, 6739, 14931, 6751, 14951, 14955, 14967, 14979, 14987, 14991, 14995, 15007, 15015, 15031, 15051, 31439, 15075, 15079, 6891, 15083, 15087, 6899, 15107, 15111, 6923, 15115, 6939, 6963, 6967, 15163, 15183, 15195, 7015, 15211, 7023, 15219, 7035, 15243, 15247, 23443, 15259, 15267, 15279, 31667, 15295, 15319, 15351, 15359, 15363, 15371, 23567, 15379, 15387, 7203, 15395, 7207, 15399, 15403, 31807, 15423, 15427, 15431, 31819, 7251, 15447, 15451, 15455, 15491, 15495, 7311, 15507, 7323, 15523, 15531, 15567, 15575, 15583, 15591, 15599, 7411, 7415, 15607, 15611, 7439, 15631, 15663, 7479, 15671, 15679, 15691, 32075, 15707, 15727, 7539, 15731, 15743, 7555, 7559, 7563, 15775, 15779, 15783, 15787, 7599, 15791, 15799, 7611, 15811, 15815, 15823, 7635, 24035, 7655, 7663, 15863, 24063, 15875, 15899, 15903, 15911, 15939, 15959, 32343, 7775, 15967, 15971, 15975, 7787, 7811, 16003, 16019, 16023, 7835, 16027, 7839, 16031, 7843, 7847, 24231, 16043, 16051, 16055, 16067, 16071, 7883, 16087, 7899, 16091, 24295, 7915, 16115, 16119, 16123, 16135, 16151, 7979, 16179, 7995, 7999, 16191, 8007, 16199, 16203, 8027, 16219, 8035, 8039, 8043, 8047, 8051, 16247, 8063, 8067, 8079, 8083, 8091, 8099, 16295, 8111, 8127, 8131, 8139, 8163, 16359, 8171, 16371}\n"
          ]
        }
      ]
    },
    {
      "cell_type": "code",
      "source": [
        "cv = TfidfVectorizer(ngram_range=(2,2))\n",
        "\n",
        "DNA_features_CV = cv.fit_transform(DNA_features)\n",
        "\n",
        "# samples\n",
        "DNA_features_CV[0:5].toarray()"
      ],
      "metadata": {
        "colab": {
          "base_uri": "https://localhost:8080/"
        },
        "id": "E71N3RG4s7U2",
        "outputId": "fd751091-87e0-46cc-9892-961225afe00a"
      },
      "execution_count": 15,
      "outputs": [
        {
          "output_type": "execute_result",
          "data": {
            "text/plain": [
              "array([[0.13889097, 0.14847545, 0.07414369, ..., 0.04939782, 0.09892093,\n",
              "        0.09936072],\n",
              "       [0.        , 0.0123424 , 0.        , ..., 0.02463791, 0.04933831,\n",
              "        0.08672591],\n",
              "       [0.        , 0.02510029, 0.02506849, ..., 0.03757892, 0.06271096,\n",
              "        0.08818567],\n",
              "       [0.02518867, 0.03702444, 0.03697755, ..., 0.03695412, 0.03700099,\n",
              "        0.08671948],\n",
              "       [0.        , 0.02499872, 0.02496705, ..., 0.03742686, 0.0624572 ,\n",
              "        0.08782883]])"
            ]
          },
          "metadata": {},
          "execution_count": 15
        }
      ]
    },
    {
      "cell_type": "code",
      "source": [
        "DNA_features_CV.shape"
      ],
      "metadata": {
        "colab": {
          "base_uri": "https://localhost:8080/"
        },
        "id": "w85e5td3tDkd",
        "outputId": "ecd98339-5f87-4a3e-9b13-7d2324f5450c"
      },
      "execution_count": 16,
      "outputs": [
        {
          "output_type": "execute_result",
          "data": {
            "text/plain": [
              "(1577, 256)"
            ]
          },
          "metadata": {},
          "execution_count": 16
        }
      ]
    },
    {
      "cell_type": "code",
      "source": [
        "DNA_features_dense = DNA_features_CV.toarray()"
      ],
      "metadata": {
        "id": "ry3u4HU5tIEW"
      },
      "execution_count": 17,
      "outputs": []
    },
    {
      "cell_type": "code",
      "source": [
        "le = LabelEncoder()\n",
        "DNA_targets = le.fit_transform(DNA_targets)\n",
        "DNA_targets.shape"
      ],
      "metadata": {
        "colab": {
          "base_uri": "https://localhost:8080/"
        },
        "id": "IDQcKYwgtKIe",
        "outputId": "0dba768e-1029-4347-87ca-9840c5baeb43"
      },
      "execution_count": 18,
      "outputs": [
        {
          "output_type": "execute_result",
          "data": {
            "text/plain": [
              "(1577,)"
            ]
          },
          "metadata": {},
          "execution_count": 18
        }
      ]
    },
    {
      "cell_type": "markdown",
      "source": [
        "# **oversample**"
      ],
      "metadata": {
        "id": "RqLMqUImtPOG"
      }
    },
    {
      "cell_type": "code",
      "source": [
        "sm = SMOTE(random_state=42, sampling_strategy='not majority')\n",
        "DNA_features_oversampled, DNA_targets_oversampled = sm.fit_resample(DNA_features_dense, DNA_targets)"
      ],
      "metadata": {
        "id": "pTVOayJZtLdP"
      },
      "execution_count": 19,
      "outputs": []
    },
    {
      "cell_type": "code",
      "source": [
        "print(DNA_targets_oversampled.shape)\n",
        "print(DNA_features_oversampled.shape)"
      ],
      "metadata": {
        "colab": {
          "base_uri": "https://localhost:8080/"
        },
        "id": "EMvaqKOWtTRF",
        "outputId": "aeef9fe5-b1d8-4b35-ba9a-abe5bf27820e"
      },
      "execution_count": 20,
      "outputs": [
        {
          "output_type": "stream",
          "name": "stdout",
          "text": [
            "(2967,)\n",
            "(2967, 256)\n"
          ]
        }
      ]
    },
    {
      "cell_type": "code",
      "source": [
        "sns.countplot(x=DNA_targets_oversampled.squeeze(),palette=colors)\n",
        "\n",
        "\n",
        "# Show the plot\n",
        "plt.show()"
      ],
      "metadata": {
        "colab": {
          "base_uri": "https://localhost:8080/",
          "height": 430
        },
        "id": "dcU6eSDltWCP",
        "outputId": "8e8a284f-3499-4a6a-f23e-29fee7272bed"
      },
      "execution_count": 21,
      "outputs": [
        {
          "output_type": "display_data",
          "data": {
            "text/plain": [
              "<Figure size 640x480 with 1 Axes>"
            ],
            "image/png": "[encoded data removed]"
          },
          "metadata": {}
        }
      ]
    },
    {
      "cell_type": "code",
      "source": [
        "selector = SelectKBest(f_classif, k=200)  # Select top 100 features\n",
        "X_new = selector.fit_transform(DNA_features_oversampled, DNA_targets_oversampled)\n",
        "X_new"
      ],
      "metadata": {
        "colab": {
          "base_uri": "https://localhost:8080/"
        },
        "id": "sWwvRvtdtZQX",
        "outputId": "efa70a91-8445-4238-e9b1-64a8f21319bc"
      },
      "execution_count": 22,
      "outputs": [
        {
          "output_type": "execute_result",
          "data": {
            "text/plain": [
              "array([[0.13889097, 0.14847545, 0.07414369, ..., 0.12499052, 0.09892093,\n",
              "        0.09936072],\n",
              "       [0.        , 0.0123424 , 0.        , ..., 0.03740455, 0.04933831,\n",
              "        0.08672591],\n",
              "       [0.        , 0.02510029, 0.02506849, ..., 0.03803414, 0.06271096,\n",
              "        0.08818567],\n",
              "       ...,\n",
              "       [0.0177947 , 0.02413621, 0.02206768, ..., 0.00909908, 0.03196898,\n",
              "        0.02275917],\n",
              "       [0.        , 0.01202694, 0.00463945, ..., 0.03644854, 0.04807729,\n",
              "        0.08450931],\n",
              "       [0.22442637, 0.08633508, 0.12533633, ..., 0.10691781, 0.09772474,\n",
              "        0.13834555]])"
            ]
          },
          "metadata": {},
          "execution_count": 22
        }
      ]
    },
    {
      "cell_type": "code",
      "source": [
        "X_train, X_temp, y_train, y_temp = train_test_split(\n",
        "    X_new, DNA_targets_oversampled, test_size=0.3, random_state=42, stratify=DNA_targets_oversampled\n",
        ")\n",
        "\n",
        "X_val, X_test, y_val, y_test = train_test_split(\n",
        "    X_temp, y_temp, test_size=1/3, random_state=42, stratify=y_temp\n",
        ")\n",
        "\n",
        "print(f\"Training data shape: {X_train.shape}\")\n",
        "print(f\"Validation data shape: {X_val.shape}\")\n",
        "print(f\"Test data shape: {X_test.shape}\")"
      ],
      "metadata": {
        "colab": {
          "base_uri": "https://localhost:8080/"
        },
        "id": "aXKEMRp9te3_",
        "outputId": "2d272234-04c6-4410-dbf6-03a329ff1803"
      },
      "execution_count": 23,
      "outputs": [
        {
          "output_type": "stream",
          "name": "stdout",
          "text": [
            "Training data shape: (2076, 200)\n",
            "Validation data shape: (594, 200)\n",
            "Test data shape: (297, 200)\n"
          ]
        }
      ]
    },
    {
      "cell_type": "code",
      "source": [
        "n_timesteps = 1\n",
        "\n",
        "\n",
        "n_samples = X_train.shape[0]\n",
        "n_features = X_train.shape[1] // n_timesteps\n",
        "\n",
        "\n",
        "DNA_features_reshaped = X_train.reshape((n_samples, n_timesteps,n_features))"
      ],
      "metadata": {
        "id": "7PJ4a0B6tqQ-"
      },
      "execution_count": 24,
      "outputs": []
    },
    {
      "cell_type": "code",
      "source": [
        "len(DNA_features_reshaped[0][0])"
      ],
      "metadata": {
        "colab": {
          "base_uri": "https://localhost:8080/"
        },
        "id": "quXuUNUDtuAf",
        "outputId": "7176a26e-6447-482b-84a4-d3cf25a1846f"
      },
      "execution_count": 25,
      "outputs": [
        {
          "output_type": "execute_result",
          "data": {
            "text/plain": [
              "200"
            ]
          },
          "metadata": {},
          "execution_count": 25
        }
      ]
    },
    {
      "cell_type": "code",
      "source": [
        "X_test_new = selector.fit_transform(X_test, y_test)\n",
        "X_test_new.shape"
      ],
      "metadata": {
        "colab": {
          "base_uri": "https://localhost:8080/"
        },
        "id": "XSN5G-3Rtzws",
        "outputId": "e350ba2d-2e46-4da8-c563-2340b088e056"
      },
      "execution_count": 26,
      "outputs": [
        {
          "output_type": "execute_result",
          "data": {
            "text/plain": [
              "(297, 200)"
            ]
          },
          "metadata": {},
          "execution_count": 26
        }
      ]
    },
    {
      "cell_type": "code",
      "source": [
        "n_timesteps = 1\n",
        "n_samples = X_test_new.shape[0]\n",
        "n_features = X_test_new.shape[1] // n_timesteps\n",
        "\n",
        "\n",
        "X_test_reshape = X_test_new.reshape((n_samples,n_timesteps, n_features))"
      ],
      "metadata": {
        "id": "ZatMqjaht1x5"
      },
      "execution_count": 27,
      "outputs": []
    },
    {
      "cell_type": "code",
      "source": [
        "from keras.models import Sequential\n",
        "from keras.layers import Conv1D, LSTM, Dense, Dropout, BatchNormalization\n",
        "\n",
        "model = Sequential()\n",
        "\n",
        "# Adjust input shape to (timesteps, features) for Conv1D\n",
        "model.add(Conv1D(filters=512, kernel_size=1, activation='relu', input_shape=( 1,200)))  # Adjusted input shape\n",
        "model.add(BatchNormalization())\n",
        "model.add(Dropout(0.4))\n",
        "\n",
        "# Second convolutional layer\n",
        "model.add(Conv1D(filters=256, kernel_size=1, activation='relu'))\n",
        "model.add(BatchNormalization())\n",
        "model.add(Dropout(0.4))\n",
        "\n",
        "# Adding an LSTM layer\n",
        "model.add(LSTM(256, return_sequences=True))  # This LSTM expects a 3D input\n",
        "model.add(Dropout(0.3))\n",
        "\n",
        "# Adding another LSTM layer\n",
        "model.add(LSTM(16))\n",
        "model.add(Dropout(0.3))\n",
        "\n",
        "# Dense layers for output\n",
        "model.add(Dense(128, activation='gelu'))\n",
        "model.add(Dropout(0.3))\n",
        "model.add(Dense(512, activation='softmax'))\n",
        "\n",
        "# Compile the model\n",
        "model.compile(optimizer='adam', loss='sparse_categorical_crossentropy', metrics=['accuracy'])\n",
        "\n",
        "# Model summary\n",
        "model.summary()"
      ],
      "metadata": {
        "colab": {
          "base_uri": "https://localhost:8080/",
          "height": 550
        },
        "id": "Kr4nO9OQt5Qt",
        "outputId": "78c94044-4c13-4140-eb12-4c56b152ac6d"
      },
      "execution_count": 28,
      "outputs": [
        {
          "output_type": "display_data",
          "data": {
            "text/plain": [
              "\u001b[1mModel: \"sequential\"\u001b[0m\n"
            ],
            "text/html": [
              "<pre style=\"white-space:pre;overflow-x:auto;line-height:normal;font-family:Menlo,'DejaVu Sans Mono',consolas,'Courier New',monospace\"><span style=\"font-weight: bold\">Model: \"sequential\"</span>\n",
              "</pre>\n"
            ]
          },
          "metadata": {}
        },
        {
          "output_type": "display_data",
          "data": {
            "text/plain": [
              "┏━━━━━━━━━━━━━━━━━━━━━━━━━━━━━━━━━━━━━━┳━━━━━━━━━━━━━━━━━━━━━━━━━━━━━┳━━━━━━━━━━━━━━━━━┓\n",
              "┃\u001b[1m \u001b[0m\u001b[1mLayer (type)                        \u001b[0m\u001b[1m \u001b[0m┃\u001b[1m \u001b[0m\u001b[1mOutput Shape               \u001b[0m\u001b[1m \u001b[0m┃\u001b[1m \u001b[0m\u001b[1m        Param #\u001b[0m\u001b[1m \u001b[0m┃\n",
              "┡━━━━━━━━━━━━━━━━━━━━━━━━━━━━━━━━━━━━━━╇━━━━━━━━━━━━━━━━━━━━━━━━━━━━━╇━━━━━━━━━━━━━━━━━┩\n",
              "│ conv1d (\u001b[38;5;33mConv1D\u001b[0m)                      │ (\u001b[38;5;45mNone\u001b[0m, \u001b[38;5;34m1\u001b[0m, \u001b[38;5;34m512\u001b[0m)              │         \u001b[38;5;34m102,912\u001b[0m │\n",
              "├──────────────────────────────────────┼─────────────────────────────┼─────────────────┤\n",
              "│ batch_normalization                  │ (\u001b[38;5;45mNone\u001b[0m, \u001b[38;5;34m1\u001b[0m, \u001b[38;5;34m512\u001b[0m)              │           \u001b[38;5;34m2,048\u001b[0m │\n",
              "│ (\u001b[38;5;33mBatchNormalization\u001b[0m)                 │                             │                 │\n",
              "├──────────────────────────────────────┼─────────────────────────────┼─────────────────┤\n",
              "│ dropout (\u001b[38;5;33mDropout\u001b[0m)                    │ (\u001b[38;5;45mNone\u001b[0m, \u001b[38;5;34m1\u001b[0m, \u001b[38;5;34m512\u001b[0m)              │               \u001b[38;5;34m0\u001b[0m │\n",
              "├──────────────────────────────────────┼─────────────────────────────┼─────────────────┤\n",
              "│ conv1d_1 (\u001b[38;5;33mConv1D\u001b[0m)                    │ (\u001b[38;5;45mNone\u001b[0m, \u001b[38;5;34m1\u001b[0m, \u001b[38;5;34m256\u001b[0m)              │         \u001b[38;5;34m131,328\u001b[0m │\n",
              "├──────────────────────────────────────┼─────────────────────────────┼─────────────────┤\n",
              "│ batch_normalization_1                │ (\u001b[38;5;45mNone\u001b[0m, \u001b[38;5;34m1\u001b[0m, \u001b[38;5;34m256\u001b[0m)              │           \u001b[38;5;34m1,024\u001b[0m │\n",
              "│ (\u001b[38;5;33mBatchNormalization\u001b[0m)                 │                             │                 │\n",
              "├──────────────────────────────────────┼─────────────────────────────┼─────────────────┤\n",
              "│ dropout_1 (\u001b[38;5;33mDropout\u001b[0m)                  │ (\u001b[38;5;45mNone\u001b[0m, \u001b[38;5;34m1\u001b[0m, \u001b[38;5;34m256\u001b[0m)              │               \u001b[38;5;34m0\u001b[0m │\n",
              "├──────────────────────────────────────┼─────────────────────────────┼─────────────────┤\n",
              "│ lstm (\u001b[38;5;33mLSTM\u001b[0m)                          │ (\u001b[38;5;45mNone\u001b[0m, \u001b[38;5;34m1\u001b[0m, \u001b[38;5;34m256\u001b[0m)              │         \u001b[38;5;34m525,312\u001b[0m │\n",
              "├──────────────────────────────────────┼─────────────────────────────┼─────────────────┤\n",
              "│ dropout_2 (\u001b[38;5;33mDropout\u001b[0m)                  │ (\u001b[38;5;45mNone\u001b[0m, \u001b[38;5;34m1\u001b[0m, \u001b[38;5;34m256\u001b[0m)              │               \u001b[38;5;34m0\u001b[0m │\n",
              "├──────────────────────────────────────┼─────────────────────────────┼─────────────────┤\n",
              "│ lstm_1 (\u001b[38;5;33mLSTM\u001b[0m)                        │ (\u001b[38;5;45mNone\u001b[0m, \u001b[38;5;34m16\u001b[0m)                  │          \u001b[38;5;34m17,472\u001b[0m │\n",
              "├──────────────────────────────────────┼─────────────────────────────┼─────────────────┤\n",
              "│ dropout_3 (\u001b[38;5;33mDropout\u001b[0m)                  │ (\u001b[38;5;45mNone\u001b[0m, \u001b[38;5;34m16\u001b[0m)                  │               \u001b[38;5;34m0\u001b[0m │\n",
              "├──────────────────────────────────────┼─────────────────────────────┼─────────────────┤\n",
              "│ dense (\u001b[38;5;33mDense\u001b[0m)                        │ (\u001b[38;5;45mNone\u001b[0m, \u001b[38;5;34m128\u001b[0m)                 │           \u001b[38;5;34m2,176\u001b[0m │\n",
              "├──────────────────────────────────────┼─────────────────────────────┼─────────────────┤\n",
              "│ dropout_4 (\u001b[38;5;33mDropout\u001b[0m)                  │ (\u001b[38;5;45mNone\u001b[0m, \u001b[38;5;34m128\u001b[0m)                 │               \u001b[38;5;34m0\u001b[0m │\n",
              "├──────────────────────────────────────┼─────────────────────────────┼─────────────────┤\n",
              "│ dense_1 (\u001b[38;5;33mDense\u001b[0m)                      │ (\u001b[38;5;45mNone\u001b[0m, \u001b[38;5;34m512\u001b[0m)                 │          \u001b[38;5;34m66,048\u001b[0m │\n",
              "└──────────────────────────────────────┴─────────────────────────────┴─────────────────┘\n"
            ],
            "text/html": [
              "<pre style=\"white-space:pre;overflow-x:auto;line-height:normal;font-family:Menlo,'DejaVu Sans Mono',consolas,'Courier New',monospace\">┏━━━━━━━━━━━━━━━━━━━━━━━━━━━━━━━━━━━━━━┳━━━━━━━━━━━━━━━━━━━━━━━━━━━━━┳━━━━━━━━━━━━━━━━━┓\n",
              "┃<span style=\"font-weight: bold\"> Layer (type)                         </span>┃<span style=\"font-weight: bold\"> Output Shape                </span>┃<span style=\"font-weight: bold\">         Param # </span>┃\n",
              "┡━━━━━━━━━━━━━━━━━━━━━━━━━━━━━━━━━━━━━━╇━━━━━━━━━━━━━━━━━━━━━━━━━━━━━╇━━━━━━━━━━━━━━━━━┩\n",
              "│ conv1d (<span style=\"color: #0087ff; text-decoration-color: #0087ff\">Conv1D</span>)                      │ (<span style=\"color: #00d7ff; text-decoration-color: #00d7ff\">None</span>, <span style=\"color: #00af00; text-decoration-color: #00af00\">1</span>, <span style=\"color: #00af00; text-decoration-color: #00af00\">512</span>)              │         <span style=\"color: #00af00; text-decoration-color: #00af00\">102,912</span> │\n",
              "├──────────────────────────────────────┼─────────────────────────────┼─────────────────┤\n",
              "│ batch_normalization                  │ (<span style=\"color: #00d7ff; text-decoration-color: #00d7ff\">None</span>, <span style=\"color: #00af00; text-decoration-color: #00af00\">1</span>, <span style=\"color: #00af00; text-decoration-color: #00af00\">512</span>)              │           <span style=\"color: #00af00; text-decoration-color: #00af00\">2,048</span> │\n",
              "│ (<span style=\"color: #0087ff; text-decoration-color: #0087ff\">BatchNormalization</span>)                 │                             │                 │\n",
              "├──────────────────────────────────────┼─────────────────────────────┼─────────────────┤\n",
              "│ dropout (<span style=\"color: #0087ff; text-decoration-color: #0087ff\">Dropout</span>)                    │ (<span style=\"color: #00d7ff; text-decoration-color: #00d7ff\">None</span>, <span style=\"color: #00af00; text-decoration-color: #00af00\">1</span>, <span style=\"color: #00af00; text-decoration-color: #00af00\">512</span>)              │               <span style=\"color: #00af00; text-decoration-color: #00af00\">0</span> │\n",
              "├──────────────────────────────────────┼─────────────────────────────┼─────────────────┤\n",
              "│ conv1d_1 (<span style=\"color: #0087ff; text-decoration-color: #0087ff\">Conv1D</span>)                    │ (<span style=\"color: #00d7ff; text-decoration-color: #00d7ff\">None</span>, <span style=\"color: #00af00; text-decoration-color: #00af00\">1</span>, <span style=\"color: #00af00; text-decoration-color: #00af00\">256</span>)              │         <span style=\"color: #00af00; text-decoration-color: #00af00\">131,328</span> │\n",
              "├──────────────────────────────────────┼─────────────────────────────┼─────────────────┤\n",
              "│ batch_normalization_1                │ (<span style=\"color: #00d7ff; text-decoration-color: #00d7ff\">None</span>, <span style=\"color: #00af00; text-decoration-color: #00af00\">1</span>, <span style=\"color: #00af00; text-decoration-color: #00af00\">256</span>)              │           <span style=\"color: #00af00; text-decoration-color: #00af00\">1,024</span> │\n",
              "│ (<span style=\"color: #0087ff; text-decoration-color: #0087ff\">BatchNormalization</span>)                 │                             │                 │\n",
              "├──────────────────────────────────────┼─────────────────────────────┼─────────────────┤\n",
              "│ dropout_1 (<span style=\"color: #0087ff; text-decoration-color: #0087ff\">Dropout</span>)                  │ (<span style=\"color: #00d7ff; text-decoration-color: #00d7ff\">None</span>, <span style=\"color: #00af00; text-decoration-color: #00af00\">1</span>, <span style=\"color: #00af00; text-decoration-color: #00af00\">256</span>)              │               <span style=\"color: #00af00; text-decoration-color: #00af00\">0</span> │\n",
              "├──────────────────────────────────────┼─────────────────────────────┼─────────────────┤\n",
              "│ lstm (<span style=\"color: #0087ff; text-decoration-color: #0087ff\">LSTM</span>)                          │ (<span style=\"color: #00d7ff; text-decoration-color: #00d7ff\">None</span>, <span style=\"color: #00af00; text-decoration-color: #00af00\">1</span>, <span style=\"color: #00af00; text-decoration-color: #00af00\">256</span>)              │         <span style=\"color: #00af00; text-decoration-color: #00af00\">525,312</span> │\n",
              "├──────────────────────────────────────┼─────────────────────────────┼─────────────────┤\n",
              "│ dropout_2 (<span style=\"color: #0087ff; text-decoration-color: #0087ff\">Dropout</span>)                  │ (<span style=\"color: #00d7ff; text-decoration-color: #00d7ff\">None</span>, <span style=\"color: #00af00; text-decoration-color: #00af00\">1</span>, <span style=\"color: #00af00; text-decoration-color: #00af00\">256</span>)              │               <span style=\"color: #00af00; text-decoration-color: #00af00\">0</span> │\n",
              "├──────────────────────────────────────┼─────────────────────────────┼─────────────────┤\n",
              "│ lstm_1 (<span style=\"color: #0087ff; text-decoration-color: #0087ff\">LSTM</span>)                        │ (<span style=\"color: #00d7ff; text-decoration-color: #00d7ff\">None</span>, <span style=\"color: #00af00; text-decoration-color: #00af00\">16</span>)                  │          <span style=\"color: #00af00; text-decoration-color: #00af00\">17,472</span> │\n",
              "├──────────────────────────────────────┼─────────────────────────────┼─────────────────┤\n",
              "│ dropout_3 (<span style=\"color: #0087ff; text-decoration-color: #0087ff\">Dropout</span>)                  │ (<span style=\"color: #00d7ff; text-decoration-color: #00d7ff\">None</span>, <span style=\"color: #00af00; text-decoration-color: #00af00\">16</span>)                  │               <span style=\"color: #00af00; text-decoration-color: #00af00\">0</span> │\n",
              "├──────────────────────────────────────┼─────────────────────────────┼─────────────────┤\n",
              "│ dense (<span style=\"color: #0087ff; text-decoration-color: #0087ff\">Dense</span>)                        │ (<span style=\"color: #00d7ff; text-decoration-color: #00d7ff\">None</span>, <span style=\"color: #00af00; text-decoration-color: #00af00\">128</span>)                 │           <span style=\"color: #00af00; text-decoration-color: #00af00\">2,176</span> │\n",
              "├──────────────────────────────────────┼─────────────────────────────┼─────────────────┤\n",
              "│ dropout_4 (<span style=\"color: #0087ff; text-decoration-color: #0087ff\">Dropout</span>)                  │ (<span style=\"color: #00d7ff; text-decoration-color: #00d7ff\">None</span>, <span style=\"color: #00af00; text-decoration-color: #00af00\">128</span>)                 │               <span style=\"color: #00af00; text-decoration-color: #00af00\">0</span> │\n",
              "├──────────────────────────────────────┼─────────────────────────────┼─────────────────┤\n",
              "│ dense_1 (<span style=\"color: #0087ff; text-decoration-color: #0087ff\">Dense</span>)                      │ (<span style=\"color: #00d7ff; text-decoration-color: #00d7ff\">None</span>, <span style=\"color: #00af00; text-decoration-color: #00af00\">512</span>)                 │          <span style=\"color: #00af00; text-decoration-color: #00af00\">66,048</span> │\n",
              "└──────────────────────────────────────┴─────────────────────────────┴─────────────────┘\n",
              "</pre>\n"
            ]
          },
          "metadata": {}
        },
        {
          "output_type": "display_data",
          "data": {
            "text/plain": [
              "\u001b[1m Total params: \u001b[0m\u001b[38;5;34m848,320\u001b[0m (3.24 MB)\n"
            ],
            "text/html": [
              "<pre style=\"white-space:pre;overflow-x:auto;line-height:normal;font-family:Menlo,'DejaVu Sans Mono',consolas,'Courier New',monospace\"><span style=\"font-weight: bold\"> Total params: </span><span style=\"color: #00af00; text-decoration-color: #00af00\">848,320</span> (3.24 MB)\n",
              "</pre>\n"
            ]
          },
          "metadata": {}
        },
        {
          "output_type": "display_data",
          "data": {
            "text/plain": [
              "\u001b[1m Trainable params: \u001b[0m\u001b[38;5;34m846,784\u001b[0m (3.23 MB)\n"
            ],
            "text/html": [
              "<pre style=\"white-space:pre;overflow-x:auto;line-height:normal;font-family:Menlo,'DejaVu Sans Mono',consolas,'Courier New',monospace\"><span style=\"font-weight: bold\"> Trainable params: </span><span style=\"color: #00af00; text-decoration-color: #00af00\">846,784</span> (3.23 MB)\n",
              "</pre>\n"
            ]
          },
          "metadata": {}
        },
        {
          "output_type": "display_data",
          "data": {
            "text/plain": [
              "\u001b[1m Non-trainable params: \u001b[0m\u001b[38;5;34m1,536\u001b[0m (6.00 KB)\n"
            ],
            "text/html": [
              "<pre style=\"white-space:pre;overflow-x:auto;line-height:normal;font-family:Menlo,'DejaVu Sans Mono',consolas,'Courier New',monospace\"><span style=\"font-weight: bold\"> Non-trainable params: </span><span style=\"color: #00af00; text-decoration-color: #00af00\">1,536</span> (6.00 KB)\n",
              "</pre>\n"
            ]
          },
          "metadata": {}
        }
      ]
    },
    {
      "cell_type": "code",
      "source": [
        "# Train the model\n",
        "history = model.fit(DNA_features_reshaped, y_train, epochs=100, batch_size=32, validation_data=(X_test_reshape, y_test))\n",
        "\n",
        "# Evaluate the model on the test set\n",
        "loss, accuracy = model.evaluate(X_test_reshape, y_test)\n",
        "print(\"Test Loss:\", loss)\n",
        "print(\"Test Accuracy:\", accuracy)\n",
        "\n",
        "# Plotting the training and validation accuracy\n",
        "plt.plot(history.history['accuracy'], label='Training Accuracy')\n",
        "plt.plot(history.history['val_accuracy'], label='Validation Accuracy')\n",
        "plt.title('Model Accuracy')\n",
        "plt.ylabel('Accuracy')\n",
        "plt.xlabel('Epoch')\n",
        "plt.legend()\n",
        "plt.show()\n",
        "\n",
        "# Plotting the training and validation loss\n",
        "plt.plot(history.history['loss'], label='Training Loss')\n",
        "plt.plot(history.history['val_loss'], label='Validation Loss')\n",
        "plt.title('Model Loss')\n",
        "plt.ylabel('Loss')\n",
        "plt.xlabel('Epoch')\n",
        "plt.legend()\n",
        "plt.show()\n",
        "\n",
        "\n",
        "y_pred_probs = model.predict(X_test_reshape)\n",
        "y_pred = np.argmax(y_pred_probs, axis=1)\n",
        "\n",
        "print(classification_report(y_test, y_pred))\n",
        "\n",
        "cm = confusion_matrix(y_test, y_pred)\n",
        "sns.heatmap(cm, annot=True, fmt='d', cmap='Blues')\n",
        "plt.xlabel('Predicted')\n",
        "plt.ylabel('True')\n",
        "plt.title('Confusion Matrix')\n",
        "plt.show()\n"
      ],
      "metadata": {
        "colab": {
          "base_uri": "https://localhost:8080/",
          "height": 1000
        },
        "id": "uxLNtocRx4Of",
        "outputId": "89c75eb8-ccd6-4cd2-8dc4-1f55b292a70b"
      },
      "execution_count": 29,
      "outputs": [
        {
          "output_type": "stream",
          "name": "stdout",
          "text": [
            "Epoch 1/100\n",
            "\u001b[1m65/65\u001b[0m \u001b[32m━━━━━━━━━━━━━━━━━━━━\u001b[0m\u001b[37m\u001b[0m \u001b[1m11s\u001b[0m 42ms/step - accuracy: 0.3206 - loss: 5.7071 - val_accuracy: 0.4108 - val_loss: 1.1281\n",
            "Epoch 2/100\n",
            "\u001b[1m65/65\u001b[0m \u001b[32m━━━━━━━━━━━━━━━━━━━━\u001b[0m\u001b[37m\u001b[0m \u001b[1m4s\u001b[0m 22ms/step - accuracy: 0.3599 - loss: 1.1744 - val_accuracy: 0.3333 - val_loss: 1.1061\n",
            "Epoch 3/100\n",
            "\u001b[1m65/65\u001b[0m \u001b[32m━━━━━━━━━━━━━━━━━━━━\u001b[0m\u001b[37m\u001b[0m \u001b[1m3s\u001b[0m 22ms/step - accuracy: 0.3852 - loss: 1.1065 - val_accuracy: 0.4613 - val_loss: 1.0560\n",
            "Epoch 4/100\n",
            "\u001b[1m65/65\u001b[0m \u001b[32m━━━━━━━━━━━━━━━━━━━━\u001b[0m\u001b[37m\u001b[0m \u001b[1m3s\u001b[0m 22ms/step - accuracy: 0.4959 - loss: 1.0206 - val_accuracy: 0.3502 - val_loss: 1.1500\n",
            "Epoch 5/100\n",
            "\u001b[1m65/65\u001b[0m \u001b[32m━━━━━━━━━━━━━━━━━━━━\u001b[0m\u001b[37m\u001b[0m \u001b[1m1s\u001b[0m 22ms/step - accuracy: 0.5711 - loss: 0.9343 - val_accuracy: 0.3973 - val_loss: 1.1162\n",
            "Epoch 6/100\n",
            "\u001b[1m65/65\u001b[0m \u001b[32m━━━━━━━━━━━━━━━━━━━━\u001b[0m\u001b[37m\u001b[0m \u001b[1m3s\u001b[0m 34ms/step - accuracy: 0.5628 - loss: 0.8975 - val_accuracy: 0.4141 - val_loss: 1.1730\n",
            "Epoch 7/100\n",
            "\u001b[1m65/65\u001b[0m \u001b[32m━━━━━━━━━━━━━━━━━━━━\u001b[0m\u001b[37m\u001b[0m \u001b[1m3s\u001b[0m 47ms/step - accuracy: 0.6055 - loss: 0.8274 - val_accuracy: 0.6162 - val_loss: 0.7361\n",
            "Epoch 8/100\n",
            "\u001b[1m65/65\u001b[0m \u001b[32m━━━━━━━━━━━━━━━━━━━━\u001b[0m\u001b[37m\u001b[0m \u001b[1m5s\u001b[0m 40ms/step - accuracy: 0.6025 - loss: 0.8439 - val_accuracy: 0.6566 - val_loss: 0.7589\n",
            "Epoch 9/100\n",
            "\u001b[1m65/65\u001b[0m \u001b[32m━━━━━━━━━━━━━━━━━━━━\u001b[0m\u001b[37m\u001b[0m \u001b[1m4s\u001b[0m 21ms/step - accuracy: 0.6441 - loss: 0.7869 - val_accuracy: 0.6835 - val_loss: 0.7041\n",
            "Epoch 10/100\n",
            "\u001b[1m65/65\u001b[0m \u001b[32m━━━━━━━━━━━━━━━━━━━━\u001b[0m\u001b[37m\u001b[0m \u001b[1m1s\u001b[0m 22ms/step - accuracy: 0.6729 - loss: 0.7557 - val_accuracy: 0.6734 - val_loss: 0.6841\n",
            "Epoch 11/100\n",
            "\u001b[1m65/65\u001b[0m \u001b[32m━━━━━━━━━━━━━━━━━━━━\u001b[0m\u001b[37m\u001b[0m \u001b[1m2s\u001b[0m 28ms/step - accuracy: 0.6737 - loss: 0.7050 - val_accuracy: 0.7071 - val_loss: 0.6553\n",
            "Epoch 12/100\n",
            "\u001b[1m65/65\u001b[0m \u001b[32m━━━━━━━━━━━━━━━━━━━━\u001b[0m\u001b[37m\u001b[0m \u001b[1m3s\u001b[0m 38ms/step - accuracy: 0.6669 - loss: 0.7035 - val_accuracy: 0.6902 - val_loss: 0.6490\n",
            "Epoch 13/100\n",
            "\u001b[1m65/65\u001b[0m \u001b[32m━━━━━━━━━━━━━━━━━━━━\u001b[0m\u001b[37m\u001b[0m \u001b[1m2s\u001b[0m 25ms/step - accuracy: 0.7035 - loss: 0.6803 - val_accuracy: 0.7239 - val_loss: 0.6083\n",
            "Epoch 14/100\n",
            "\u001b[1m65/65\u001b[0m \u001b[32m━━━━━━━━━━━━━━━━━━━━\u001b[0m\u001b[37m\u001b[0m \u001b[1m2s\u001b[0m 22ms/step - accuracy: 0.7144 - loss: 0.6515 - val_accuracy: 0.7778 - val_loss: 0.6628\n",
            "Epoch 15/100\n",
            "\u001b[1m65/65\u001b[0m \u001b[32m━━━━━━━━━━━━━━━━━━━━\u001b[0m\u001b[37m\u001b[0m \u001b[1m1s\u001b[0m 22ms/step - accuracy: 0.7453 - loss: 0.6341 - val_accuracy: 0.7845 - val_loss: 0.5679\n",
            "Epoch 16/100\n",
            "\u001b[1m65/65\u001b[0m \u001b[32m━━━━━━━━━━━━━━━━━━━━\u001b[0m\u001b[37m\u001b[0m \u001b[1m1s\u001b[0m 22ms/step - accuracy: 0.7679 - loss: 0.5760 - val_accuracy: 0.7542 - val_loss: 0.6559\n",
            "Epoch 17/100\n",
            "\u001b[1m65/65\u001b[0m \u001b[32m━━━━━━━━━━━━━━━━━━━━\u001b[0m\u001b[37m\u001b[0m \u001b[1m1s\u001b[0m 22ms/step - accuracy: 0.8010 - loss: 0.5402 - val_accuracy: 0.8283 - val_loss: 0.5370\n",
            "Epoch 18/100\n",
            "\u001b[1m65/65\u001b[0m \u001b[32m━━━━━━━━━━━━━━━━━━━━\u001b[0m\u001b[37m\u001b[0m \u001b[1m3s\u001b[0m 26ms/step - accuracy: 0.8221 - loss: 0.4764 - val_accuracy: 0.8013 - val_loss: 0.5380\n",
            "Epoch 19/100\n",
            "\u001b[1m65/65\u001b[0m \u001b[32m━━━━━━━━━━━━━━━━━━━━\u001b[0m\u001b[37m\u001b[0m \u001b[1m2s\u001b[0m 35ms/step - accuracy: 0.8393 - loss: 0.4802 - val_accuracy: 0.8552 - val_loss: 0.4420\n",
            "Epoch 20/100\n",
            "\u001b[1m65/65\u001b[0m \u001b[32m━━━━━━━━━━━━━━━━━━━━\u001b[0m\u001b[37m\u001b[0m \u001b[1m2s\u001b[0m 36ms/step - accuracy: 0.8217 - loss: 0.4598 - val_accuracy: 0.8451 - val_loss: 0.4429\n",
            "Epoch 21/100\n",
            "\u001b[1m65/65\u001b[0m \u001b[32m━━━━━━━━━━━━━━━━━━━━\u001b[0m\u001b[37m\u001b[0m \u001b[1m2s\u001b[0m 23ms/step - accuracy: 0.8444 - loss: 0.4548 - val_accuracy: 0.7811 - val_loss: 0.7619\n",
            "Epoch 22/100\n",
            "\u001b[1m65/65\u001b[0m \u001b[32m━━━━━━━━━━━━━━━━━━━━\u001b[0m\u001b[37m\u001b[0m \u001b[1m1s\u001b[0m 22ms/step - accuracy: 0.8595 - loss: 0.4276 - val_accuracy: 0.8822 - val_loss: 0.3618\n",
            "Epoch 23/100\n",
            "\u001b[1m65/65\u001b[0m \u001b[32m━━━━━━━━━━━━━━━━━━━━\u001b[0m\u001b[37m\u001b[0m \u001b[1m3s\u001b[0m 22ms/step - accuracy: 0.8629 - loss: 0.4094 - val_accuracy: 0.8788 - val_loss: 0.3731\n",
            "Epoch 24/100\n",
            "\u001b[1m65/65\u001b[0m \u001b[32m━━━━━━━━━━━━━━━━━━━━\u001b[0m\u001b[37m\u001b[0m \u001b[1m3s\u001b[0m 22ms/step - accuracy: 0.8808 - loss: 0.3560 - val_accuracy: 0.8283 - val_loss: 0.5739\n",
            "Epoch 25/100\n",
            "\u001b[1m65/65\u001b[0m \u001b[32m━━━━━━━━━━━━━━━━━━━━\u001b[0m\u001b[37m\u001b[0m \u001b[1m3s\u001b[0m 25ms/step - accuracy: 0.8594 - loss: 0.3733 - val_accuracy: 0.9057 - val_loss: 0.3293\n",
            "Epoch 26/100\n",
            "\u001b[1m65/65\u001b[0m \u001b[32m━━━━━━━━━━━━━━━━━━━━\u001b[0m\u001b[37m\u001b[0m \u001b[1m3s\u001b[0m 36ms/step - accuracy: 0.8690 - loss: 0.3605 - val_accuracy: 0.9057 - val_loss: 0.3421\n",
            "Epoch 27/100\n",
            "\u001b[1m65/65\u001b[0m \u001b[32m━━━━━━━━━━━━━━━━━━━━\u001b[0m\u001b[37m\u001b[0m \u001b[1m2s\u001b[0m 24ms/step - accuracy: 0.8983 - loss: 0.3066 - val_accuracy: 0.8923 - val_loss: 0.3593\n",
            "Epoch 28/100\n",
            "\u001b[1m65/65\u001b[0m \u001b[32m━━━━━━━━━━━━━━━━━━━━\u001b[0m\u001b[37m\u001b[0m \u001b[1m2s\u001b[0m 21ms/step - accuracy: 0.8957 - loss: 0.3158 - val_accuracy: 0.8990 - val_loss: 0.3218\n",
            "Epoch 29/100\n",
            "\u001b[1m65/65\u001b[0m \u001b[32m━━━━━━━━━━━━━━━━━━━━\u001b[0m\u001b[37m\u001b[0m \u001b[1m3s\u001b[0m 22ms/step - accuracy: 0.8932 - loss: 0.3015 - val_accuracy: 0.8653 - val_loss: 0.3796\n",
            "Epoch 30/100\n",
            "\u001b[1m65/65\u001b[0m \u001b[32m━━━━━━━━━━━━━━━━━━━━\u001b[0m\u001b[37m\u001b[0m \u001b[1m1s\u001b[0m 22ms/step - accuracy: 0.8914 - loss: 0.3166 - val_accuracy: 0.8923 - val_loss: 0.3265\n",
            "Epoch 31/100\n",
            "\u001b[1m65/65\u001b[0m \u001b[32m━━━━━━━━━━━━━━━━━━━━\u001b[0m\u001b[37m\u001b[0m \u001b[1m3s\u001b[0m 23ms/step - accuracy: 0.9076 - loss: 0.2722 - val_accuracy: 0.8923 - val_loss: 0.3328\n",
            "Epoch 32/100\n",
            "\u001b[1m65/65\u001b[0m \u001b[32m━━━━━━━━━━━━━━━━━━━━\u001b[0m\u001b[37m\u001b[0m \u001b[1m3s\u001b[0m 36ms/step - accuracy: 0.9026 - loss: 0.2824 - val_accuracy: 0.9057 - val_loss: 0.3136\n",
            "Epoch 33/100\n",
            "\u001b[1m65/65\u001b[0m \u001b[32m━━━━━━━━━━━━━━━━━━━━\u001b[0m\u001b[37m\u001b[0m \u001b[1m2s\u001b[0m 26ms/step - accuracy: 0.9075 - loss: 0.2797 - val_accuracy: 0.9057 - val_loss: 0.3516\n",
            "Epoch 34/100\n",
            "\u001b[1m65/65\u001b[0m \u001b[32m━━━━━━━━━━━━━━━━━━━━\u001b[0m\u001b[37m\u001b[0m \u001b[1m2s\u001b[0m 21ms/step - accuracy: 0.9028 - loss: 0.2749 - val_accuracy: 0.9057 - val_loss: 0.3014\n",
            "Epoch 35/100\n",
            "\u001b[1m65/65\u001b[0m \u001b[32m━━━━━━━━━━━━━━━━━━━━\u001b[0m\u001b[37m\u001b[0m \u001b[1m3s\u001b[0m 22ms/step - accuracy: 0.9151 - loss: 0.2446 - val_accuracy: 0.9057 - val_loss: 0.3160\n",
            "Epoch 36/100\n",
            "\u001b[1m65/65\u001b[0m \u001b[32m━━━━━━━━━━━━━━━━━━━━\u001b[0m\u001b[37m\u001b[0m \u001b[1m2s\u001b[0m 28ms/step - accuracy: 0.9181 - loss: 0.2416 - val_accuracy: 0.9327 - val_loss: 0.2607\n",
            "Epoch 37/100\n",
            "\u001b[1m65/65\u001b[0m \u001b[32m━━━━━━━━━━━━━━━━━━━━\u001b[0m\u001b[37m\u001b[0m \u001b[1m2s\u001b[0m 25ms/step - accuracy: 0.9119 - loss: 0.2288 - val_accuracy: 0.9091 - val_loss: 0.2787\n",
            "Epoch 38/100\n",
            "\u001b[1m65/65\u001b[0m \u001b[32m━━━━━━━━━━━━━━━━━━━━\u001b[0m\u001b[37m\u001b[0m \u001b[1m3s\u001b[0m 40ms/step - accuracy: 0.9191 - loss: 0.2354 - val_accuracy: 0.9024 - val_loss: 0.3013\n",
            "Epoch 39/100\n",
            "\u001b[1m65/65\u001b[0m \u001b[32m━━━━━━━━━━━━━━━━━━━━\u001b[0m\u001b[37m\u001b[0m \u001b[1m2s\u001b[0m 36ms/step - accuracy: 0.9244 - loss: 0.2428 - val_accuracy: 0.9158 - val_loss: 0.2922\n",
            "Epoch 40/100\n",
            "\u001b[1m65/65\u001b[0m \u001b[32m━━━━━━━━━━━━━━━━━━━━\u001b[0m\u001b[37m\u001b[0m \u001b[1m2s\u001b[0m 29ms/step - accuracy: 0.9214 - loss: 0.2171 - val_accuracy: 0.9192 - val_loss: 0.2601\n",
            "Epoch 41/100\n",
            "\u001b[1m65/65\u001b[0m \u001b[32m━━━━━━━━━━━━━━━━━━━━\u001b[0m\u001b[37m\u001b[0m \u001b[1m2s\u001b[0m 21ms/step - accuracy: 0.9207 - loss: 0.2347 - val_accuracy: 0.8990 - val_loss: 0.3217\n",
            "Epoch 42/100\n",
            "\u001b[1m65/65\u001b[0m \u001b[32m━━━━━━━━━━━━━━━━━━━━\u001b[0m\u001b[37m\u001b[0m \u001b[1m2s\u001b[0m 24ms/step - accuracy: 0.9313 - loss: 0.1991 - val_accuracy: 0.9293 - val_loss: 0.2619\n",
            "Epoch 43/100\n",
            "\u001b[1m65/65\u001b[0m \u001b[32m━━━━━━━━━━━━━━━━━━━━\u001b[0m\u001b[37m\u001b[0m \u001b[1m2s\u001b[0m 23ms/step - accuracy: 0.9175 - loss: 0.2154 - val_accuracy: 0.9125 - val_loss: 0.2883\n",
            "Epoch 44/100\n",
            "\u001b[1m65/65\u001b[0m \u001b[32m━━━━━━━━━━━━━━━━━━━━\u001b[0m\u001b[37m\u001b[0m \u001b[1m1s\u001b[0m 22ms/step - accuracy: 0.9359 - loss: 0.1824 - val_accuracy: 0.9057 - val_loss: 0.3107\n",
            "Epoch 45/100\n",
            "\u001b[1m65/65\u001b[0m \u001b[32m━━━━━━━━━━━━━━━━━━━━\u001b[0m\u001b[37m\u001b[0m \u001b[1m1s\u001b[0m 23ms/step - accuracy: 0.9320 - loss: 0.1894 - val_accuracy: 0.9158 - val_loss: 0.2856\n",
            "Epoch 46/100\n",
            "\u001b[1m65/65\u001b[0m \u001b[32m━━━━━━━━━━━━━━━━━━━━\u001b[0m\u001b[37m\u001b[0m \u001b[1m3s\u001b[0m 35ms/step - accuracy: 0.9220 - loss: 0.2213 - val_accuracy: 0.9125 - val_loss: 0.3176\n",
            "Epoch 47/100\n",
            "\u001b[1m65/65\u001b[0m \u001b[32m━━━━━━━━━━━━━━━━━━━━\u001b[0m\u001b[37m\u001b[0m \u001b[1m2s\u001b[0m 37ms/step - accuracy: 0.9221 - loss: 0.2211 - val_accuracy: 0.9158 - val_loss: 0.2716\n",
            "Epoch 48/100\n",
            "\u001b[1m65/65\u001b[0m \u001b[32m━━━━━━━━━━━━━━━━━━━━\u001b[0m\u001b[37m\u001b[0m \u001b[1m2s\u001b[0m 22ms/step - accuracy: 0.9231 - loss: 0.2088 - val_accuracy: 0.9091 - val_loss: 0.2561\n",
            "Epoch 49/100\n",
            "\u001b[1m65/65\u001b[0m \u001b[32m━━━━━━━━━━━━━━━━━━━━\u001b[0m\u001b[37m\u001b[0m \u001b[1m1s\u001b[0m 22ms/step - accuracy: 0.9359 - loss: 0.1796 - val_accuracy: 0.8990 - val_loss: 0.3122\n",
            "Epoch 50/100\n",
            "\u001b[1m65/65\u001b[0m \u001b[32m━━━━━━━━━━━━━━━━━━━━\u001b[0m\u001b[37m\u001b[0m \u001b[1m3s\u001b[0m 22ms/step - accuracy: 0.9336 - loss: 0.2128 - val_accuracy: 0.9192 - val_loss: 0.2831\n",
            "Epoch 51/100\n",
            "\u001b[1m65/65\u001b[0m \u001b[32m━━━━━━━━━━━━━━━━━━━━\u001b[0m\u001b[37m\u001b[0m \u001b[1m3s\u001b[0m 22ms/step - accuracy: 0.9246 - loss: 0.2173 - val_accuracy: 0.9360 - val_loss: 0.2546\n",
            "Epoch 52/100\n",
            "\u001b[1m65/65\u001b[0m \u001b[32m━━━━━━━━━━━━━━━━━━━━\u001b[0m\u001b[37m\u001b[0m \u001b[1m1s\u001b[0m 21ms/step - accuracy: 0.9375 - loss: 0.1953 - val_accuracy: 0.9293 - val_loss: 0.2636\n",
            "Epoch 53/100\n",
            "\u001b[1m65/65\u001b[0m \u001b[32m━━━━━━━━━━━━━━━━━━━━\u001b[0m\u001b[37m\u001b[0m \u001b[1m4s\u001b[0m 36ms/step - accuracy: 0.9281 - loss: 0.1902 - val_accuracy: 0.9125 - val_loss: 0.2856\n",
            "Epoch 54/100\n",
            "\u001b[1m65/65\u001b[0m \u001b[32m━━━━━━━━━━━━━━━━━━━━\u001b[0m\u001b[37m\u001b[0m \u001b[1m2s\u001b[0m 32ms/step - accuracy: 0.9408 - loss: 0.1903 - val_accuracy: 0.9158 - val_loss: 0.2910\n",
            "Epoch 55/100\n",
            "\u001b[1m65/65\u001b[0m \u001b[32m━━━━━━━━━━━━━━━━━━━━\u001b[0m\u001b[37m\u001b[0m \u001b[1m1s\u001b[0m 22ms/step - accuracy: 0.9456 - loss: 0.1728 - val_accuracy: 0.9394 - val_loss: 0.2695\n",
            "Epoch 56/100\n",
            "\u001b[1m65/65\u001b[0m \u001b[32m━━━━━━━━━━━━━━━━━━━━\u001b[0m\u001b[37m\u001b[0m \u001b[1m1s\u001b[0m 23ms/step - accuracy: 0.9374 - loss: 0.1883 - val_accuracy: 0.9394 - val_loss: 0.2393\n",
            "Epoch 57/100\n",
            "\u001b[1m65/65\u001b[0m \u001b[32m━━━━━━━━━━━━━━━━━━━━\u001b[0m\u001b[37m\u001b[0m \u001b[1m3s\u001b[0m 22ms/step - accuracy: 0.9325 - loss: 0.1980 - val_accuracy: 0.9293 - val_loss: 0.2912\n",
            "Epoch 58/100\n",
            "\u001b[1m65/65\u001b[0m \u001b[32m━━━━━━━━━━━━━━━━━━━━\u001b[0m\u001b[37m\u001b[0m \u001b[1m3s\u001b[0m 22ms/step - accuracy: 0.9396 - loss: 0.1718 - val_accuracy: 0.9259 - val_loss: 0.2645\n",
            "Epoch 59/100\n",
            "\u001b[1m65/65\u001b[0m \u001b[32m━━━━━━━━━━━━━━━━━━━━\u001b[0m\u001b[37m\u001b[0m \u001b[1m3s\u001b[0m 31ms/step - accuracy: 0.9350 - loss: 0.1755 - val_accuracy: 0.9226 - val_loss: 0.2418\n",
            "Epoch 60/100\n",
            "\u001b[1m65/65\u001b[0m \u001b[32m━━━━━━━━━━━━━━━━━━━━\u001b[0m\u001b[37m\u001b[0m \u001b[1m2s\u001b[0m 37ms/step - accuracy: 0.9358 - loss: 0.1693 - val_accuracy: 0.9461 - val_loss: 0.2018\n",
            "Epoch 61/100\n",
            "\u001b[1m65/65\u001b[0m \u001b[32m━━━━━━━━━━━━━━━━━━━━\u001b[0m\u001b[37m\u001b[0m \u001b[1m2s\u001b[0m 29ms/step - accuracy: 0.9452 - loss: 0.1531 - val_accuracy: 0.9360 - val_loss: 0.2198\n",
            "Epoch 62/100\n",
            "\u001b[1m65/65\u001b[0m \u001b[32m━━━━━━━━━━━━━━━━━━━━\u001b[0m\u001b[37m\u001b[0m \u001b[1m2s\u001b[0m 22ms/step - accuracy: 0.9538 - loss: 0.1409 - val_accuracy: 0.9327 - val_loss: 0.2922\n",
            "Epoch 63/100\n",
            "\u001b[1m65/65\u001b[0m \u001b[32m━━━━━━━━━━━━━━━━━━━━\u001b[0m\u001b[37m\u001b[0m \u001b[1m1s\u001b[0m 22ms/step - accuracy: 0.9313 - loss: 0.1744 - val_accuracy: 0.9327 - val_loss: 0.2509\n",
            "Epoch 64/100\n",
            "\u001b[1m65/65\u001b[0m \u001b[32m━━━━━━━━━━━━━━━━━━━━\u001b[0m\u001b[37m\u001b[0m \u001b[1m3s\u001b[0m 21ms/step - accuracy: 0.9486 - loss: 0.1623 - val_accuracy: 0.9360 - val_loss: 0.2740\n",
            "Epoch 65/100\n",
            "\u001b[1m65/65\u001b[0m \u001b[32m━━━━━━━━━━━━━━━━━━━━\u001b[0m\u001b[37m\u001b[0m \u001b[1m1s\u001b[0m 23ms/step - accuracy: 0.9415 - loss: 0.1721 - val_accuracy: 0.9293 - val_loss: 0.2783\n",
            "Epoch 66/100\n",
            "\u001b[1m65/65\u001b[0m \u001b[32m━━━━━━━━━━━━━━━━━━━━\u001b[0m\u001b[37m\u001b[0m \u001b[1m3s\u001b[0m 29ms/step - accuracy: 0.9338 - loss: 0.1826 - val_accuracy: 0.9259 - val_loss: 0.2792\n",
            "Epoch 67/100\n",
            "\u001b[1m65/65\u001b[0m \u001b[32m━━━━━━━━━━━━━━━━━━━━\u001b[0m\u001b[37m\u001b[0m \u001b[1m3s\u001b[0m 37ms/step - accuracy: 0.9391 - loss: 0.1737 - val_accuracy: 0.9192 - val_loss: 0.2677\n",
            "Epoch 68/100\n",
            "\u001b[1m65/65\u001b[0m \u001b[32m━━━━━━━━━━━━━━━━━━━━\u001b[0m\u001b[37m\u001b[0m \u001b[1m2s\u001b[0m 24ms/step - accuracy: 0.9383 - loss: 0.1799 - val_accuracy: 0.9091 - val_loss: 0.2789\n",
            "Epoch 69/100\n",
            "\u001b[1m65/65\u001b[0m \u001b[32m━━━━━━━━━━━━━━━━━━━━\u001b[0m\u001b[37m\u001b[0m \u001b[1m1s\u001b[0m 21ms/step - accuracy: 0.9455 - loss: 0.1532 - val_accuracy: 0.9192 - val_loss: 0.2946\n",
            "Epoch 70/100\n",
            "\u001b[1m65/65\u001b[0m \u001b[32m━━━━━━━━━━━━━━━━━━━━\u001b[0m\u001b[37m\u001b[0m \u001b[1m1s\u001b[0m 22ms/step - accuracy: 0.9489 - loss: 0.1608 - val_accuracy: 0.9293 - val_loss: 0.2400\n",
            "Epoch 71/100\n",
            "\u001b[1m65/65\u001b[0m \u001b[32m━━━━━━━━━━━━━━━━━━━━\u001b[0m\u001b[37m\u001b[0m \u001b[1m3s\u001b[0m 23ms/step - accuracy: 0.9430 - loss: 0.1640 - val_accuracy: 0.9360 - val_loss: 0.2336\n",
            "Epoch 72/100\n",
            "\u001b[1m65/65\u001b[0m \u001b[32m━━━━━━━━━━━━━━━━━━━━\u001b[0m\u001b[37m\u001b[0m \u001b[1m1s\u001b[0m 21ms/step - accuracy: 0.9342 - loss: 0.1838 - val_accuracy: 0.9394 - val_loss: 0.2178\n",
            "Epoch 73/100\n",
            "\u001b[1m65/65\u001b[0m \u001b[32m━━━━━━━━━━━━━━━━━━━━\u001b[0m\u001b[37m\u001b[0m \u001b[1m3s\u001b[0m 26ms/step - accuracy: 0.9449 - loss: 0.1508 - val_accuracy: 0.9293 - val_loss: 0.2628\n",
            "Epoch 74/100\n",
            "\u001b[1m65/65\u001b[0m \u001b[32m━━━━━━━━━━━━━━━━━━━━\u001b[0m\u001b[37m\u001b[0m \u001b[1m2s\u001b[0m 38ms/step - accuracy: 0.9282 - loss: 0.1697 - val_accuracy: 0.9360 - val_loss: 0.2553\n",
            "Epoch 75/100\n",
            "\u001b[1m65/65\u001b[0m \u001b[32m━━━━━━━━━━━━━━━━━━━━\u001b[0m\u001b[37m\u001b[0m \u001b[1m2s\u001b[0m 32ms/step - accuracy: 0.9577 - loss: 0.1268 - val_accuracy: 0.9360 - val_loss: 0.2580\n",
            "Epoch 76/100\n",
            "\u001b[1m65/65\u001b[0m \u001b[32m━━━━━━━━━━━━━━━━━━━━\u001b[0m\u001b[37m\u001b[0m \u001b[1m2s\u001b[0m 22ms/step - accuracy: 0.9361 - loss: 0.1850 - val_accuracy: 0.9226 - val_loss: 0.2883\n",
            "Epoch 77/100\n",
            "\u001b[1m65/65\u001b[0m \u001b[32m━━━━━━━━━━━━━━━━━━━━\u001b[0m\u001b[37m\u001b[0m \u001b[1m3s\u001b[0m 21ms/step - accuracy: 0.9446 - loss: 0.1569 - val_accuracy: 0.8721 - val_loss: 0.4733\n",
            "Epoch 78/100\n",
            "\u001b[1m65/65\u001b[0m \u001b[32m━━━━━━━━━━━━━━━━━━━━\u001b[0m\u001b[37m\u001b[0m \u001b[1m3s\u001b[0m 21ms/step - accuracy: 0.9415 - loss: 0.1570 - val_accuracy: 0.9327 - val_loss: 0.2683\n",
            "Epoch 79/100\n",
            "\u001b[1m65/65\u001b[0m \u001b[32m━━━━━━━━━━━━━━━━━━━━\u001b[0m\u001b[37m\u001b[0m \u001b[1m3s\u001b[0m 22ms/step - accuracy: 0.9342 - loss: 0.1850 - val_accuracy: 0.9327 - val_loss: 0.2598\n",
            "Epoch 80/100\n",
            "\u001b[1m65/65\u001b[0m \u001b[32m━━━━━━━━━━━━━━━━━━━━\u001b[0m\u001b[37m\u001b[0m \u001b[1m3s\u001b[0m 36ms/step - accuracy: 0.9446 - loss: 0.1639 - val_accuracy: 0.9091 - val_loss: 0.4319\n",
            "Epoch 81/100\n",
            "\u001b[1m65/65\u001b[0m \u001b[32m━━━━━━━━━━━━━━━━━━━━\u001b[0m\u001b[37m\u001b[0m \u001b[1m2s\u001b[0m 25ms/step - accuracy: 0.9418 - loss: 0.1604 - val_accuracy: 0.9259 - val_loss: 0.2614\n",
            "Epoch 82/100\n",
            "\u001b[1m65/65\u001b[0m \u001b[32m━━━━━━━━━━━━━━━━━━━━\u001b[0m\u001b[37m\u001b[0m \u001b[1m1s\u001b[0m 22ms/step - accuracy: 0.9361 - loss: 0.1633 - val_accuracy: 0.8788 - val_loss: 0.4754\n",
            "Epoch 83/100\n",
            "\u001b[1m65/65\u001b[0m \u001b[32m━━━━━━━━━━━━━━━━━━━━\u001b[0m\u001b[37m\u001b[0m \u001b[1m3s\u001b[0m 22ms/step - accuracy: 0.9409 - loss: 0.1790 - val_accuracy: 0.9293 - val_loss: 0.2578\n",
            "Epoch 84/100\n",
            "\u001b[1m65/65\u001b[0m \u001b[32m━━━━━━━━━━━━━━━━━━━━\u001b[0m\u001b[37m\u001b[0m \u001b[1m3s\u001b[0m 22ms/step - accuracy: 0.9460 - loss: 0.1610 - val_accuracy: 0.9394 - val_loss: 0.2243\n",
            "Epoch 85/100\n",
            "\u001b[1m65/65\u001b[0m \u001b[32m━━━━━━━━━━━━━━━━━━━━\u001b[0m\u001b[37m\u001b[0m \u001b[1m3s\u001b[0m 34ms/step - accuracy: 0.9491 - loss: 0.1512 - val_accuracy: 0.9360 - val_loss: 0.2782\n",
            "Epoch 86/100\n",
            "\u001b[1m65/65\u001b[0m \u001b[32m━━━━━━━━━━━━━━━━━━━━\u001b[0m\u001b[37m\u001b[0m \u001b[1m3s\u001b[0m 36ms/step - accuracy: 0.9381 - loss: 0.1789 - val_accuracy: 0.9428 - val_loss: 0.2213\n",
            "Epoch 87/100\n",
            "\u001b[1m65/65\u001b[0m \u001b[32m━━━━━━━━━━━━━━━━━━━━\u001b[0m\u001b[37m\u001b[0m \u001b[1m2s\u001b[0m 32ms/step - accuracy: 0.9531 - loss: 0.1204 - val_accuracy: 0.9461 - val_loss: 0.2252\n",
            "Epoch 88/100\n",
            "\u001b[1m65/65\u001b[0m \u001b[32m━━━━━━━━━━━━━━━━━━━━\u001b[0m\u001b[37m\u001b[0m \u001b[1m1s\u001b[0m 22ms/step - accuracy: 0.9328 - loss: 0.1749 - val_accuracy: 0.9428 - val_loss: 0.2222\n",
            "Epoch 89/100\n",
            "\u001b[1m65/65\u001b[0m \u001b[32m━━━━━━━━━━━━━━━━━━━━\u001b[0m\u001b[37m\u001b[0m \u001b[1m3s\u001b[0m 22ms/step - accuracy: 0.9486 - loss: 0.1537 - val_accuracy: 0.9226 - val_loss: 0.3307\n",
            "Epoch 90/100\n",
            "\u001b[1m65/65\u001b[0m \u001b[32m━━━━━━━━━━━━━━━━━━━━\u001b[0m\u001b[37m\u001b[0m \u001b[1m1s\u001b[0m 21ms/step - accuracy: 0.9591 - loss: 0.1213 - val_accuracy: 0.9259 - val_loss: 0.3112\n",
            "Epoch 91/100\n",
            "\u001b[1m65/65\u001b[0m \u001b[32m━━━━━━━━━━━━━━━━━━━━\u001b[0m\u001b[37m\u001b[0m \u001b[1m1s\u001b[0m 22ms/step - accuracy: 0.9516 - loss: 0.1451 - val_accuracy: 0.9495 - val_loss: 0.2423\n",
            "Epoch 92/100\n",
            "\u001b[1m65/65\u001b[0m \u001b[32m━━━━━━━━━━━━━━━━━━━━\u001b[0m\u001b[37m\u001b[0m \u001b[1m3s\u001b[0m 22ms/step - accuracy: 0.9412 - loss: 0.1666 - val_accuracy: 0.9259 - val_loss: 0.2568\n",
            "Epoch 93/100\n",
            "\u001b[1m65/65\u001b[0m \u001b[32m━━━━━━━━━━━━━━━━━━━━\u001b[0m\u001b[37m\u001b[0m \u001b[1m2s\u001b[0m 36ms/step - accuracy: 0.9439 - loss: 0.1411 - val_accuracy: 0.9495 - val_loss: 0.2201\n",
            "Epoch 94/100\n",
            "\u001b[1m65/65\u001b[0m \u001b[32m━━━━━━━━━━━━━━━━━━━━\u001b[0m\u001b[37m\u001b[0m \u001b[1m3s\u001b[0m 37ms/step - accuracy: 0.9493 - loss: 0.1493 - val_accuracy: 0.9461 - val_loss: 0.2233\n",
            "Epoch 95/100\n",
            "\u001b[1m65/65\u001b[0m \u001b[32m━━━━━━━━━━━━━━━━━━━━\u001b[0m\u001b[37m\u001b[0m \u001b[1m2s\u001b[0m 23ms/step - accuracy: 0.9429 - loss: 0.1542 - val_accuracy: 0.9293 - val_loss: 0.2691\n",
            "Epoch 96/100\n",
            "\u001b[1m65/65\u001b[0m \u001b[32m━━━━━━━━━━━━━━━━━━━━\u001b[0m\u001b[37m\u001b[0m \u001b[1m2s\u001b[0m 22ms/step - accuracy: 0.9423 - loss: 0.1740 - val_accuracy: 0.9327 - val_loss: 0.2371\n",
            "Epoch 97/100\n",
            "\u001b[1m65/65\u001b[0m \u001b[32m━━━━━━━━━━━━━━━━━━━━\u001b[0m\u001b[37m\u001b[0m \u001b[1m3s\u001b[0m 23ms/step - accuracy: 0.9465 - loss: 0.1406 - val_accuracy: 0.9428 - val_loss: 0.2321\n",
            "Epoch 98/100\n",
            "\u001b[1m65/65\u001b[0m \u001b[32m━━━━━━━━━━━━━━━━━━━━\u001b[0m\u001b[37m\u001b[0m \u001b[1m3s\u001b[0m 23ms/step - accuracy: 0.9382 - loss: 0.1601 - val_accuracy: 0.9327 - val_loss: 0.2405\n",
            "Epoch 99/100\n",
            "\u001b[1m65/65\u001b[0m \u001b[32m━━━━━━━━━━━━━━━━━━━━\u001b[0m\u001b[37m\u001b[0m \u001b[1m2s\u001b[0m 25ms/step - accuracy: 0.9466 - loss: 0.1526 - val_accuracy: 0.9394 - val_loss: 0.2713\n",
            "Epoch 100/100\n",
            "\u001b[1m65/65\u001b[0m \u001b[32m━━━━━━━━━━━━━━━━━━━━\u001b[0m\u001b[37m\u001b[0m \u001b[1m3s\u001b[0m 36ms/step - accuracy: 0.9486 - loss: 0.1381 - val_accuracy: 0.9360 - val_loss: 0.2303\n",
            "\u001b[1m10/10\u001b[0m \u001b[32m━━━━━━━━━━━━━━━━━━━━\u001b[0m\u001b[37m\u001b[0m \u001b[1m0s\u001b[0m 8ms/step - accuracy: 0.9359 - loss: 0.2506\n",
            "Test Loss: 0.23027025163173676\n",
            "Test Accuracy: 0.936026930809021\n"
          ]
        },
        {
          "output_type": "display_data",
          "data": {
            "text/plain": [
              "<Figure size 640x480 with 1 Axes>"
            ],
            "image/png": "[encoded data removed]"
          },
          "metadata": {}
        },
        {
          "output_type": "display_data",
          "data": {
            "text/plain": [
              "<Figure size 640x480 with 1 Axes>"
            ],
            "image/png": "[encoded data removed]"
          },
          "metadata": {}
        },
        {
          "output_type": "stream",
          "name": "stdout",
          "text": [
            "\u001b[1m10/10\u001b[0m \u001b[32m━━━━━━━━━━━━━━━━━━━━\u001b[0m\u001b[37m\u001b[0m \u001b[1m1s\u001b[0m 44ms/step\n",
            "              precision    recall  f1-score   support\n",
            "\n",
            "           0       0.90      0.96      0.93        99\n",
            "           1       0.93      0.91      0.92        99\n",
            "           2       0.98      0.94      0.96        99\n",
            "\n",
            "    accuracy                           0.94       297\n",
            "   macro avg       0.94      0.94      0.94       297\n",
            "weighted avg       0.94      0.94      0.94       297\n",
            "\n"
          ]
        },
        {
          "output_type": "display_data",
          "data": {
            "text/plain": [
              "<Figure size 640x480 with 2 Axes>"
            ],
            "image/png": "[encoded data removed]"
          },
          "metadata": {}
        }
      ]
    },
    {
      "cell_type": "code",
      "source": [
        "history = model.fit(DNA_features_reshaped, y_train,\n",
        "                        epochs=50,\n",
        "                        batch_size=32,\n",
        "                        validation_split=0.3,\n",
        "                        verbose=1)"
      ],
      "metadata": {
        "colab": {
          "base_uri": "https://localhost:8080/"
        },
        "id": "0SX7CZsFuGP9",
        "outputId": "e22f4219-f900-465b-84c8-be3efc6b6ce7"
      },
      "execution_count": 30,
      "outputs": [
        {
          "output_type": "stream",
          "name": "stdout",
          "text": [
            "Epoch 1/50\n",
            "\u001b[1m46/46\u001b[0m \u001b[32m━━━━━━━━━━━━━━━━━━━━\u001b[0m\u001b[37m\u001b[0m \u001b[1m3s\u001b[0m 58ms/step - accuracy: 0.9424 - loss: 0.1626 - val_accuracy: 0.9583 - val_loss: 0.1215\n",
            "Epoch 2/50\n",
            "\u001b[1m46/46\u001b[0m \u001b[32m━━━━━━━━━━━━━━━━━━━━\u001b[0m\u001b[37m\u001b[0m \u001b[1m3s\u001b[0m 53ms/step - accuracy: 0.9388 - loss: 0.1579 - val_accuracy: 0.9743 - val_loss: 0.0779\n",
            "Epoch 3/50\n",
            "\u001b[1m46/46\u001b[0m \u001b[32m━━━━━━━━━━━━━━━━━━━━\u001b[0m\u001b[37m\u001b[0m \u001b[1m3s\u001b[0m 52ms/step - accuracy: 0.9453 - loss: 0.1496 - val_accuracy: 0.9743 - val_loss: 0.0830\n",
            "Epoch 4/50\n",
            "\u001b[1m46/46\u001b[0m \u001b[32m━━━━━━━━━━━━━━━━━━━━\u001b[0m\u001b[37m\u001b[0m \u001b[1m2s\u001b[0m 53ms/step - accuracy: 0.9304 - loss: 0.1655 - val_accuracy: 0.9743 - val_loss: 0.0749\n",
            "Epoch 5/50\n",
            "\u001b[1m46/46\u001b[0m \u001b[32m━━━━━━━━━━━━━━━━━━━━\u001b[0m\u001b[37m\u001b[0m \u001b[1m2s\u001b[0m 37ms/step - accuracy: 0.9517 - loss: 0.1299 - val_accuracy: 0.9759 - val_loss: 0.0867\n",
            "Epoch 6/50\n",
            "\u001b[1m46/46\u001b[0m \u001b[32m━━━━━━━━━━━━━━━━━━━━\u001b[0m\u001b[37m\u001b[0m \u001b[1m2s\u001b[0m 39ms/step - accuracy: 0.9615 - loss: 0.1181 - val_accuracy: 0.9711 - val_loss: 0.0863\n",
            "Epoch 7/50\n",
            "\u001b[1m46/46\u001b[0m \u001b[32m━━━━━━━━━━━━━━━━━━━━\u001b[0m\u001b[37m\u001b[0m \u001b[1m2s\u001b[0m 22ms/step - accuracy: 0.9438 - loss: 0.1333 - val_accuracy: 0.9679 - val_loss: 0.0874\n",
            "Epoch 8/50\n",
            "\u001b[1m46/46\u001b[0m \u001b[32m━━━━━━━━━━━━━━━━━━━━\u001b[0m\u001b[37m\u001b[0m \u001b[1m1s\u001b[0m 23ms/step - accuracy: 0.9519 - loss: 0.1288 - val_accuracy: 0.9711 - val_loss: 0.0853\n",
            "Epoch 9/50\n",
            "\u001b[1m46/46\u001b[0m \u001b[32m━━━━━━━━━━━━━━━━━━━━\u001b[0m\u001b[37m\u001b[0m \u001b[1m1s\u001b[0m 23ms/step - accuracy: 0.9381 - loss: 0.1576 - val_accuracy: 0.9615 - val_loss: 0.0948\n",
            "Epoch 10/50\n",
            "\u001b[1m46/46\u001b[0m \u001b[32m━━━━━━━━━━━━━━━━━━━━\u001b[0m\u001b[37m\u001b[0m \u001b[1m1s\u001b[0m 23ms/step - accuracy: 0.9464 - loss: 0.1334 - val_accuracy: 0.9695 - val_loss: 0.0858\n",
            "Epoch 11/50\n",
            "\u001b[1m46/46\u001b[0m \u001b[32m━━━━━━━━━━━━━━━━━━━━\u001b[0m\u001b[37m\u001b[0m \u001b[1m1s\u001b[0m 23ms/step - accuracy: 0.9540 - loss: 0.1153 - val_accuracy: 0.9711 - val_loss: 0.0932\n",
            "Epoch 12/50\n",
            "\u001b[1m46/46\u001b[0m \u001b[32m━━━━━━━━━━━━━━━━━━━━\u001b[0m\u001b[37m\u001b[0m \u001b[1m1s\u001b[0m 23ms/step - accuracy: 0.9388 - loss: 0.1560 - val_accuracy: 0.9583 - val_loss: 0.0959\n",
            "Epoch 13/50\n",
            "\u001b[1m46/46\u001b[0m \u001b[32m━━━━━━━━━━━━━━━━━━━━\u001b[0m\u001b[37m\u001b[0m \u001b[1m1s\u001b[0m 23ms/step - accuracy: 0.9417 - loss: 0.1470 - val_accuracy: 0.9727 - val_loss: 0.0881\n",
            "Epoch 14/50\n",
            "\u001b[1m46/46\u001b[0m \u001b[32m━━━━━━━━━━━━━━━━━━━━\u001b[0m\u001b[37m\u001b[0m \u001b[1m1s\u001b[0m 24ms/step - accuracy: 0.9434 - loss: 0.1573 - val_accuracy: 0.9631 - val_loss: 0.1111\n",
            "Epoch 15/50\n",
            "\u001b[1m46/46\u001b[0m \u001b[32m━━━━━━━━━━━━━━━━━━━━\u001b[0m\u001b[37m\u001b[0m \u001b[1m2s\u001b[0m 36ms/step - accuracy: 0.9488 - loss: 0.1260 - val_accuracy: 0.9663 - val_loss: 0.1002\n",
            "Epoch 16/50\n",
            "\u001b[1m46/46\u001b[0m \u001b[32m━━━━━━━━━━━━━━━━━━━━\u001b[0m\u001b[37m\u001b[0m \u001b[1m3s\u001b[0m 40ms/step - accuracy: 0.9418 - loss: 0.1595 - val_accuracy: 0.9583 - val_loss: 0.1160\n",
            "Epoch 17/50\n",
            "\u001b[1m46/46\u001b[0m \u001b[32m━━━━━━━━━━━━━━━━━━━━\u001b[0m\u001b[37m\u001b[0m \u001b[1m2s\u001b[0m 24ms/step - accuracy: 0.9353 - loss: 0.1482 - val_accuracy: 0.9695 - val_loss: 0.0958\n",
            "Epoch 18/50\n",
            "\u001b[1m46/46\u001b[0m \u001b[32m━━━━━━━━━━━━━━━━━━━━\u001b[0m\u001b[37m\u001b[0m \u001b[1m1s\u001b[0m 23ms/step - accuracy: 0.9505 - loss: 0.1256 - val_accuracy: 0.9583 - val_loss: 0.1136\n",
            "Epoch 19/50\n",
            "\u001b[1m46/46\u001b[0m \u001b[32m━━━━━━━━━━━━━━━━━━━━\u001b[0m\u001b[37m\u001b[0m \u001b[1m1s\u001b[0m 23ms/step - accuracy: 0.9407 - loss: 0.1530 - val_accuracy: 0.9663 - val_loss: 0.1085\n",
            "Epoch 20/50\n",
            "\u001b[1m46/46\u001b[0m \u001b[32m━━━━━━━━━━━━━━━━━━━━\u001b[0m\u001b[37m\u001b[0m \u001b[1m1s\u001b[0m 24ms/step - accuracy: 0.9600 - loss: 0.1141 - val_accuracy: 0.9711 - val_loss: 0.1068\n",
            "Epoch 21/50\n",
            "\u001b[1m46/46\u001b[0m \u001b[32m━━━━━━━━━━━━━━━━━━━━\u001b[0m\u001b[37m\u001b[0m \u001b[1m1s\u001b[0m 22ms/step - accuracy: 0.9412 - loss: 0.1482 - val_accuracy: 0.9679 - val_loss: 0.1034\n",
            "Epoch 22/50\n",
            "\u001b[1m46/46\u001b[0m \u001b[32m━━━━━━━━━━━━━━━━━━━━\u001b[0m\u001b[37m\u001b[0m \u001b[1m1s\u001b[0m 22ms/step - accuracy: 0.9469 - loss: 0.1365 - val_accuracy: 0.9679 - val_loss: 0.1168\n",
            "Epoch 23/50\n",
            "\u001b[1m46/46\u001b[0m \u001b[32m━━━━━━━━━━━━━━━━━━━━\u001b[0m\u001b[37m\u001b[0m \u001b[1m1s\u001b[0m 23ms/step - accuracy: 0.9404 - loss: 0.1470 - val_accuracy: 0.9695 - val_loss: 0.0971\n",
            "Epoch 24/50\n",
            "\u001b[1m46/46\u001b[0m \u001b[32m━━━━━━━━━━━━━━━━━━━━\u001b[0m\u001b[37m\u001b[0m \u001b[1m1s\u001b[0m 23ms/step - accuracy: 0.9503 - loss: 0.1256 - val_accuracy: 0.9647 - val_loss: 0.1054\n",
            "Epoch 25/50\n",
            "\u001b[1m46/46\u001b[0m \u001b[32m━━━━━━━━━━━━━━━━━━━━\u001b[0m\u001b[37m\u001b[0m \u001b[1m2s\u001b[0m 38ms/step - accuracy: 0.9442 - loss: 0.1402 - val_accuracy: 0.9647 - val_loss: 0.1076\n",
            "Epoch 26/50\n",
            "\u001b[1m46/46\u001b[0m \u001b[32m━━━━━━━━━━━━━━━━━━━━\u001b[0m\u001b[37m\u001b[0m \u001b[1m2s\u001b[0m 37ms/step - accuracy: 0.9471 - loss: 0.1351 - val_accuracy: 0.9663 - val_loss: 0.1141\n",
            "Epoch 27/50\n",
            "\u001b[1m46/46\u001b[0m \u001b[32m━━━━━━━━━━━━━━━━━━━━\u001b[0m\u001b[37m\u001b[0m \u001b[1m2s\u001b[0m 23ms/step - accuracy: 0.9489 - loss: 0.1494 - val_accuracy: 0.9567 - val_loss: 0.1357\n",
            "Epoch 28/50\n",
            "\u001b[1m46/46\u001b[0m \u001b[32m━━━━━━━━━━━━━━━━━━━━\u001b[0m\u001b[37m\u001b[0m \u001b[1m1s\u001b[0m 23ms/step - accuracy: 0.9510 - loss: 0.1309 - val_accuracy: 0.9663 - val_loss: 0.1113\n",
            "Epoch 29/50\n",
            "\u001b[1m46/46\u001b[0m \u001b[32m━━━━━━━━━━━━━━━━━━━━\u001b[0m\u001b[37m\u001b[0m \u001b[1m1s\u001b[0m 24ms/step - accuracy: 0.9463 - loss: 0.1322 - val_accuracy: 0.9727 - val_loss: 0.1039\n",
            "Epoch 30/50\n",
            "\u001b[1m46/46\u001b[0m \u001b[32m━━━━━━━━━━━━━━━━━━━━\u001b[0m\u001b[37m\u001b[0m \u001b[1m1s\u001b[0m 23ms/step - accuracy: 0.9373 - loss: 0.1508 - val_accuracy: 0.9663 - val_loss: 0.1136\n",
            "Epoch 31/50\n",
            "\u001b[1m46/46\u001b[0m \u001b[32m━━━━━━━━━━━━━━━━━━━━\u001b[0m\u001b[37m\u001b[0m \u001b[1m1s\u001b[0m 23ms/step - accuracy: 0.9514 - loss: 0.1172 - val_accuracy: 0.9647 - val_loss: 0.1235\n",
            "Epoch 32/50\n",
            "\u001b[1m46/46\u001b[0m \u001b[32m━━━━━━━━━━━━━━━━━━━━\u001b[0m\u001b[37m\u001b[0m \u001b[1m1s\u001b[0m 23ms/step - accuracy: 0.9494 - loss: 0.1284 - val_accuracy: 0.9663 - val_loss: 0.1133\n",
            "Epoch 33/50\n",
            "\u001b[1m46/46\u001b[0m \u001b[32m━━━━━━━━━━━━━━━━━━━━\u001b[0m\u001b[37m\u001b[0m \u001b[1m1s\u001b[0m 22ms/step - accuracy: 0.9376 - loss: 0.1414 - val_accuracy: 0.9599 - val_loss: 0.1196\n",
            "Epoch 34/50\n",
            "\u001b[1m46/46\u001b[0m \u001b[32m━━━━━━━━━━━━━━━━━━━━\u001b[0m\u001b[37m\u001b[0m \u001b[1m1s\u001b[0m 23ms/step - accuracy: 0.9520 - loss: 0.1169 - val_accuracy: 0.9599 - val_loss: 0.1157\n",
            "Epoch 35/50\n",
            "\u001b[1m46/46\u001b[0m \u001b[32m━━━━━━━━━━━━━━━━━━━━\u001b[0m\u001b[37m\u001b[0m \u001b[1m2s\u001b[0m 37ms/step - accuracy: 0.9523 - loss: 0.1358 - val_accuracy: 0.9647 - val_loss: 0.1126\n",
            "Epoch 36/50\n",
            "\u001b[1m46/46\u001b[0m \u001b[32m━━━━━━━━━━━━━━━━━━━━\u001b[0m\u001b[37m\u001b[0m \u001b[1m2s\u001b[0m 38ms/step - accuracy: 0.9477 - loss: 0.1276 - val_accuracy: 0.9615 - val_loss: 0.1138\n",
            "Epoch 37/50\n",
            "\u001b[1m46/46\u001b[0m \u001b[32m━━━━━━━━━━━━━━━━━━━━\u001b[0m\u001b[37m\u001b[0m \u001b[1m2s\u001b[0m 39ms/step - accuracy: 0.9549 - loss: 0.1231 - val_accuracy: 0.9567 - val_loss: 0.1146\n",
            "Epoch 38/50\n",
            "\u001b[1m46/46\u001b[0m \u001b[32m━━━━━━━━━━━━━━━━━━━━\u001b[0m\u001b[37m\u001b[0m \u001b[1m1s\u001b[0m 26ms/step - accuracy: 0.9467 - loss: 0.1467 - val_accuracy: 0.9647 - val_loss: 0.1088\n",
            "Epoch 39/50\n",
            "\u001b[1m46/46\u001b[0m \u001b[32m━━━━━━━━━━━━━━━━━━━━\u001b[0m\u001b[37m\u001b[0m \u001b[1m1s\u001b[0m 22ms/step - accuracy: 0.9392 - loss: 0.1529 - val_accuracy: 0.9502 - val_loss: 0.1455\n",
            "Epoch 40/50\n",
            "\u001b[1m46/46\u001b[0m \u001b[32m━━━━━━━━━━━━━━━━━━━━\u001b[0m\u001b[37m\u001b[0m \u001b[1m1s\u001b[0m 23ms/step - accuracy: 0.9356 - loss: 0.1619 - val_accuracy: 0.9567 - val_loss: 0.1502\n",
            "Epoch 41/50\n",
            "\u001b[1m46/46\u001b[0m \u001b[32m━━━━━━━━━━━━━━━━━━━━\u001b[0m\u001b[37m\u001b[0m \u001b[1m1s\u001b[0m 23ms/step - accuracy: 0.9491 - loss: 0.1255 - val_accuracy: 0.9711 - val_loss: 0.1207\n",
            "Epoch 42/50\n",
            "\u001b[1m46/46\u001b[0m \u001b[32m━━━━━━━━━━━━━━━━━━━━\u001b[0m\u001b[37m\u001b[0m \u001b[1m1s\u001b[0m 23ms/step - accuracy: 0.9540 - loss: 0.1300 - val_accuracy: 0.9583 - val_loss: 0.1430\n",
            "Epoch 43/50\n",
            "\u001b[1m46/46\u001b[0m \u001b[32m━━━━━━━━━━━━━━━━━━━━\u001b[0m\u001b[37m\u001b[0m \u001b[1m1s\u001b[0m 23ms/step - accuracy: 0.9525 - loss: 0.1538 - val_accuracy: 0.9615 - val_loss: 0.1221\n",
            "Epoch 44/50\n",
            "\u001b[1m46/46\u001b[0m \u001b[32m━━━━━━━━━━━━━━━━━━━━\u001b[0m\u001b[37m\u001b[0m \u001b[1m1s\u001b[0m 24ms/step - accuracy: 0.9378 - loss: 0.1619 - val_accuracy: 0.9631 - val_loss: 0.1318\n",
            "Epoch 45/50\n",
            "\u001b[1m46/46\u001b[0m \u001b[32m━━━━━━━━━━━━━━━━━━━━\u001b[0m\u001b[37m\u001b[0m \u001b[1m1s\u001b[0m 23ms/step - accuracy: 0.9418 - loss: 0.1467 - val_accuracy: 0.9631 - val_loss: 0.1160\n",
            "Epoch 46/50\n",
            "\u001b[1m46/46\u001b[0m \u001b[32m━━━━━━━━━━━━━━━━━━━━\u001b[0m\u001b[37m\u001b[0m \u001b[1m1s\u001b[0m 24ms/step - accuracy: 0.9553 - loss: 0.1379 - val_accuracy: 0.9599 - val_loss: 0.1340\n",
            "Epoch 47/50\n",
            "\u001b[1m46/46\u001b[0m \u001b[32m━━━━━━━━━━━━━━━━━━━━\u001b[0m\u001b[37m\u001b[0m \u001b[1m2s\u001b[0m 36ms/step - accuracy: 0.9453 - loss: 0.1371 - val_accuracy: 0.9567 - val_loss: 0.1216\n",
            "Epoch 48/50\n",
            "\u001b[1m46/46\u001b[0m \u001b[32m━━━━━━━━━━━━━━━━━━━━\u001b[0m\u001b[37m\u001b[0m \u001b[1m2s\u001b[0m 42ms/step - accuracy: 0.9494 - loss: 0.1349 - val_accuracy: 0.9551 - val_loss: 0.1431\n",
            "Epoch 49/50\n",
            "\u001b[1m46/46\u001b[0m \u001b[32m━━━━━━━━━━━━━━━━━━━━\u001b[0m\u001b[37m\u001b[0m \u001b[1m2s\u001b[0m 23ms/step - accuracy: 0.9442 - loss: 0.1283 - val_accuracy: 0.9599 - val_loss: 0.1288\n",
            "Epoch 50/50\n",
            "\u001b[1m46/46\u001b[0m \u001b[32m━━━━━━━━━━━━━━━━━━━━\u001b[0m\u001b[37m\u001b[0m \u001b[1m1s\u001b[0m 22ms/step - accuracy: 0.9483 - loss: 0.1242 - val_accuracy: 0.9567 - val_loss: 0.1357\n"
          ]
        }
      ]
    },
    {
      "cell_type": "code",
      "source": [
        "predicted = model.predict(X_test_reshape)  # Get probabilities\n",
        "\n",
        "# Convert probabilities to class labels\n",
        "predicted_classes = np.argmax(predicted, axis=1)  # Get class labels\n",
        "\n",
        "# Print classification report\n",
        "print(classification_report(y_test, predicted_classes))"
      ],
      "metadata": {
        "colab": {
          "base_uri": "https://localhost:8080/"
        },
        "id": "VNE4uxqouWQl",
        "outputId": "367b7f2a-6e14-4534-9b51-84feda410ead"
      },
      "execution_count": 31,
      "outputs": [
        {
          "output_type": "stream",
          "name": "stdout",
          "text": [
            "\u001b[1m10/10\u001b[0m \u001b[32m━━━━━━━━━━━━━━━━━━━━\u001b[0m\u001b[37m\u001b[0m \u001b[1m0s\u001b[0m 4ms/step \n",
            "              precision    recall  f1-score   support\n",
            "\n",
            "           0       0.90      0.97      0.93        99\n",
            "           1       0.93      0.91      0.92        99\n",
            "           2       1.00      0.94      0.97        99\n",
            "\n",
            "    accuracy                           0.94       297\n",
            "   macro avg       0.94      0.94      0.94       297\n",
            "weighted avg       0.94      0.94      0.94       297\n",
            "\n"
          ]
        }
      ]
    }
  ]
}