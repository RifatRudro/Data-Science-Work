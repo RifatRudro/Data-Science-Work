{
 "cells": [
  {
   "cell_type": "code",
   "execution_count": 1,
   "id": "36356847",
   "metadata": {},
   "outputs": [],
   "source": [
    "import numpy as np\n",
    "import pandas as pd\n",
    "import seaborn as sns\n",
    "import random\n",
    "from matplotlib import pyplot as plt\n",
    "from collections import Counter\n",
    "from sklearn.utils import resample\n",
    "from sklearn.metrics import accuracy_score, f1_score, precision_score, recall_score\n",
    "from sklearn.model_selection import train_test_split\n",
    "from sklearn.metrics import confusion_matrix\n",
    "import tensorflow as tf\n",
    "from tensorflow import keras\n",
    "from keras import layers\n",
    "from keras.models import  Sequential\n",
    "from keras.layers.core import  Lambda , Dense, Flatten, Dropout\n",
    "from keras.callbacks import EarlyStopping\n",
    "from keras.layers import BatchNormalization, Convolution2D , MaxPooling2D\n",
    "from sklearn.decomposition import PCA\n",
    "import warnings\n",
    "warnings.simplefilter(action='ignore', category=FutureWarning)\n",
    "warnings.filterwarnings(\"ignore\",category=plt.cbook.mplDeprecation)\n",
    "random.seed(54)"
   ]
  },
  {
   "cell_type": "code",
   "execution_count": 2,
   "id": "a5319eab",
   "metadata": {},
   "outputs": [],
   "source": [
    "train=pd.read_csv('heart.csv')"
   ]
  },
  {
   "cell_type": "code",
   "execution_count": 3,
   "id": "36e78ab9",
   "metadata": {},
   "outputs": [
    {
     "data": {
      "text/html": [
       "<div>\n",
       "<style scoped>\n",
       "    .dataframe tbody tr th:only-of-type {\n",
       "        vertical-align: middle;\n",
       "    }\n",
       "\n",
       "    .dataframe tbody tr th {\n",
       "        vertical-align: top;\n",
       "    }\n",
       "\n",
       "    .dataframe thead th {\n",
       "        text-align: right;\n",
       "    }\n",
       "</style>\n",
       "<table border=\"1\" class=\"dataframe\">\n",
       "  <thead>\n",
       "    <tr style=\"text-align: right;\">\n",
       "      <th></th>\n",
       "      <th>age</th>\n",
       "      <th>sex</th>\n",
       "      <th>cp</th>\n",
       "      <th>trtbps</th>\n",
       "      <th>chol</th>\n",
       "      <th>fbs</th>\n",
       "      <th>restecg</th>\n",
       "      <th>thalachh</th>\n",
       "      <th>exng</th>\n",
       "      <th>oldpeak</th>\n",
       "      <th>slp</th>\n",
       "      <th>caa</th>\n",
       "      <th>thall</th>\n",
       "      <th>output</th>\n",
       "    </tr>\n",
       "  </thead>\n",
       "  <tbody>\n",
       "    <tr>\n",
       "      <th>0</th>\n",
       "      <td>63</td>\n",
       "      <td>1</td>\n",
       "      <td>3</td>\n",
       "      <td>145</td>\n",
       "      <td>233</td>\n",
       "      <td>1</td>\n",
       "      <td>0</td>\n",
       "      <td>150</td>\n",
       "      <td>0</td>\n",
       "      <td>2.3</td>\n",
       "      <td>0</td>\n",
       "      <td>0</td>\n",
       "      <td>1</td>\n",
       "      <td>1</td>\n",
       "    </tr>\n",
       "    <tr>\n",
       "      <th>1</th>\n",
       "      <td>37</td>\n",
       "      <td>1</td>\n",
       "      <td>2</td>\n",
       "      <td>130</td>\n",
       "      <td>250</td>\n",
       "      <td>0</td>\n",
       "      <td>1</td>\n",
       "      <td>187</td>\n",
       "      <td>0</td>\n",
       "      <td>3.5</td>\n",
       "      <td>0</td>\n",
       "      <td>0</td>\n",
       "      <td>2</td>\n",
       "      <td>1</td>\n",
       "    </tr>\n",
       "    <tr>\n",
       "      <th>2</th>\n",
       "      <td>41</td>\n",
       "      <td>0</td>\n",
       "      <td>1</td>\n",
       "      <td>130</td>\n",
       "      <td>204</td>\n",
       "      <td>0</td>\n",
       "      <td>0</td>\n",
       "      <td>172</td>\n",
       "      <td>0</td>\n",
       "      <td>1.4</td>\n",
       "      <td>2</td>\n",
       "      <td>0</td>\n",
       "      <td>2</td>\n",
       "      <td>1</td>\n",
       "    </tr>\n",
       "    <tr>\n",
       "      <th>3</th>\n",
       "      <td>56</td>\n",
       "      <td>1</td>\n",
       "      <td>1</td>\n",
       "      <td>120</td>\n",
       "      <td>236</td>\n",
       "      <td>0</td>\n",
       "      <td>1</td>\n",
       "      <td>178</td>\n",
       "      <td>0</td>\n",
       "      <td>0.8</td>\n",
       "      <td>2</td>\n",
       "      <td>0</td>\n",
       "      <td>2</td>\n",
       "      <td>1</td>\n",
       "    </tr>\n",
       "    <tr>\n",
       "      <th>4</th>\n",
       "      <td>57</td>\n",
       "      <td>0</td>\n",
       "      <td>0</td>\n",
       "      <td>120</td>\n",
       "      <td>354</td>\n",
       "      <td>0</td>\n",
       "      <td>1</td>\n",
       "      <td>163</td>\n",
       "      <td>1</td>\n",
       "      <td>0.6</td>\n",
       "      <td>2</td>\n",
       "      <td>0</td>\n",
       "      <td>2</td>\n",
       "      <td>1</td>\n",
       "    </tr>\n",
       "  </tbody>\n",
       "</table>\n",
       "</div>"
      ],
      "text/plain": [
       "   age  sex  cp  trtbps  chol  fbs  restecg  thalachh  exng  oldpeak  slp  \\\n",
       "0   63    1   3     145   233    1        0       150     0      2.3    0   \n",
       "1   37    1   2     130   250    0        1       187     0      3.5    0   \n",
       "2   41    0   1     130   204    0        0       172     0      1.4    2   \n",
       "3   56    1   1     120   236    0        1       178     0      0.8    2   \n",
       "4   57    0   0     120   354    0        1       163     1      0.6    2   \n",
       "\n",
       "   caa  thall  output  \n",
       "0    0      1       1  \n",
       "1    0      2       1  \n",
       "2    0      2       1  \n",
       "3    0      2       1  \n",
       "4    0      2       1  "
      ]
     },
     "execution_count": 3,
     "metadata": {},
     "output_type": "execute_result"
    }
   ],
   "source": [
    "train.head()"
   ]
  },
  {
   "cell_type": "code",
   "execution_count": 4,
   "id": "e5f985ad",
   "metadata": {},
   "outputs": [
    {
     "data": {
      "text/plain": [
       "(303, 14)"
      ]
     },
     "execution_count": 4,
     "metadata": {},
     "output_type": "execute_result"
    }
   ],
   "source": [
    "train.shape"
   ]
  },
  {
   "cell_type": "code",
   "execution_count": 5,
   "id": "98a99e02",
   "metadata": {},
   "outputs": [
    {
     "data": {
      "text/plain": [
       "age         0\n",
       "sex         0\n",
       "cp          0\n",
       "trtbps      0\n",
       "chol        0\n",
       "fbs         0\n",
       "restecg     0\n",
       "thalachh    0\n",
       "exng        0\n",
       "oldpeak     0\n",
       "slp         0\n",
       "caa         0\n",
       "thall       0\n",
       "output      0\n",
       "dtype: int64"
      ]
     },
     "execution_count": 5,
     "metadata": {},
     "output_type": "execute_result"
    }
   ],
   "source": [
    "train.isnull().sum()"
   ]
  },
  {
   "cell_type": "code",
   "execution_count": 6,
   "id": "ce88d027",
   "metadata": {},
   "outputs": [
    {
     "data": {
      "text/plain": [
       "age           int64\n",
       "sex           int64\n",
       "cp            int64\n",
       "trtbps        int64\n",
       "chol          int64\n",
       "fbs           int64\n",
       "restecg       int64\n",
       "thalachh      int64\n",
       "exng          int64\n",
       "oldpeak     float64\n",
       "slp           int64\n",
       "caa           int64\n",
       "thall         int64\n",
       "output        int64\n",
       "dtype: object"
      ]
     },
     "execution_count": 6,
     "metadata": {},
     "output_type": "execute_result"
    }
   ],
   "source": [
    "train.dtypes"
   ]
  },
  {
   "cell_type": "code",
   "execution_count": 8,
   "id": "0c5c2ff1",
   "metadata": {},
   "outputs": [
    {
     "data": {
      "image/png": "[encoded data removed]",
      "text/plain": [
       "<Figure size 1152x1152 with 14 Axes>"
      ]
     },
     "metadata": {
      "needs_background": "light"
     },
     "output_type": "display_data"
    }
   ],
   "source": [
    "fig=plt.figure(figsize=(16,16))\n",
    "fig = plt.subplot(531)\n",
    "sns.histplot(train['age'],kde=True,label=' Age',color='pink')\n",
    "\n",
    "fig = plt.subplot(532)\n",
    "x=train['sex'].value_counts()\n",
    "x.plot(kind='bar',label='sex',color='pink',xlabel='sex',ylabel='Density')\n",
    "\n",
    "fig = plt.subplot(533)\n",
    "x=train['cp'].value_counts()\n",
    "x.plot(kind='bar',label='cp',color='pink',xlabel='cp',ylabel='Density')\n",
    "\n",
    "fig = plt.subplot(534)\n",
    "sns.histplot(train['trtbps'],color='lightgreen',kde=True)\n",
    "\n",
    "fig = plt.subplot(535)\n",
    "sns.histplot(train['chol'],kde=True,label='Cholestrol',color='green')\n",
    "\n",
    "fig = plt.subplot(536)\n",
    "x=train['fbs'].value_counts()\n",
    "x.plot(kind='bar',label='fbs',xlabel='fbs',color='lightgreen',ylabel='Density')\n",
    "\n",
    "fig = plt.subplot(537)\n",
    "x=train['restecg'].value_counts()\n",
    "x.plot(kind='bar',label='restecg',xlabel='restecg',color='lightblue',ylabel='Density')\n",
    "\n",
    "fig = plt.subplot(538)\n",
    "sns.histplot(train['thalachh'],kde=True, label='thalachh')\n",
    "\n",
    "\n",
    "fig = plt.subplot(539)\n",
    "x=train['exng'].value_counts()\n",
    "x.plot(kind='bar',label='exng',xlabel='exng',ylabel='Density')\n",
    "\n",
    "fig = plt.subplot(5,3,10)\n",
    "sns.histplot(train['oldpeak'],color='pink', label='oldpeak')\n",
    "\n",
    "fig = plt.subplot(5,3,11)\n",
    "x=train['slp'].value_counts()\n",
    "x.plot(kind='bar',label='slp',xlabel='slp',color='pink',ylabel='Density')\n",
    "\n",
    "fig = plt.subplot(5,3,12)\n",
    "x=train['caa'].value_counts()\n",
    "x.plot(kind='bar',label='caa',xlabel='caa',color='pink',ylabel='Density')\n",
    "\n",
    "\n",
    "fig = plt.subplot(5,3,13)\n",
    "x=train['thall'].value_counts()\n",
    "x.plot(kind='bar',label='thall',xlabel='thall',color='green',ylabel='Density')\n",
    "\n",
    "fig = plt.subplot(5,3,14)\n",
    "x=train['output'].value_counts()\n",
    "x.plot(kind='bar',label='output',xlabel='output',color='green',ylabel='Density')\n",
    "\n",
    "\n",
    "plt.show()"
   ]
  },
  {
   "cell_type": "code",
   "execution_count": 9,
   "id": "27b52a66",
   "metadata": {},
   "outputs": [
    {
     "data": {
      "text/plain": [
       "<AxesSubplot:>"
      ]
     },
     "execution_count": 9,
     "metadata": {},
     "output_type": "execute_result"
    },
    {
     "data": {
      "image/png": "[encoded data removed]",
      "text/plain": [
       "<Figure size 720x720 with 2 Axes>"
      ]
     },
     "metadata": {
      "needs_background": "light"
     },
     "output_type": "display_data"
    }
   ],
   "source": [
    "fig=plt.figure(figsize=(10,10))\n",
    "sns.heatmap(train.corr(),cmap='coolwarm')"
   ]
  },
  {
   "cell_type": "code",
   "execution_count": 10,
   "id": "757bc43d",
   "metadata": {},
   "outputs": [
    {
     "data": {
      "text/plain": [
       "<seaborn.axisgrid.FacetGrid at 0x15bc7a7c880>"
      ]
     },
     "execution_count": 10,
     "metadata": {},
     "output_type": "execute_result"
    },
    {
     "data": {
      "text/plain": [
       "<Figure size 1152x1152 with 0 Axes>"
      ]
     },
     "metadata": {},
     "output_type": "display_data"
    },
    {
     "data": {
      "image/png": "[encoded data removed]",
      "text/plain": [
       "<Figure size 402.375x360 with 1 Axes>"
      ]
     },
     "metadata": {
      "needs_background": "light"
     },
     "output_type": "display_data"
    }
   ],
   "source": [
    "fig=plt.figure(figsize=(16,16))\n",
    "sns.catplot(x=\"cp\",y='thalachh',hue='output',kind='box',data=train)"
   ]
  },
  {
   "cell_type": "code",
   "execution_count": 11,
   "id": "0a62a385",
   "metadata": {},
   "outputs": [
    {
     "data": {
      "text/plain": [
       "<AxesSubplot:xlabel='output', ylabel='thalachh'>"
      ]
     },
     "execution_count": 11,
     "metadata": {},
     "output_type": "execute_result"
    },
    {
     "data": {
      "image/png": "[encoded data removed]",
      "text/plain": [
       "<Figure size 360x360 with 1 Axes>"
      ]
     },
     "metadata": {
      "needs_background": "light"
     },
     "output_type": "display_data"
    }
   ],
   "source": [
    "fig=plt.figure(figsize=(5,5))\n",
    "sns.barplot(x=train['output'],y=train['thalachh'])"
   ]
  },
  {
   "cell_type": "code",
   "execution_count": 12,
   "id": "c7502a27",
   "metadata": {},
   "outputs": [],
   "source": [
    "def Resample(data):\n",
    "    label_0=data[data.output==0] #0\n",
    "    label_1=data[data.output==1] #1\n",
    "   \n",
    "    # upsample minority\n",
    "    label_0_upsampled = resample(label_0,\n",
    "                              replace=True, # sample with replacement\n",
    "                              n_samples=len(label_1), # match number in majority class\n",
    "                              random_state=27) # reproducible results\n",
    "    \n",
    "    # combine majority and upsampled minority\n",
    "    upsampled = pd.concat([label_1, label_0_upsampled])\n",
    "    return upsampled"
   ]
  },
  {
   "cell_type": "code",
   "execution_count": 13,
   "id": "6455bd92",
   "metadata": {},
   "outputs": [],
   "source": [
    "train=Resample(train)"
   ]
  },
  {
   "cell_type": "code",
   "execution_count": 14,
   "id": "1e30a125",
   "metadata": {},
   "outputs": [
    {
     "data": {
      "text/plain": [
       "(330, 14)"
      ]
     },
     "execution_count": 14,
     "metadata": {},
     "output_type": "execute_result"
    }
   ],
   "source": [
    "train.shape"
   ]
  },
  {
   "cell_type": "code",
   "execution_count": 15,
   "id": "e03df23f",
   "metadata": {},
   "outputs": [
    {
     "data": {
      "image/png": "[encoded data removed]",
      "text/plain": [
       "<Figure size 432x288 with 1 Axes>"
      ]
     },
     "metadata": {
      "needs_background": "light"
     },
     "output_type": "display_data"
    }
   ],
   "source": [
    "x=train['output'].value_counts().values\n",
    "plot=sns.barplot([\"0\",\"1\"],x)\n",
    "plot.set(xlabel='Output', ylabel='Number of Data')\n",
    "plt.show()"
   ]
  },
  {
   "cell_type": "code",
   "execution_count": 16,
   "id": "f7797d25",
   "metadata": {},
   "outputs": [],
   "source": [
    "def normalize(x):\n",
    "  z=(x-x.mean())/x.std()\n",
    "  return z"
   ]
  },
  {
   "cell_type": "code",
   "execution_count": 17,
   "id": "e7bb3ef9",
   "metadata": {},
   "outputs": [
    {
     "data": {
      "text/html": [
       "<div>\n",
       "<style scoped>\n",
       "    .dataframe tbody tr th:only-of-type {\n",
       "        vertical-align: middle;\n",
       "    }\n",
       "\n",
       "    .dataframe tbody tr th {\n",
       "        vertical-align: top;\n",
       "    }\n",
       "\n",
       "    .dataframe thead th {\n",
       "        text-align: right;\n",
       "    }\n",
       "</style>\n",
       "<table border=\"1\" class=\"dataframe\">\n",
       "  <thead>\n",
       "    <tr style=\"text-align: right;\">\n",
       "      <th></th>\n",
       "      <th>age</th>\n",
       "      <th>sex</th>\n",
       "      <th>cp</th>\n",
       "      <th>trtbps</th>\n",
       "      <th>chol</th>\n",
       "      <th>fbs</th>\n",
       "      <th>restecg</th>\n",
       "      <th>thalachh</th>\n",
       "      <th>exng</th>\n",
       "      <th>oldpeak</th>\n",
       "      <th>slp</th>\n",
       "      <th>caa</th>\n",
       "      <th>thall</th>\n",
       "      <th>output</th>\n",
       "    </tr>\n",
       "  </thead>\n",
       "  <tbody>\n",
       "    <tr>\n",
       "      <th>0</th>\n",
       "      <td>63</td>\n",
       "      <td>1</td>\n",
       "      <td>3</td>\n",
       "      <td>145</td>\n",
       "      <td>233</td>\n",
       "      <td>1</td>\n",
       "      <td>0</td>\n",
       "      <td>150</td>\n",
       "      <td>0</td>\n",
       "      <td>2.3</td>\n",
       "      <td>0</td>\n",
       "      <td>0</td>\n",
       "      <td>1</td>\n",
       "      <td>1</td>\n",
       "    </tr>\n",
       "    <tr>\n",
       "      <th>1</th>\n",
       "      <td>37</td>\n",
       "      <td>1</td>\n",
       "      <td>2</td>\n",
       "      <td>130</td>\n",
       "      <td>250</td>\n",
       "      <td>0</td>\n",
       "      <td>1</td>\n",
       "      <td>187</td>\n",
       "      <td>0</td>\n",
       "      <td>3.5</td>\n",
       "      <td>0</td>\n",
       "      <td>0</td>\n",
       "      <td>2</td>\n",
       "      <td>1</td>\n",
       "    </tr>\n",
       "    <tr>\n",
       "      <th>2</th>\n",
       "      <td>41</td>\n",
       "      <td>0</td>\n",
       "      <td>1</td>\n",
       "      <td>130</td>\n",
       "      <td>204</td>\n",
       "      <td>0</td>\n",
       "      <td>0</td>\n",
       "      <td>172</td>\n",
       "      <td>0</td>\n",
       "      <td>1.4</td>\n",
       "      <td>2</td>\n",
       "      <td>0</td>\n",
       "      <td>2</td>\n",
       "      <td>1</td>\n",
       "    </tr>\n",
       "    <tr>\n",
       "      <th>3</th>\n",
       "      <td>56</td>\n",
       "      <td>1</td>\n",
       "      <td>1</td>\n",
       "      <td>120</td>\n",
       "      <td>236</td>\n",
       "      <td>0</td>\n",
       "      <td>1</td>\n",
       "      <td>178</td>\n",
       "      <td>0</td>\n",
       "      <td>0.8</td>\n",
       "      <td>2</td>\n",
       "      <td>0</td>\n",
       "      <td>2</td>\n",
       "      <td>1</td>\n",
       "    </tr>\n",
       "    <tr>\n",
       "      <th>4</th>\n",
       "      <td>57</td>\n",
       "      <td>0</td>\n",
       "      <td>0</td>\n",
       "      <td>120</td>\n",
       "      <td>354</td>\n",
       "      <td>0</td>\n",
       "      <td>1</td>\n",
       "      <td>163</td>\n",
       "      <td>1</td>\n",
       "      <td>0.6</td>\n",
       "      <td>2</td>\n",
       "      <td>0</td>\n",
       "      <td>2</td>\n",
       "      <td>1</td>\n",
       "    </tr>\n",
       "  </tbody>\n",
       "</table>\n",
       "</div>"
      ],
      "text/plain": [
       "   age  sex  cp  trtbps  chol  fbs  restecg  thalachh  exng  oldpeak  slp  \\\n",
       "0   63    1   3     145   233    1        0       150     0      2.3    0   \n",
       "1   37    1   2     130   250    0        1       187     0      3.5    0   \n",
       "2   41    0   1     130   204    0        0       172     0      1.4    2   \n",
       "3   56    1   1     120   236    0        1       178     0      0.8    2   \n",
       "4   57    0   0     120   354    0        1       163     1      0.6    2   \n",
       "\n",
       "   caa  thall  output  \n",
       "0    0      1       1  \n",
       "1    0      2       1  \n",
       "2    0      2       1  \n",
       "3    0      2       1  \n",
       "4    0      2       1  "
      ]
     },
     "execution_count": 17,
     "metadata": {},
     "output_type": "execute_result"
    }
   ],
   "source": [
    "train.head()"
   ]
  },
  {
   "cell_type": "code",
   "execution_count": 19,
   "id": "43bfce03",
   "metadata": {},
   "outputs": [],
   "source": [
    "labels=train['output']\n",
    "train=train.drop(['output'],axis=1)\n",
    "train=normalize(train)"
   ]
  },
  {
   "cell_type": "code",
   "execution_count": 20,
   "id": "29f8f0ee",
   "metadata": {},
   "outputs": [],
   "source": [
    "x_train, x_test, y_train, y_test = train_test_split(train, labels, test_size=.2, random_state=1,stratify=labels)"
   ]
  },
  {
   "cell_type": "code",
   "execution_count": 21,
   "id": "f0581a7a",
   "metadata": {},
   "outputs": [],
   "source": [
    "model=keras.Sequential([\n",
    "     layers.Dense(32,activation='relu',input_shape=[13]),\n",
    "     layers.Dense(64,activation='relu'),\n",
    "     layers.Dense(128,activation='relu'),\n",
    "     layers.Dense(128,activation='relu'),\n",
    "     layers.Dense(1)\n",
    "\n",
    "])"
   ]
  },
  {
   "cell_type": "code",
   "execution_count": 22,
   "id": "ebc9cd04",
   "metadata": {},
   "outputs": [
    {
     "name": "stderr",
     "output_type": "stream",
     "text": [
      "WARNING:absl:`lr` is deprecated, please use `learning_rate` instead, or use the legacy optimizer, e.g.,tf.keras.optimizers.legacy.Adam.\n"
     ]
    }
   ],
   "source": [
    "model.compile( \n",
    "    optimizer=keras.optimizers.Adam(lr=0.001),\n",
    "    loss='mae',\n",
    "    metrics=['accuracy']\n",
    ")"
   ]
  },
  {
   "cell_type": "code",
   "execution_count": 23,
   "id": "51f90679",
   "metadata": {},
   "outputs": [],
   "source": [
    "early_stopping= keras.callbacks.EarlyStopping(monitor='val_accuracy',mode='auto',\n",
    "                                    patience=20,restore_best_weights=True)"
   ]
  },
  {
   "cell_type": "code",
   "execution_count": 24,
   "id": "e0f05de7",
   "metadata": {},
   "outputs": [],
   "source": [
    "lr_scheduler = keras.callbacks.ReduceLROnPlateau(monitor='val_accuracy',mode='auto',factor=0.5,patience=5)"
   ]
  },
  {
   "cell_type": "code",
   "execution_count": 25,
   "id": "b88ae6d5",
   "metadata": {},
   "outputs": [
    {
     "name": "stdout",
     "output_type": "stream",
     "text": [
      "Epoch 1/200\n",
      "10/10 [==============================] - 2s 52ms/step - loss: 0.4330 - accuracy: 0.5758 - val_loss: 0.3638 - val_accuracy: 0.6818 - lr: 0.0010\n",
      "Epoch 2/200\n",
      "10/10 [==============================] - 0s 8ms/step - loss: 0.3343 - accuracy: 0.7652 - val_loss: 0.3177 - val_accuracy: 0.7576 - lr: 0.0010\n",
      "Epoch 3/200\n",
      "10/10 [==============================] - 0s 8ms/step - loss: 0.2806 - accuracy: 0.8106 - val_loss: 0.3003 - val_accuracy: 0.8030 - lr: 0.0010\n",
      "Epoch 4/200\n",
      "10/10 [==============================] - 0s 8ms/step - loss: 0.2478 - accuracy: 0.8258 - val_loss: 0.2861 - val_accuracy: 0.8485 - lr: 0.0010\n",
      "Epoch 5/200\n",
      "10/10 [==============================] - 0s 8ms/step - loss: 0.2211 - accuracy: 0.8598 - val_loss: 0.2633 - val_accuracy: 0.8485 - lr: 0.0010\n",
      "Epoch 6/200\n",
      "10/10 [==============================] - 0s 10ms/step - loss: 0.2108 - accuracy: 0.8788 - val_loss: 0.2472 - val_accuracy: 0.8788 - lr: 0.0010\n",
      "Epoch 7/200\n",
      "10/10 [==============================] - 0s 13ms/step - loss: 0.2007 - accuracy: 0.8826 - val_loss: 0.2506 - val_accuracy: 0.8939 - lr: 0.0010\n",
      "Epoch 8/200\n",
      "10/10 [==============================] - 0s 11ms/step - loss: 0.1847 - accuracy: 0.8977 - val_loss: 0.2360 - val_accuracy: 0.8939 - lr: 0.0010\n",
      "Epoch 9/200\n",
      "10/10 [==============================] - 0s 11ms/step - loss: 0.1653 - accuracy: 0.9091 - val_loss: 0.2294 - val_accuracy: 0.8939 - lr: 0.0010\n",
      "Epoch 10/200\n",
      "10/10 [==============================] - 0s 9ms/step - loss: 0.1502 - accuracy: 0.9167 - val_loss: 0.2319 - val_accuracy: 0.9091 - lr: 0.0010\n",
      "Epoch 11/200\n",
      "10/10 [==============================] - 0s 13ms/step - loss: 0.1439 - accuracy: 0.9091 - val_loss: 0.2131 - val_accuracy: 0.9091 - lr: 0.0010\n",
      "Epoch 12/200\n",
      "10/10 [==============================] - 0s 11ms/step - loss: 0.1300 - accuracy: 0.9129 - val_loss: 0.2124 - val_accuracy: 0.8939 - lr: 0.0010\n",
      "Epoch 13/200\n",
      "10/10 [==============================] - 0s 13ms/step - loss: 0.1228 - accuracy: 0.9242 - val_loss: 0.2145 - val_accuracy: 0.8788 - lr: 0.0010\n",
      "Epoch 14/200\n",
      "10/10 [==============================] - 0s 13ms/step - loss: 0.1165 - accuracy: 0.9356 - val_loss: 0.2167 - val_accuracy: 0.9091 - lr: 0.0010\n",
      "Epoch 15/200\n",
      "10/10 [==============================] - 0s 15ms/step - loss: 0.1307 - accuracy: 0.9432 - val_loss: 0.2164 - val_accuracy: 0.8788 - lr: 0.0010\n",
      "Epoch 16/200\n",
      "10/10 [==============================] - 0s 13ms/step - loss: 0.1194 - accuracy: 0.9432 - val_loss: 0.2132 - val_accuracy: 0.8788 - lr: 5.0000e-04\n",
      "Epoch 17/200\n",
      "10/10 [==============================] - 0s 13ms/step - loss: 0.1043 - accuracy: 0.9470 - val_loss: 0.2026 - val_accuracy: 0.8939 - lr: 5.0000e-04\n",
      "Epoch 18/200\n",
      "10/10 [==============================] - 0s 13ms/step - loss: 0.0943 - accuracy: 0.9545 - val_loss: 0.2048 - val_accuracy: 0.8788 - lr: 5.0000e-04\n",
      "Epoch 19/200\n",
      "10/10 [==============================] - 0s 12ms/step - loss: 0.0857 - accuracy: 0.9545 - val_loss: 0.1963 - val_accuracy: 0.8788 - lr: 5.0000e-04\n",
      "Epoch 20/200\n",
      "10/10 [==============================] - 0s 11ms/step - loss: 0.0823 - accuracy: 0.9545 - val_loss: 0.2024 - val_accuracy: 0.8636 - lr: 5.0000e-04\n",
      "Epoch 21/200\n",
      "10/10 [==============================] - 0s 14ms/step - loss: 0.0789 - accuracy: 0.9545 - val_loss: 0.1949 - val_accuracy: 0.8788 - lr: 2.5000e-04\n",
      "Epoch 22/200\n",
      "10/10 [==============================] - 0s 14ms/step - loss: 0.0738 - accuracy: 0.9545 - val_loss: 0.1969 - val_accuracy: 0.8636 - lr: 2.5000e-04\n",
      "Epoch 23/200\n",
      "10/10 [==============================] - 0s 11ms/step - loss: 0.0698 - accuracy: 0.9621 - val_loss: 0.1933 - val_accuracy: 0.8485 - lr: 2.5000e-04\n",
      "Epoch 24/200\n",
      "10/10 [==============================] - 0s 11ms/step - loss: 0.0687 - accuracy: 0.9583 - val_loss: 0.1966 - val_accuracy: 0.8485 - lr: 2.5000e-04\n",
      "Epoch 25/200\n",
      "10/10 [==============================] - 0s 12ms/step - loss: 0.0705 - accuracy: 0.9621 - val_loss: 0.1971 - val_accuracy: 0.8485 - lr: 2.5000e-04\n",
      "Epoch 26/200\n",
      "10/10 [==============================] - 0s 13ms/step - loss: 0.0667 - accuracy: 0.9697 - val_loss: 0.1916 - val_accuracy: 0.8485 - lr: 1.2500e-04\n",
      "Epoch 27/200\n",
      "10/10 [==============================] - 0s 13ms/step - loss: 0.0629 - accuracy: 0.9697 - val_loss: 0.1934 - val_accuracy: 0.8485 - lr: 1.2500e-04\n",
      "Epoch 28/200\n",
      "10/10 [==============================] - 0s 13ms/step - loss: 0.0604 - accuracy: 0.9659 - val_loss: 0.1934 - val_accuracy: 0.8485 - lr: 1.2500e-04\n",
      "Epoch 29/200\n",
      "10/10 [==============================] - 0s 13ms/step - loss: 0.0585 - accuracy: 0.9735 - val_loss: 0.1927 - val_accuracy: 0.8485 - lr: 1.2500e-04\n",
      "Epoch 30/200\n",
      "10/10 [==============================] - 0s 15ms/step - loss: 0.0587 - accuracy: 0.9735 - val_loss: 0.1921 - val_accuracy: 0.8485 - lr: 1.2500e-04\n"
     ]
    },
    {
     "data": {
      "text/plain": [
       "<keras.callbacks.History at 0x15bc3b51370>"
      ]
     },
     "execution_count": 25,
     "metadata": {},
     "output_type": "execute_result"
    }
   ],
   "source": [
    "model.fit(x_train,y_train,validation_data=(x_test,y_test),batch_size=28,epochs=200,callbacks=[early_stopping,lr_scheduler])"
   ]
  },
  {
   "cell_type": "code",
   "execution_count": 26,
   "id": "f449bd5d",
   "metadata": {},
   "outputs": [
    {
     "name": "stdout",
     "output_type": "stream",
     "text": [
      "3/3 - 0s - loss: 0.2319 - accuracy: 0.9091 - 39ms/epoch - 13ms/step\n"
     ]
    },
    {
     "data": {
      "text/plain": [
       "[0.23187696933746338, 0.9090909361839294]"
      ]
     },
     "execution_count": 26,
     "metadata": {},
     "output_type": "execute_result"
    }
   ],
   "source": [
    "model.evaluate(x_test,y_test,verbose=2)"
   ]
  },
  {
   "cell_type": "code",
   "execution_count": 27,
   "id": "3fd6ab5b",
   "metadata": {},
   "outputs": [
    {
     "name": "stdout",
     "output_type": "stream",
     "text": [
      "3/3 [==============================] - 0s 2ms/step\n"
     ]
    }
   ],
   "source": [
    "y_pred=model.predict(x_test).astype(\"int32\")"
   ]
  },
  {
   "cell_type": "code",
   "execution_count": 28,
   "id": "7a031781",
   "metadata": {},
   "outputs": [
    {
     "data": {
      "text/plain": [
       "[Text(0.5, 15.0, 'Actual values'), Text(33.0, 0.5, 'Predict values')]"
      ]
     },
     "execution_count": 28,
     "metadata": {},
     "output_type": "execute_result"
    },
    {
     "data": {
      "image/png": "[encoded data removed]",
      "text/plain": [
       "<Figure size 432x288 with 2 Axes>"
      ]
     },
     "metadata": {
      "needs_background": "light"
     },
     "output_type": "display_data"
    }
   ],
   "source": [
    "cf=confusion_matrix(y_test,y_pred)\n",
    "sns.heatmap(cf, annot=True).set(xlabel='Actual values',ylabel='Predict values')"
   ]
  },
  {
   "cell_type": "code",
   "execution_count": 29,
   "id": "e3bcbf18",
   "metadata": {},
   "outputs": [
    {
     "data": {
      "text/plain": [
       "0.6363636363636364"
      ]
     },
     "execution_count": 29,
     "metadata": {},
     "output_type": "execute_result"
    }
   ],
   "source": [
    "recall_score(y_test,y_pred,average='macro')"
   ]
  },
  {
   "cell_type": "code",
   "execution_count": 30,
   "id": "34506660",
   "metadata": {},
   "outputs": [
    {
     "data": {
      "text/plain": [
       "0.580952380952381"
      ]
     },
     "execution_count": 30,
     "metadata": {},
     "output_type": "execute_result"
    }
   ],
   "source": [
    "f1_score(y_test,y_pred,average='macro')"
   ]
  },
  {
   "cell_type": "code",
   "execution_count": 31,
   "id": "893d4203",
   "metadata": {},
   "outputs": [
    {
     "data": {
      "text/plain": [
       "0.7894736842105263"
      ]
     },
     "execution_count": 31,
     "metadata": {},
     "output_type": "execute_result"
    }
   ],
   "source": [
    "precision_score(y_test,y_pred,average='macro')"
   ]
  }
 ],
 "metadata": {
  "kernelspec": {
   "display_name": "Python 3 (ipykernel)",
   "language": "python",
   "name": "python3"
  },
  "language_info": {
   "codemirror_mode": {
    "name": "ipython",
    "version": 3
   },
   "file_extension": ".py",
   "mimetype": "text/x-python",
   "name": "python",
   "nbconvert_exporter": "python",
   "pygments_lexer": "ipython3",
   "version": "3.9.12"
  }
 },
 "nbformat": 4,
 "nbformat_minor": 5
}
