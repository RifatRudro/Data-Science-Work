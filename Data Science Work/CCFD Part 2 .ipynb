{
 "cells": [
  {
   "cell_type": "code",
   "execution_count": 2,
   "id": "e3876cf0",
   "metadata": {},
   "outputs": [],
   "source": [
    "# This Python 3 environment comes with many helpful analytics libraries installed\n",
    "# It is defined by the kaggle/python Docker image: https://github.com/kaggle/docker-python\n",
    "# For example, here's several helpful packages to load\n",
    "\n",
    "import numpy as np # linear algebra\n",
    "import pandas as pd # data processing, CSV file I/O (e.g. pd.read_csv)\n",
    "\n",
    "# Input data files are available in the read-only \"../input/\" directory\n",
    "# For example, running this (by clicking run or pressing Shift+Enter) will list all files under the input directory\n",
    "\n",
    "import os"
   ]
  },
  {
   "cell_type": "code",
   "execution_count": 3,
   "id": "608b838b",
   "metadata": {},
   "outputs": [],
   "source": [
    "import warnings \n",
    "warnings.filterwarnings('ignore')\n",
    "import matplotlib.pyplot as plt\n",
    "from collections import Counter\n",
    "from sklearn.linear_model import LogisticRegression\n",
    "import xgboost as xgb\n",
    "from sklearn.ensemble import RandomForestClassifier\n",
    "from sklearn.svm import SVC, LinearSVC\n",
    "from sklearn.tree import DecisionTreeClassifier\n",
    "from sklearn.neighbors import KNeighborsClassifier\n",
    "from sklearn.naive_bayes import GaussianNB\n",
    "from sklearn.model_selection import GridSearchCV\n",
    "from sklearn.preprocessing import RobustScaler\n",
    "import matplotlib.pyplot as plt\n",
    "%matplotlib inline\n",
    "import seaborn as sns\n",
    "from sklearn.model_selection import train_test_split\n",
    "from sklearn.metrics import roc_auc_score\n",
    "from sklearn.metrics import accuracy_score\n",
    "pd.pandas.set_option(\"display.max_columns\",None)\n"
   ]
  },
  {
   "cell_type": "code",
   "execution_count": 4,
   "id": "26106380",
   "metadata": {},
   "outputs": [
    {
     "data": {
      "text/html": [
       "<div>\n",
       "<style scoped>\n",
       "    .dataframe tbody tr th:only-of-type {\n",
       "        vertical-align: middle;\n",
       "    }\n",
       "\n",
       "    .dataframe tbody tr th {\n",
       "        vertical-align: top;\n",
       "    }\n",
       "\n",
       "    .dataframe thead th {\n",
       "        text-align: right;\n",
       "    }\n",
       "</style>\n",
       "<table border=\"1\" class=\"dataframe\">\n",
       "  <thead>\n",
       "    <tr style=\"text-align: right;\">\n",
       "      <th></th>\n",
       "      <th>Time</th>\n",
       "      <th>V1</th>\n",
       "      <th>V2</th>\n",
       "      <th>V3</th>\n",
       "      <th>V4</th>\n",
       "      <th>V5</th>\n",
       "      <th>V6</th>\n",
       "      <th>V7</th>\n",
       "      <th>V8</th>\n",
       "      <th>V9</th>\n",
       "      <th>V10</th>\n",
       "      <th>V11</th>\n",
       "      <th>V12</th>\n",
       "      <th>V13</th>\n",
       "      <th>V14</th>\n",
       "      <th>V15</th>\n",
       "      <th>V16</th>\n",
       "      <th>V17</th>\n",
       "      <th>V18</th>\n",
       "      <th>V19</th>\n",
       "      <th>V20</th>\n",
       "      <th>V21</th>\n",
       "      <th>V22</th>\n",
       "      <th>V23</th>\n",
       "      <th>V24</th>\n",
       "      <th>V25</th>\n",
       "      <th>V26</th>\n",
       "      <th>V27</th>\n",
       "      <th>V28</th>\n",
       "      <th>Amount</th>\n",
       "      <th>Class</th>\n",
       "    </tr>\n",
       "  </thead>\n",
       "  <tbody>\n",
       "    <tr>\n",
       "      <th>0</th>\n",
       "      <td>0.0</td>\n",
       "      <td>-1.359807</td>\n",
       "      <td>-0.072781</td>\n",
       "      <td>2.536347</td>\n",
       "      <td>1.378155</td>\n",
       "      <td>-0.338321</td>\n",
       "      <td>0.462388</td>\n",
       "      <td>0.239599</td>\n",
       "      <td>0.098698</td>\n",
       "      <td>0.363787</td>\n",
       "      <td>0.090794</td>\n",
       "      <td>-0.551600</td>\n",
       "      <td>-0.617801</td>\n",
       "      <td>-0.991390</td>\n",
       "      <td>-0.311169</td>\n",
       "      <td>1.468177</td>\n",
       "      <td>-0.470401</td>\n",
       "      <td>0.207971</td>\n",
       "      <td>0.025791</td>\n",
       "      <td>0.403993</td>\n",
       "      <td>0.251412</td>\n",
       "      <td>-0.018307</td>\n",
       "      <td>0.277838</td>\n",
       "      <td>-0.110474</td>\n",
       "      <td>0.066928</td>\n",
       "      <td>0.128539</td>\n",
       "      <td>-0.189115</td>\n",
       "      <td>0.133558</td>\n",
       "      <td>-0.021053</td>\n",
       "      <td>149.62</td>\n",
       "      <td>0</td>\n",
       "    </tr>\n",
       "    <tr>\n",
       "      <th>1</th>\n",
       "      <td>0.0</td>\n",
       "      <td>1.191857</td>\n",
       "      <td>0.266151</td>\n",
       "      <td>0.166480</td>\n",
       "      <td>0.448154</td>\n",
       "      <td>0.060018</td>\n",
       "      <td>-0.082361</td>\n",
       "      <td>-0.078803</td>\n",
       "      <td>0.085102</td>\n",
       "      <td>-0.255425</td>\n",
       "      <td>-0.166974</td>\n",
       "      <td>1.612727</td>\n",
       "      <td>1.065235</td>\n",
       "      <td>0.489095</td>\n",
       "      <td>-0.143772</td>\n",
       "      <td>0.635558</td>\n",
       "      <td>0.463917</td>\n",
       "      <td>-0.114805</td>\n",
       "      <td>-0.183361</td>\n",
       "      <td>-0.145783</td>\n",
       "      <td>-0.069083</td>\n",
       "      <td>-0.225775</td>\n",
       "      <td>-0.638672</td>\n",
       "      <td>0.101288</td>\n",
       "      <td>-0.339846</td>\n",
       "      <td>0.167170</td>\n",
       "      <td>0.125895</td>\n",
       "      <td>-0.008983</td>\n",
       "      <td>0.014724</td>\n",
       "      <td>2.69</td>\n",
       "      <td>0</td>\n",
       "    </tr>\n",
       "    <tr>\n",
       "      <th>2</th>\n",
       "      <td>1.0</td>\n",
       "      <td>-1.358354</td>\n",
       "      <td>-1.340163</td>\n",
       "      <td>1.773209</td>\n",
       "      <td>0.379780</td>\n",
       "      <td>-0.503198</td>\n",
       "      <td>1.800499</td>\n",
       "      <td>0.791461</td>\n",
       "      <td>0.247676</td>\n",
       "      <td>-1.514654</td>\n",
       "      <td>0.207643</td>\n",
       "      <td>0.624501</td>\n",
       "      <td>0.066084</td>\n",
       "      <td>0.717293</td>\n",
       "      <td>-0.165946</td>\n",
       "      <td>2.345865</td>\n",
       "      <td>-2.890083</td>\n",
       "      <td>1.109969</td>\n",
       "      <td>-0.121359</td>\n",
       "      <td>-2.261857</td>\n",
       "      <td>0.524980</td>\n",
       "      <td>0.247998</td>\n",
       "      <td>0.771679</td>\n",
       "      <td>0.909412</td>\n",
       "      <td>-0.689281</td>\n",
       "      <td>-0.327642</td>\n",
       "      <td>-0.139097</td>\n",
       "      <td>-0.055353</td>\n",
       "      <td>-0.059752</td>\n",
       "      <td>378.66</td>\n",
       "      <td>0</td>\n",
       "    </tr>\n",
       "    <tr>\n",
       "      <th>3</th>\n",
       "      <td>1.0</td>\n",
       "      <td>-0.966272</td>\n",
       "      <td>-0.185226</td>\n",
       "      <td>1.792993</td>\n",
       "      <td>-0.863291</td>\n",
       "      <td>-0.010309</td>\n",
       "      <td>1.247203</td>\n",
       "      <td>0.237609</td>\n",
       "      <td>0.377436</td>\n",
       "      <td>-1.387024</td>\n",
       "      <td>-0.054952</td>\n",
       "      <td>-0.226487</td>\n",
       "      <td>0.178228</td>\n",
       "      <td>0.507757</td>\n",
       "      <td>-0.287924</td>\n",
       "      <td>-0.631418</td>\n",
       "      <td>-1.059647</td>\n",
       "      <td>-0.684093</td>\n",
       "      <td>1.965775</td>\n",
       "      <td>-1.232622</td>\n",
       "      <td>-0.208038</td>\n",
       "      <td>-0.108300</td>\n",
       "      <td>0.005274</td>\n",
       "      <td>-0.190321</td>\n",
       "      <td>-1.175575</td>\n",
       "      <td>0.647376</td>\n",
       "      <td>-0.221929</td>\n",
       "      <td>0.062723</td>\n",
       "      <td>0.061458</td>\n",
       "      <td>123.50</td>\n",
       "      <td>0</td>\n",
       "    </tr>\n",
       "    <tr>\n",
       "      <th>4</th>\n",
       "      <td>2.0</td>\n",
       "      <td>-1.158233</td>\n",
       "      <td>0.877737</td>\n",
       "      <td>1.548718</td>\n",
       "      <td>0.403034</td>\n",
       "      <td>-0.407193</td>\n",
       "      <td>0.095921</td>\n",
       "      <td>0.592941</td>\n",
       "      <td>-0.270533</td>\n",
       "      <td>0.817739</td>\n",
       "      <td>0.753074</td>\n",
       "      <td>-0.822843</td>\n",
       "      <td>0.538196</td>\n",
       "      <td>1.345852</td>\n",
       "      <td>-1.119670</td>\n",
       "      <td>0.175121</td>\n",
       "      <td>-0.451449</td>\n",
       "      <td>-0.237033</td>\n",
       "      <td>-0.038195</td>\n",
       "      <td>0.803487</td>\n",
       "      <td>0.408542</td>\n",
       "      <td>-0.009431</td>\n",
       "      <td>0.798278</td>\n",
       "      <td>-0.137458</td>\n",
       "      <td>0.141267</td>\n",
       "      <td>-0.206010</td>\n",
       "      <td>0.502292</td>\n",
       "      <td>0.219422</td>\n",
       "      <td>0.215153</td>\n",
       "      <td>69.99</td>\n",
       "      <td>0</td>\n",
       "    </tr>\n",
       "  </tbody>\n",
       "</table>\n",
       "</div>"
      ],
      "text/plain": [
       "   Time        V1        V2        V3        V4        V5        V6        V7  \\\n",
       "0   0.0 -1.359807 -0.072781  2.536347  1.378155 -0.338321  0.462388  0.239599   \n",
       "1   0.0  1.191857  0.266151  0.166480  0.448154  0.060018 -0.082361 -0.078803   \n",
       "2   1.0 -1.358354 -1.340163  1.773209  0.379780 -0.503198  1.800499  0.791461   \n",
       "3   1.0 -0.966272 -0.185226  1.792993 -0.863291 -0.010309  1.247203  0.237609   \n",
       "4   2.0 -1.158233  0.877737  1.548718  0.403034 -0.407193  0.095921  0.592941   \n",
       "\n",
       "         V8        V9       V10       V11       V12       V13       V14  \\\n",
       "0  0.098698  0.363787  0.090794 -0.551600 -0.617801 -0.991390 -0.311169   \n",
       "1  0.085102 -0.255425 -0.166974  1.612727  1.065235  0.489095 -0.143772   \n",
       "2  0.247676 -1.514654  0.207643  0.624501  0.066084  0.717293 -0.165946   \n",
       "3  0.377436 -1.387024 -0.054952 -0.226487  0.178228  0.507757 -0.287924   \n",
       "4 -0.270533  0.817739  0.753074 -0.822843  0.538196  1.345852 -1.119670   \n",
       "\n",
       "        V15       V16       V17       V18       V19       V20       V21  \\\n",
       "0  1.468177 -0.470401  0.207971  0.025791  0.403993  0.251412 -0.018307   \n",
       "1  0.635558  0.463917 -0.114805 -0.183361 -0.145783 -0.069083 -0.225775   \n",
       "2  2.345865 -2.890083  1.109969 -0.121359 -2.261857  0.524980  0.247998   \n",
       "3 -0.631418 -1.059647 -0.684093  1.965775 -1.232622 -0.208038 -0.108300   \n",
       "4  0.175121 -0.451449 -0.237033 -0.038195  0.803487  0.408542 -0.009431   \n",
       "\n",
       "        V22       V23       V24       V25       V26       V27       V28  \\\n",
       "0  0.277838 -0.110474  0.066928  0.128539 -0.189115  0.133558 -0.021053   \n",
       "1 -0.638672  0.101288 -0.339846  0.167170  0.125895 -0.008983  0.014724   \n",
       "2  0.771679  0.909412 -0.689281 -0.327642 -0.139097 -0.055353 -0.059752   \n",
       "3  0.005274 -0.190321 -1.175575  0.647376 -0.221929  0.062723  0.061458   \n",
       "4  0.798278 -0.137458  0.141267 -0.206010  0.502292  0.219422  0.215153   \n",
       "\n",
       "   Amount  Class  \n",
       "0  149.62      0  \n",
       "1    2.69      0  \n",
       "2  378.66      0  \n",
       "3  123.50      0  \n",
       "4   69.99      0  "
      ]
     },
     "execution_count": 4,
     "metadata": {},
     "output_type": "execute_result"
    }
   ],
   "source": [
    "train=pd.read_csv(\"creditcard.csv\")\n",
    "train.head()"
   ]
  },
  {
   "cell_type": "code",
   "execution_count": null,
   "id": "1f17ea82",
   "metadata": {},
   "outputs": [],
   "source": [
    "# Cluster Based Over Sampling # "
   ]
  },
  {
   "cell_type": "code",
   "execution_count": 5,
   "id": "d5e79502",
   "metadata": {},
   "outputs": [],
   "source": [
    "y=train['Class']\n",
    "train.drop(['Class'],axis=1,inplace=True)"
   ]
  },
  {
   "cell_type": "code",
   "execution_count": 6,
   "id": "52a3b34a",
   "metadata": {},
   "outputs": [],
   "source": [
    "# train test split of the dataset\n",
    "x_train,x_test,y_train,y_test=train_test_split(train,y,test_size=0.2,random_state=42)"
   ]
  },
  {
   "cell_type": "code",
   "execution_count": 7,
   "id": "4bf3bab1",
   "metadata": {},
   "outputs": [],
   "source": [
    "import imblearn"
   ]
  },
  {
   "cell_type": "code",
   "execution_count": 8,
   "id": "fcb3a075",
   "metadata": {},
   "outputs": [
    {
     "name": "stdout",
     "output_type": "stream",
     "text": [
      "original dataset shape: Counter({0: 284315, 1: 492})\n",
      "Resample dataset shape Counter({0: 227451, 1: 227451})\n"
     ]
    }
   ],
   "source": [
    "from imblearn.over_sampling import SMOTE\n",
    "from sklearn.cluster import KMeans\n",
    "from clover.over_sampling import ClusterOverSampler\n",
    "smote = SMOTE(random_state=42)\n",
    "kmeans = KMeans(n_clusters=50, random_state=42)\n",
    "kmeans_smote = ClusterOverSampler(oversampler=smote, clusterer=kmeans)\n",
    "\n",
    "# Fit and resample imbalanced data\n",
    "x_cos, y_cos = kmeans_smote.fit_resample(x_train, y_train)\n",
    "print('original dataset shape:', Counter(y))\n",
    "print('Resample dataset shape', Counter(y_cos))"
   ]
  },
  {
   "cell_type": "code",
   "execution_count": 9,
   "id": "c1b5d863",
   "metadata": {},
   "outputs": [
    {
     "data": {
      "text/plain": [
       "<AxesSubplot:xlabel='Class', ylabel='count'>"
      ]
     },
     "execution_count": 9,
     "metadata": {},
     "output_type": "execute_result"
    },
    {
     "data": {
      "image/png": "[encoded data removed]",
      "text/plain": [
       "<Figure size 432x288 with 1 Axes>"
      ]
     },
     "metadata": {
      "needs_background": "light"
     },
     "output_type": "display_data"
    }
   ],
   "source": [
    "sns.countplot(y_cos)"
   ]
  },
  {
   "cell_type": "code",
   "execution_count": null,
   "id": "f150c331",
   "metadata": {},
   "outputs": [],
   "source": [
    "# SMOTE # "
   ]
  },
  {
   "cell_type": "code",
   "execution_count": 10,
   "id": "1b0b82ce",
   "metadata": {},
   "outputs": [
    {
     "name": "stdout",
     "output_type": "stream",
     "text": [
      "original dataset shape: Counter({0: 284315, 1: 492})\n",
      "Resample dataset shape Counter({0: 227451, 1: 227451})\n"
     ]
    }
   ],
   "source": [
    "# smote\n",
    "oversample = SMOTE()\n",
    "x_smote, y_smote = oversample.fit_resample(x_train, y_train)\n",
    "print('original dataset shape:', Counter(y))\n",
    "print('Resample dataset shape', Counter(y_smote))"
   ]
  },
  {
   "cell_type": "code",
   "execution_count": 11,
   "id": "6bb63bc2",
   "metadata": {},
   "outputs": [
    {
     "data": {
      "text/plain": [
       "<AxesSubplot:xlabel='Class', ylabel='count'>"
      ]
     },
     "execution_count": 11,
     "metadata": {},
     "output_type": "execute_result"
    },
    {
     "data": {
      "image/png": "[encoded data removed]",
      "text/plain": [
       "<Figure size 432x288 with 1 Axes>"
      ]
     },
     "metadata": {
      "needs_background": "light"
     },
     "output_type": "display_data"
    }
   ],
   "source": [
    "sns.countplot(y_smote)"
   ]
  },
  {
   "cell_type": "code",
   "execution_count": null,
   "id": "90959e11",
   "metadata": {},
   "outputs": [],
   "source": [
    "# Near Miss # "
   ]
  },
  {
   "cell_type": "code",
   "execution_count": 12,
   "id": "11a0d898",
   "metadata": {},
   "outputs": [
    {
     "name": "stdout",
     "output_type": "stream",
     "text": [
      "Original dataset shape: Counter({0: 284315, 1: 492})\n",
      "Resample dataset shape: Counter({0: 394, 1: 394})\n"
     ]
    }
   ],
   "source": [
    "from imblearn.under_sampling import NearMiss\n",
    "\n",
    "nm = NearMiss()\n",
    "\n",
    "x_nm, y_nm = nm.fit_resample(x_train, y_train)\n",
    "\n",
    "print('Original dataset shape:', Counter(y))\n",
    "print('Resample dataset shape:', Counter(y_nm))"
   ]
  },
  {
   "cell_type": "code",
   "execution_count": 13,
   "id": "8b9979a3",
   "metadata": {},
   "outputs": [
    {
     "data": {
      "text/plain": [
       "<AxesSubplot:xlabel='Class', ylabel='count'>"
      ]
     },
     "execution_count": 13,
     "metadata": {},
     "output_type": "execute_result"
    },
    {
     "data": {
      "image/png": "[encoded data removed]",
      "text/plain": [
       "<Figure size 432x288 with 1 Axes>"
      ]
     },
     "metadata": {
      "needs_background": "light"
     },
     "output_type": "display_data"
    }
   ],
   "source": [
    "sns.countplot(y_nm)"
   ]
  },
  {
   "cell_type": "code",
   "execution_count": 14,
   "id": "b7f1d052",
   "metadata": {},
   "outputs": [],
   "source": [
    "# Model Building # \n",
    "\n",
    "#1.logistic regression Logistic Regression\n",
    "#2.k-Nearest Neighbors\n",
    "#3.Decision Trees\n",
    "#4.Support Vector Machine\n",
    "#5.Naive Bayes\n",
    "#6.Bagging Decision Tree \n",
    "#7.Boosted Decision Tree \n",
    "#8. Random Forest "
   ]
  },
  {
   "cell_type": "code",
   "execution_count": 15,
   "id": "f5989fb6",
   "metadata": {},
   "outputs": [],
   "source": [
    "# Logistic Regression With SMOTE # "
   ]
  },
  {
   "cell_type": "code",
   "execution_count": 16,
   "id": "4ed79ee2",
   "metadata": {},
   "outputs": [
    {
     "name": "stdout",
     "output_type": "stream",
     "text": [
      "Accuracy Score of Logistic Regression : 0.9833924370633054\n",
      "Confusion Matrix : \n",
      "[[55929   935]\n",
      " [   11    87]]\n",
      "Classification Report : \n",
      "              precision    recall  f1-score   support\n",
      "\n",
      "           0       1.00      0.98      0.99     56864\n",
      "           1       0.09      0.89      0.16        98\n",
      "\n",
      "    accuracy                           0.98     56962\n",
      "   macro avg       0.54      0.94      0.57     56962\n",
      "weighted avg       1.00      0.98      0.99     56962\n",
      "\n"
     ]
    }
   ],
   "source": [
    "from sklearn.metrics import accuracy_score, confusion_matrix, classification_report,roc_auc_score\n",
    "model_1=LogisticRegression()\n",
    "model_1.fit(x_smote,y_smote)\n",
    "pred_1=model_1.predict(x_test)\n",
    "acc_1 = accuracy_score(y_test, pred_1)\n",
    "con_mat = confusion_matrix(y_test, pred_1)\n",
    "clf_report = classification_report(y_test, pred_1)\n",
    "print(f\"Accuracy Score of Logistic Regression : {acc_1}\")\n",
    "print(f\"Confusion Matrix : \\n{con_mat}\")\n",
    "print(f\"Classification Report : \\n{clf_report}\")"
   ]
  },
  {
   "cell_type": "code",
   "execution_count": 17,
   "id": "01c499b1",
   "metadata": {},
   "outputs": [
    {
     "name": "stdout",
     "output_type": "stream",
     "text": [
      "Accuracy Score of Logistic Regression : 0.9861311049471577\n",
      "Confusion Matrix : \n",
      "[[56084   780]\n",
      " [   10    88]]\n",
      "Classification Report : \n",
      "              precision    recall  f1-score   support\n",
      "\n",
      "           0       1.00      0.99      0.99     56864\n",
      "           1       0.10      0.90      0.18        98\n",
      "\n",
      "    accuracy                           0.99     56962\n",
      "   macro avg       0.55      0.94      0.59     56962\n",
      "weighted avg       1.00      0.99      0.99     56962\n",
      "\n"
     ]
    }
   ],
   "source": [
    "# cross validation\n",
    "from sklearn.metrics import accuracy_score, confusion_matrix, classification_report,roc_auc_score\n",
    "from sklearn.linear_model import LogisticRegressionCV\n",
    "model_1=LogisticRegressionCV(cv=10, random_state=0)\n",
    "model_1.fit(x_smote,y_smote)\n",
    "pred_1=model_1.predict(x_test)\n",
    "acc_1 = accuracy_score(y_test, pred_1)\n",
    "con_mat = confusion_matrix(y_test, pred_1)\n",
    "clf_report = classification_report(y_test, pred_1)\n",
    "print(f\"Accuracy Score of Logistic Regression : {acc_1}\")\n",
    "print(f\"Confusion Matrix : \\n{con_mat}\")\n",
    "print(f\"Classification Report : \\n{clf_report}\")"
   ]
  },
  {
   "cell_type": "code",
   "execution_count": 18,
   "id": "f1bb15b5",
   "metadata": {},
   "outputs": [],
   "source": [
    "# Logistic Regression With Near Miss # "
   ]
  },
  {
   "cell_type": "code",
   "execution_count": 19,
   "id": "6c582cb6",
   "metadata": {},
   "outputs": [
    {
     "name": "stdout",
     "output_type": "stream",
     "text": [
      "Accuracy Score of Logistic Regression : 0.7703381201502756\n",
      "Confusion Matrix : \n",
      "[[43787 13077]\n",
      " [    5    93]]\n",
      "Classification Report : \n",
      "              precision    recall  f1-score   support\n",
      "\n",
      "           0       1.00      0.77      0.87     56864\n",
      "           1       0.01      0.95      0.01        98\n",
      "\n",
      "    accuracy                           0.77     56962\n",
      "   macro avg       0.50      0.86      0.44     56962\n",
      "weighted avg       1.00      0.77      0.87     56962\n",
      "\n"
     ]
    }
   ],
   "source": [
    "# near miss\n",
    "from sklearn.metrics import accuracy_score, confusion_matrix, classification_report,roc_auc_score\n",
    "model_2=LogisticRegression()\n",
    "model_2.fit(x_nm,y_nm)\n",
    "pred_2=model_2.predict(x_test)\n",
    "acc_2 = accuracy_score(y_test, pred_2)\n",
    "con_mat = confusion_matrix(y_test, pred_2)\n",
    "clf_report = classification_report(y_test, pred_2)\n",
    "print(f\"Accuracy Score of Logistic Regression : {acc_2}\")\n",
    "print(f\"Confusion Matrix : \\n{con_mat}\")\n",
    "print(f\"Classification Report : \\n{clf_report}\")"
   ]
  },
  {
   "cell_type": "code",
   "execution_count": 20,
   "id": "a824bb53",
   "metadata": {},
   "outputs": [
    {
     "name": "stdout",
     "output_type": "stream",
     "text": [
      "Accuracy Score of Logistic Regression : 0.9861311049471577\n",
      "Confusion Matrix : \n",
      "[[56084   780]\n",
      " [   10    88]]\n",
      "Classification Report : \n",
      "              precision    recall  f1-score   support\n",
      "\n",
      "           0       1.00      0.99      0.99     56864\n",
      "           1       0.10      0.90      0.18        98\n",
      "\n",
      "    accuracy                           0.99     56962\n",
      "   macro avg       0.55      0.94      0.59     56962\n",
      "weighted avg       1.00      0.99      0.99     56962\n",
      "\n"
     ]
    }
   ],
   "source": [
    "# cross validation\n",
    "from sklearn.metrics import accuracy_score, confusion_matrix, classification_report,roc_auc_score\n",
    "from sklearn.linear_model import LogisticRegressionCV\n",
    "model_2=LogisticRegressionCV(cv=5, random_state=1,max_iter=1000)\n",
    "model_2.fit(x_nm,y_nm)\n",
    "pred_2=model_1.predict(x_test)\n",
    "acc_2 = accuracy_score(y_test, pred_2)\n",
    "con_mat = confusion_matrix(y_test, pred_2)\n",
    "clf_report = classification_report(y_test, pred_2)\n",
    "print(f\"Accuracy Score of Logistic Regression : {acc_2}\")\n",
    "print(f\"Confusion Matrix : \\n{con_mat}\")\n",
    "print(f\"Classification Report : \\n{clf_report}\")"
   ]
  },
  {
   "cell_type": "code",
   "execution_count": 21,
   "id": "987acc0b",
   "metadata": {},
   "outputs": [],
   "source": [
    "# Logistic Regression With ClusterOverSampler # "
   ]
  },
  {
   "cell_type": "code",
   "execution_count": 22,
   "id": "aca7524f",
   "metadata": {},
   "outputs": [
    {
     "name": "stdout",
     "output_type": "stream",
     "text": [
      "Accuracy Score of Logistic Regression : 0.9970155542291352\n",
      "Confusion Matrix : \n",
      "[[56724   140]\n",
      " [   30    68]]\n",
      "Classification Report : \n",
      "              precision    recall  f1-score   support\n",
      "\n",
      "           0       1.00      1.00      1.00     56864\n",
      "           1       0.33      0.69      0.44        98\n",
      "\n",
      "    accuracy                           1.00     56962\n",
      "   macro avg       0.66      0.85      0.72     56962\n",
      "weighted avg       1.00      1.00      1.00     56962\n",
      "\n"
     ]
    }
   ],
   "source": [
    "# cluster based sampling\n",
    "from sklearn.metrics import accuracy_score, confusion_matrix, classification_report,roc_auc_score\n",
    "model_3=LogisticRegression()\n",
    "model_3.fit(x_cos,y_cos)\n",
    "pred_3=model_3.predict(x_test)\n",
    "acc_3 = accuracy_score(y_test, pred_3)\n",
    "con_mat = confusion_matrix(y_test, pred_3)\n",
    "clf_report = classification_report(y_test, pred_3)\n",
    "print(f\"Accuracy Score of Logistic Regression : {acc_3}\")\n",
    "print(f\"Confusion Matrix : \\n{con_mat}\")\n",
    "print(f\"Classification Report : \\n{clf_report}\")"
   ]
  },
  {
   "cell_type": "code",
   "execution_count": 24,
   "id": "4419605a",
   "metadata": {},
   "outputs": [
    {
     "name": "stdout",
     "output_type": "stream",
     "text": [
      "Accuracy Score of Logistic Regression : 0.9979459990871107\n",
      "Confusion Matrix : \n",
      "[[56781    83]\n",
      " [   34    64]]\n",
      "Classification Report : \n",
      "              precision    recall  f1-score   support\n",
      "\n",
      "           0       1.00      1.00      1.00     56864\n",
      "           1       0.44      0.65      0.52        98\n",
      "\n",
      "    accuracy                           1.00     56962\n",
      "   macro avg       0.72      0.83      0.76     56962\n",
      "weighted avg       1.00      1.00      1.00     56962\n",
      "\n"
     ]
    }
   ],
   "source": [
    "# cross validation\n",
    "from sklearn.metrics import accuracy_score, confusion_matrix, classification_report,roc_auc_score\n",
    "model_3=LogisticRegressionCV(cv=5,random_state=0)\n",
    "model_3.fit(x_cos,y_cos)\n",
    "pred_3=model_3.predict(x_test)\n",
    "acc_3 = accuracy_score(y_test, pred_3)\n",
    "con_mat = confusion_matrix(y_test, pred_3)\n",
    "clf_report = classification_report(y_test, pred_3)\n",
    "print(f\"Accuracy Score of Logistic Regression : {acc_3}\")\n",
    "print(f\"Confusion Matrix : \\n{con_mat}\")\n",
    "print(f\"Classification Report : \\n{clf_report}\")"
   ]
  },
  {
   "cell_type": "code",
   "execution_count": 25,
   "id": "063077ba",
   "metadata": {},
   "outputs": [],
   "source": [
    "# Decision Tree Classifier with SMOTE # "
   ]
  },
  {
   "cell_type": "code",
   "execution_count": 26,
   "id": "eaf61d67",
   "metadata": {},
   "outputs": [
    {
     "name": "stdout",
     "output_type": "stream",
     "text": [
      "Accuracy Score of Decision Tree : 0.9977002212000983\n",
      "Confusion Matrix : \n",
      "[[56755   109]\n",
      " [   22    76]]\n",
      "Classification Report : \n",
      "              precision    recall  f1-score   support\n",
      "\n",
      "           0       1.00      1.00      1.00     56864\n",
      "           1       0.41      0.78      0.54        98\n",
      "\n",
      "    accuracy                           1.00     56962\n",
      "   macro avg       0.71      0.89      0.77     56962\n",
      "weighted avg       1.00      1.00      1.00     56962\n",
      "\n"
     ]
    }
   ],
   "source": [
    "# decision Tree Classifier\n",
    "model_4=DecisionTreeClassifier()\n",
    "model_4.fit(x_smote,y_smote)\n",
    "pred_4=model_4.predict(x_test)\n",
    "acc_4 = accuracy_score(y_test, pred_4)\n",
    "con_mat = confusion_matrix(y_test, pred_4)\n",
    "clf_report = classification_report(y_test, pred_4)\n",
    "print(f\"Accuracy Score of Decision Tree : {acc_4}\")\n",
    "print(f\"Confusion Matrix : \\n{con_mat}\")\n",
    "print(f\"Classification Report : \\n{clf_report}\")"
   ]
  },
  {
   "cell_type": "code",
   "execution_count": 27,
   "id": "0caf7a32",
   "metadata": {},
   "outputs": [],
   "source": [
    "# Decision Tree With Near Miss # "
   ]
  },
  {
   "cell_type": "code",
   "execution_count": 28,
   "id": "bfacd3f2",
   "metadata": {},
   "outputs": [
    {
     "name": "stdout",
     "output_type": "stream",
     "text": [
      "Accuracy Score of Decision Tree : 0.3832203925423967\n",
      "Confusion Matrix : \n",
      "[[21736 35128]\n",
      " [    5    93]]\n",
      "Classification Report : \n",
      "              precision    recall  f1-score   support\n",
      "\n",
      "           0       1.00      0.38      0.55     56864\n",
      "           1       0.00      0.95      0.01        98\n",
      "\n",
      "    accuracy                           0.38     56962\n",
      "   macro avg       0.50      0.67      0.28     56962\n",
      "weighted avg       1.00      0.38      0.55     56962\n",
      "\n"
     ]
    }
   ],
   "source": [
    "# decision Tree Classifier\n",
    "model_5=DecisionTreeClassifier()\n",
    "model_5.fit(x_nm,y_nm)\n",
    "pred_5=model_5.predict(x_test)\n",
    "acc_5 = accuracy_score(y_test, pred_5)\n",
    "con_mat = confusion_matrix(y_test, pred_5)\n",
    "clf_report = classification_report(y_test, pred_5)\n",
    "print(f\"Accuracy Score of Decision Tree : {acc_5}\")\n",
    "print(f\"Confusion Matrix : \\n{con_mat}\")\n",
    "print(f\"Classification Report : \\n{clf_report}\")"
   ]
  },
  {
   "cell_type": "code",
   "execution_count": 29,
   "id": "b8eccee6",
   "metadata": {},
   "outputs": [],
   "source": [
    "# Decision Tree With ClusterOverSampler # "
   ]
  },
  {
   "cell_type": "code",
   "execution_count": 30,
   "id": "1f8c7459",
   "metadata": {},
   "outputs": [
    {
     "name": "stdout",
     "output_type": "stream",
     "text": [
      "Accuracy Score of Decision Tree : 0.9990871107053826\n",
      "Confusion Matrix : \n",
      "[[56835    29]\n",
      " [   23    75]]\n",
      "Classification Report : \n",
      "              precision    recall  f1-score   support\n",
      "\n",
      "           0       1.00      1.00      1.00     56864\n",
      "           1       0.72      0.77      0.74        98\n",
      "\n",
      "    accuracy                           1.00     56962\n",
      "   macro avg       0.86      0.88      0.87     56962\n",
      "weighted avg       1.00      1.00      1.00     56962\n",
      "\n"
     ]
    }
   ],
   "source": [
    "# decision Tree Classifier\n",
    "model_6=DecisionTreeClassifier()\n",
    "model_6.fit(x_cos,y_cos)\n",
    "pred_6=model_6.predict(x_test)\n",
    "acc_6 = accuracy_score(y_test, pred_6)\n",
    "con_mat = confusion_matrix(y_test, pred_6)\n",
    "clf_report = classification_report(y_test, pred_6)\n",
    "print(f\"Accuracy Score of Decision Tree : {acc_6}\")\n",
    "print(f\"Confusion Matrix : \\n{con_mat}\")\n",
    "print(f\"Classification Report : \\n{clf_report}\")"
   ]
  },
  {
   "cell_type": "code",
   "execution_count": 31,
   "id": "608dbadd",
   "metadata": {},
   "outputs": [],
   "source": [
    "# Model Comparison # "
   ]
  },
  {
   "cell_type": "code",
   "execution_count": 45,
   "id": "1d5d84bf",
   "metadata": {},
   "outputs": [
    {
     "data": {
      "text/html": [
       "<div>\n",
       "<style scoped>\n",
       "    .dataframe tbody tr th:only-of-type {\n",
       "        vertical-align: middle;\n",
       "    }\n",
       "\n",
       "    .dataframe tbody tr th {\n",
       "        vertical-align: top;\n",
       "    }\n",
       "\n",
       "    .dataframe thead th {\n",
       "        text-align: right;\n",
       "    }\n",
       "</style>\n",
       "<table border=\"1\" class=\"dataframe\">\n",
       "  <thead>\n",
       "    <tr style=\"text-align: right;\">\n",
       "      <th></th>\n",
       "      <th>Technique</th>\n",
       "      <th>Score</th>\n",
       "    </tr>\n",
       "  </thead>\n",
       "  <tbody>\n",
       "    <tr>\n",
       "      <th>5</th>\n",
       "      <td>Decision Tree Clover</td>\n",
       "      <td>0.999087</td>\n",
       "    </tr>\n",
       "    <tr>\n",
       "      <th>2</th>\n",
       "      <td>Logistic Clover</td>\n",
       "      <td>0.997946</td>\n",
       "    </tr>\n",
       "    <tr>\n",
       "      <th>3</th>\n",
       "      <td>Decision Tree SMOTE</td>\n",
       "      <td>0.997700</td>\n",
       "    </tr>\n",
       "    <tr>\n",
       "      <th>0</th>\n",
       "      <td>Logistic SMOTE</td>\n",
       "      <td>0.986131</td>\n",
       "    </tr>\n",
       "    <tr>\n",
       "      <th>1</th>\n",
       "      <td>Logistic Near miss</td>\n",
       "      <td>0.986131</td>\n",
       "    </tr>\n",
       "    <tr>\n",
       "      <th>4</th>\n",
       "      <td>Decision Tree Near miss</td>\n",
       "      <td>0.383220</td>\n",
       "    </tr>\n",
       "  </tbody>\n",
       "</table>\n",
       "</div>"
      ],
      "text/plain": [
       "                 Technique     Score\n",
       "5     Decision Tree Clover  0.999087\n",
       "2          Logistic Clover  0.997946\n",
       "3      Decision Tree SMOTE  0.997700\n",
       "0           Logistic SMOTE  0.986131\n",
       "1       Logistic Near miss  0.986131\n",
       "4  Decision Tree Near miss  0.383220"
      ]
     },
     "execution_count": 45,
     "metadata": {},
     "output_type": "execute_result"
    }
   ],
   "source": [
    "d = {'Technique': ['Logistic SMOTE', 'Logistic Near miss','Logistic Clover','Decision Tree SMOTE', 'Decision Tree Near miss',\n",
    "                   'Decision Tree Clover'], 'Score': [acc_1,acc_2,acc_3,acc_4,acc_5,acc_6]}\n",
    "final_df = pd.DataFrame(data=d)\n",
    "\n",
    "# Move column\n",
    "score = final_df['Score']\n",
    "final_df.drop('Score', axis=1, inplace=True)\n",
    "final_df.insert(1, 'Score', score)\n",
    " \n",
    "final_df.sort_values(by=\"Score\",ascending=False)"
   ]
  },
  {
   "cell_type": "code",
   "execution_count": null,
   "id": "1401d4fd",
   "metadata": {},
   "outputs": [],
   "source": []
  }
 ],
 "metadata": {
  "kernelspec": {
   "display_name": "Python 3 (ipykernel)",
   "language": "python",
   "name": "python3"
  },
  "language_info": {
   "codemirror_mode": {
    "name": "ipython",
    "version": 3
   },
   "file_extension": ".py",
   "mimetype": "text/x-python",
   "name": "python",
   "nbconvert_exporter": "python",
   "pygments_lexer": "ipython3",
   "version": "3.9.7"
  }
 },
 "nbformat": 4,
 "nbformat_minor": 5
}
